{
 "cells": [
  {
   "cell_type": "markdown",
   "metadata": {},
   "source": [
    "### Modelos de Aprendizaje Automático - Exploración al tanteo"
   ]
  },
  {
   "cell_type": "markdown",
   "metadata": {},
   "source": [
    "En este notebook, exploramos diferentes modelos de Machine Learning y objetivos de clasificación de condiciones de arbitraje para diferentes bases de datos de rezagos en los precios. Realizamos algunas observaciones preliminares con base en una primera aproximación a los datos. Definimos varios targets y rezagos para la clasificación, definimos un modelo base sobre el cual se establecen métricas de desempeño como punto de referencia. Observamos la incidencia de las variables categóricas, la selección de features yel número de lags en las métricas de desempeño."
   ]
  },
  {
   "cell_type": "markdown",
   "metadata": {},
   "source": [
    "### Definiciones"
   ]
  },
  {
   "cell_type": "code",
   "execution_count": 1,
   "metadata": {},
   "outputs": [
    {
     "name": "stderr",
     "output_type": "stream",
     "text": [
      "Intel(R) Extension for Scikit-learn* enabled (https://github.com/intel/scikit-learn-intelex)\n"
     ]
    }
   ],
   "source": [
    "#Imports\n",
    "import pandas as pd\n",
    "import numpy as np\n",
    "from sklearn.svm import SVC\n",
    "from sklearn.preprocessing import StandardScaler\n",
    "from sklearn.metrics import classification_report\n",
    "from sklearn.model_selection import train_test_split\n",
    "from sklearn.metrics import confusion_matrix\n",
    "import xgboost as xgb\n",
    "from xgboost import XGBClassifier \n",
    "from sklearn.model_selection import cross_val_score, RepeatedKFold,RepeatedStratifiedKFold\n",
    "from sklearn.metrics import confusion_matrix,classification_report\n",
    "import seaborn as sns\n",
    "import matplotlib.pyplot as plt # Matplotlib\n",
    "from sklearn.linear_model import LogisticRegression\n",
    "from sklearn.tree import DecisionTreeClassifier\n",
    "from sklearn.neighbors import KNeighborsClassifier \n",
    "from sklearn.pipeline import Pipeline\n",
    "from sklearn.model_selection import cross_val_score, cross_validate\n",
    "from sklearn.ensemble import HistGradientBoostingClassifier\n",
    "from sklearn.base import BaseEstimator\n",
    "from sklearn.base import ClassifierMixin\n",
    "from sklearn.preprocessing import LabelEncoder\n",
    "from sklearn.base import clone\n",
    "from sklearn.pipeline import _name_estimators\n",
    "import operator\n",
    "from sklearn.preprocessing import LabelEncoder\n",
    "from sklearn.model_selection import train_test_split\n",
    "from sklearn.decomposition import PCA\n",
    "from sklearnex import patch_sklearn\n",
    "patch_sklearn()\n",
    "#from Funciones import *\n",
    "\n",
    "%matplotlib inline\n"
   ]
  },
  {
   "cell_type": "code",
   "execution_count": 2,
   "metadata": {},
   "outputs": [],
   "source": [
    "# Funcion para calcular y visualizar la matriz de confusion con valores normalizados\n",
    "def plotCM(ytrue, ypred, clases=None, normalize = False, ax = None):\n",
    "    \"\"\" Funcion para calcular y visualizar la matriz de confusion\"\"\"\n",
    "    \n",
    "    if clases == None:\n",
    "        clases = list(set(ytrue))\n",
    "        clases.sort() # etiquetas unicas ordenadas alfabeticamente\n",
    "    \n",
    "    CM = confusion_matrix(ytrue,ypred, labels=clases)\n",
    "    \n",
    "    #Normaliza la matriz de confusion dividiendo cada fila por el total de verdaderos\n",
    "    if normalize:\n",
    "        CM = 100*CM / CM.sum(axis=1).reshape(-1,1) #Aprovechando el Broadcasting!\n",
    " \n",
    "    df = pd.DataFrame(CM, index=clases, columns=clases)\n",
    "    df.index.name = 'True'; df.columns.name = 'Predicted'\n",
    "    \n",
    "    sns.heatmap( df, # Visualizando la matriz de confusion\n",
    "             annot=True, fmt='2.1f', cmap='ocean_r',cbar=False,square=True, annot_kws={'fontsize':10}, ax=ax )\n",
    "    \n",
    "    plt.show()"
   ]
  },
  {
   "cell_type": "code",
   "execution_count": 3,
   "metadata": {},
   "outputs": [],
   "source": [
    "#Definimos un clasificador por mayoría de votos para realizar comparaciones posteriormente\n",
    "class MajorityVoteClassifier(BaseEstimator, \n",
    "                             ClassifierMixin):\n",
    "    \"\"\" A majority vote ensemble classifier\n",
    "\n",
    "    Parameters\n",
    "    ----------\n",
    "    classifiers : array-like, shape = [n_classifiers]\n",
    "      Different classifiers for the ensemble\n",
    "\n",
    "    vote : str, {'classlabel', 'probability'} (default='classlabel')\n",
    "      If 'classlabel' the prediction is based on the argmax of\n",
    "        class labels. Else if 'probability', the argmax of\n",
    "        the sum of probabilities is used to predict the class label\n",
    "        (recommended for calibrated classifiers).\n",
    "\n",
    "    weights : array-like, shape = [n_classifiers], optional (default=None)\n",
    "      If a list of `int` or `float` values are provided, the classifiers\n",
    "      are weighted by importance; Uses uniform weights if `weights=None`.\n",
    "\n",
    "    \"\"\"\n",
    "    def __init__(self, classifiers, vote='classlabel', weights=None):\n",
    "\n",
    "        self.classifiers = classifiers\n",
    "        self.named_classifiers = {key: value for key, value\n",
    "                                  in _name_estimators(classifiers)}\n",
    "        self.vote = vote\n",
    "        self.weights = weights\n",
    "\n",
    "    def fit(self, X, y):\n",
    "        \"\"\" Fit classifiers.\n",
    "\n",
    "        Parameters\n",
    "        ----------\n",
    "        X : {array-like, sparse matrix}, shape = [n_examples, n_features]\n",
    "            Matrix of training examples.\n",
    "\n",
    "        y : array-like, shape = [n_examples]\n",
    "            Vector of target class labels.\n",
    "\n",
    "        Returns\n",
    "        -------\n",
    "        self : object\n",
    "\n",
    "        \"\"\"\n",
    "        if self.vote not in ('probability', 'classlabel'):\n",
    "            raise ValueError(f\"vote must be 'probability' or 'classlabel'\"\n",
    "                             f\"; got (vote={self.vote})\")\n",
    "\n",
    "        if self.weights and len(self.weights) != len(self.classifiers):\n",
    "            raise ValueError(f'Number of classifiers and weights must be equal'\n",
    "                             f'; got {len(self.weights)} weights,'\n",
    "                             f' {len(self.classifiers)} classifiers')\n",
    "\n",
    "        # Use LabelEncoder to ensure class labels start with 0, which\n",
    "        # is important for np.argmax call in self.predict\n",
    "        self.lablenc_ = LabelEncoder()\n",
    "        self.lablenc_.fit(y)\n",
    "        self.classes_ = self.lablenc_.classes_\n",
    "        self.classifiers_ = []\n",
    "        for clf in self.classifiers:\n",
    "            fitted_clf = clone(clf).fit(X, self.lablenc_.transform(y))\n",
    "            self.classifiers_.append(fitted_clf)\n",
    "        return self\n",
    "\n",
    "    def predict(self, X):\n",
    "        \"\"\" Predict class labels for X.\n",
    "\n",
    "        Parameters\n",
    "        ----------\n",
    "        X : {array-like, sparse matrix}, shape = [n_examples, n_features]\n",
    "            Matrix of training examples.\n",
    "\n",
    "        Returns\n",
    "        ----------\n",
    "        maj_vote : array-like, shape = [n_examples]\n",
    "            Predicted class labels.\n",
    "            \n",
    "        \"\"\"\n",
    "        if self.vote == 'probability':\n",
    "            maj_vote = np.argmax(self.predict_proba(X), axis=1)\n",
    "        else:  # 'classlabel' vote\n",
    "\n",
    "            #  Collect results from clf.predict calls\n",
    "            predictions = np.asarray([clf.predict(X)\n",
    "                                      for clf in self.classifiers_]).T\n",
    "\n",
    "            maj_vote = np.apply_along_axis(\n",
    "                                      lambda x:\n",
    "                                      np.argmax(np.bincount(x,\n",
    "                                                weights=self.weights)),\n",
    "                                      axis=1,\n",
    "                                      arr=predictions)\n",
    "        maj_vote = self.lablenc_.inverse_transform(maj_vote)\n",
    "        return maj_vote\n",
    "\n",
    "    def predict_proba(self, X):\n",
    "        \"\"\" Predict class probabilities for X.\n",
    "\n",
    "        Parameters\n",
    "        ----------\n",
    "        X : {array-like, sparse matrix}, shape = [n_examples, n_features]\n",
    "            Training vectors, where n_examples is the number of examples and\n",
    "            n_features is the number of features.\n",
    "\n",
    "        Returns\n",
    "        ----------\n",
    "        avg_proba : array-like, shape = [n_examples, n_classes]\n",
    "            Weighted average probability for each class per example.\n",
    "\n",
    "        \"\"\"\n",
    "        probas = np.asarray([clf.predict_proba(X)\n",
    "                             for clf in self.classifiers_])\n",
    "        avg_proba = np.average(probas, axis=0, weights=self.weights)\n",
    "        return avg_proba\n",
    "\n",
    "    def get_params(self, deep=True):\n",
    "        \"\"\" Get classifier parameter names for GridSearch\"\"\"\n",
    "        if not deep:\n",
    "            return super().get_params(deep=False)\n",
    "        else:\n",
    "            out = self.named_classifiers.copy()\n",
    "            for name, step in self.named_classifiers.items():\n",
    "                for key, value in step.get_params(deep=True).items():\n",
    "                    out[f'{name}__{key}'] = value\n",
    "            return out"
   ]
  },
  {
   "cell_type": "markdown",
   "metadata": {},
   "source": [
    "### Datos: tres, cinco y diez lags"
   ]
  },
  {
   "cell_type": "markdown",
   "metadata": {},
   "source": [
    "Utilizaremos la base de datos construida en el Nb. 1 que consta de las condiciones de horario de los mercados, los precios de las variables endógenas, los precios de cierre de la variable exógena, los spreads de precio de interés y las columnas objetivo 'Arbitraje_BE_SL' y 'Arbitraje_BL_SE'."
   ]
  },
  {
   "cell_type": "code",
   "execution_count": 4,
   "metadata": {},
   "outputs": [],
   "source": [
    "base=pd.read_excel(\"arb.xlsx\")"
   ]
  },
  {
   "cell_type": "code",
   "execution_count": 5,
   "metadata": {},
   "outputs": [
    {
     "data": {
      "text/html": [
       "<div>\n",
       "<style scoped>\n",
       "    .dataframe tbody tr th:only-of-type {\n",
       "        vertical-align: middle;\n",
       "    }\n",
       "\n",
       "    .dataframe tbody tr th {\n",
       "        vertical-align: top;\n",
       "    }\n",
       "\n",
       "    .dataframe thead th {\n",
       "        text-align: right;\n",
       "    }\n",
       "</style>\n",
       "<table border=\"1\" class=\"dataframe\">\n",
       "  <thead>\n",
       "    <tr style=\"text-align: right;\">\n",
       "      <th></th>\n",
       "      <th>Unnamed: 0</th>\n",
       "      <th>Date</th>\n",
       "      <th>Hora_COL</th>\n",
       "      <th>Minuto</th>\n",
       "      <th>Hora_NY</th>\n",
       "      <th>Festivo_COL</th>\n",
       "      <th>Festivo_NYSE</th>\n",
       "      <th>Next_Day</th>\n",
       "      <th>Subasta</th>\n",
       "      <th>PFB_ABIERTO</th>\n",
       "      <th>...</th>\n",
       "      <th>USD_BID</th>\n",
       "      <th>USD_ASK</th>\n",
       "      <th>ASK_CIB</th>\n",
       "      <th>BID_CIB</th>\n",
       "      <th>ASK_PFB</th>\n",
       "      <th>BID_PFB</th>\n",
       "      <th>Spread_BE_SL</th>\n",
       "      <th>Spread_BL_SE</th>\n",
       "      <th>Arbitraje_BE_SL</th>\n",
       "      <th>Arbitraje_BL_SE</th>\n",
       "    </tr>\n",
       "  </thead>\n",
       "  <tbody>\n",
       "    <tr>\n",
       "      <th>0</th>\n",
       "      <td>0</td>\n",
       "      <td>2022-01-03</td>\n",
       "      <td>9</td>\n",
       "      <td>54</td>\n",
       "      <td>9</td>\n",
       "      <td>False</td>\n",
       "      <td>False</td>\n",
       "      <td>0</td>\n",
       "      <td>0</td>\n",
       "      <td>1</td>\n",
       "      <td>...</td>\n",
       "      <td>4073.00</td>\n",
       "      <td>4076.9</td>\n",
       "      <td>31.74</td>\n",
       "      <td>31.55</td>\n",
       "      <td>32300</td>\n",
       "      <td>32010</td>\n",
       "      <td>-352.32380</td>\n",
       "      <td>-186.30125</td>\n",
       "      <td>0</td>\n",
       "      <td>0</td>\n",
       "    </tr>\n",
       "    <tr>\n",
       "      <th>1</th>\n",
       "      <td>1</td>\n",
       "      <td>2022-01-03</td>\n",
       "      <td>9</td>\n",
       "      <td>55</td>\n",
       "      <td>9</td>\n",
       "      <td>False</td>\n",
       "      <td>False</td>\n",
       "      <td>0</td>\n",
       "      <td>0</td>\n",
       "      <td>1</td>\n",
       "      <td>...</td>\n",
       "      <td>4072.72</td>\n",
       "      <td>4076.0</td>\n",
       "      <td>31.75</td>\n",
       "      <td>31.58</td>\n",
       "      <td>32300</td>\n",
       "      <td>32290</td>\n",
       "      <td>-75.37175</td>\n",
       "      <td>-157.96754</td>\n",
       "      <td>0</td>\n",
       "      <td>0</td>\n",
       "    </tr>\n",
       "    <tr>\n",
       "      <th>2</th>\n",
       "      <td>2</td>\n",
       "      <td>2022-01-03</td>\n",
       "      <td>9</td>\n",
       "      <td>56</td>\n",
       "      <td>9</td>\n",
       "      <td>False</td>\n",
       "      <td>False</td>\n",
       "      <td>0</td>\n",
       "      <td>0</td>\n",
       "      <td>1</td>\n",
       "      <td>...</td>\n",
       "      <td>4072.72</td>\n",
       "      <td>4076.0</td>\n",
       "      <td>31.76</td>\n",
       "      <td>31.60</td>\n",
       "      <td>32300</td>\n",
       "      <td>32290</td>\n",
       "      <td>-85.56300</td>\n",
       "      <td>-137.60644</td>\n",
       "      <td>0</td>\n",
       "      <td>0</td>\n",
       "    </tr>\n",
       "    <tr>\n",
       "      <th>3</th>\n",
       "      <td>3</td>\n",
       "      <td>2022-01-03</td>\n",
       "      <td>9</td>\n",
       "      <td>57</td>\n",
       "      <td>9</td>\n",
       "      <td>False</td>\n",
       "      <td>False</td>\n",
       "      <td>0</td>\n",
       "      <td>0</td>\n",
       "      <td>1</td>\n",
       "      <td>...</td>\n",
       "      <td>4072.72</td>\n",
       "      <td>4075.0</td>\n",
       "      <td>31.76</td>\n",
       "      <td>31.60</td>\n",
       "      <td>32300</td>\n",
       "      <td>32290</td>\n",
       "      <td>-77.62100</td>\n",
       "      <td>-137.60644</td>\n",
       "      <td>0</td>\n",
       "      <td>0</td>\n",
       "    </tr>\n",
       "    <tr>\n",
       "      <th>4</th>\n",
       "      <td>4</td>\n",
       "      <td>2022-01-03</td>\n",
       "      <td>9</td>\n",
       "      <td>58</td>\n",
       "      <td>9</td>\n",
       "      <td>False</td>\n",
       "      <td>False</td>\n",
       "      <td>0</td>\n",
       "      <td>0</td>\n",
       "      <td>1</td>\n",
       "      <td>...</td>\n",
       "      <td>4072.00</td>\n",
       "      <td>4075.0</td>\n",
       "      <td>31.76</td>\n",
       "      <td>31.62</td>\n",
       "      <td>32300</td>\n",
       "      <td>32290</td>\n",
       "      <td>-77.62100</td>\n",
       "      <td>-122.93550</td>\n",
       "      <td>0</td>\n",
       "      <td>0</td>\n",
       "    </tr>\n",
       "  </tbody>\n",
       "</table>\n",
       "<p>5 rows × 26 columns</p>\n",
       "</div>"
      ],
      "text/plain": [
       "   Unnamed: 0       Date  Hora_COL  Minuto  Hora_NY  Festivo_COL  \\\n",
       "0           0 2022-01-03         9      54        9        False   \n",
       "1           1 2022-01-03         9      55        9        False   \n",
       "2           2 2022-01-03         9      56        9        False   \n",
       "3           3 2022-01-03         9      57        9        False   \n",
       "4           4 2022-01-03         9      58        9        False   \n",
       "\n",
       "   Festivo_NYSE  Next_Day  Subasta  PFB_ABIERTO  ...  USD_BID  USD_ASK  \\\n",
       "0         False         0        0            1  ...  4073.00   4076.9   \n",
       "1         False         0        0            1  ...  4072.72   4076.0   \n",
       "2         False         0        0            1  ...  4072.72   4076.0   \n",
       "3         False         0        0            1  ...  4072.72   4075.0   \n",
       "4         False         0        0            1  ...  4072.00   4075.0   \n",
       "\n",
       "   ASK_CIB  BID_CIB  ASK_PFB  BID_PFB  Spread_BE_SL  Spread_BL_SE  \\\n",
       "0    31.74    31.55    32300    32010    -352.32380    -186.30125   \n",
       "1    31.75    31.58    32300    32290     -75.37175    -157.96754   \n",
       "2    31.76    31.60    32300    32290     -85.56300    -137.60644   \n",
       "3    31.76    31.60    32300    32290     -77.62100    -137.60644   \n",
       "4    31.76    31.62    32300    32290     -77.62100    -122.93550   \n",
       "\n",
       "   Arbitraje_BE_SL  Arbitraje_BL_SE  \n",
       "0                0                0  \n",
       "1                0                0  \n",
       "2                0                0  \n",
       "3                0                0  \n",
       "4                0                0  \n",
       "\n",
       "[5 rows x 26 columns]"
      ]
     },
     "execution_count": 5,
     "metadata": {},
     "output_type": "execute_result"
    }
   ],
   "source": [
    "base.head()"
   ]
  },
  {
   "cell_type": "code",
   "execution_count": 6,
   "metadata": {},
   "outputs": [
    {
     "data": {
      "text/plain": [
       "Index(['Unnamed: 0', 'Date', 'Hora_COL', 'Minuto', 'Hora_NY', 'Festivo_COL',\n",
       "       'Festivo_NYSE', 'Next_Day', 'Subasta', 'PFB_ABIERTO', 'CIB_ABIERTO',\n",
       "       'CIB_close', 'COP_close', 'PFB_close', 'SPX_close', 'tasa_cambio',\n",
       "       'USD_BID', 'USD_ASK', 'ASK_CIB', 'BID_CIB', 'ASK_PFB', 'BID_PFB',\n",
       "       'Spread_BE_SL', 'Spread_BL_SE', 'Arbitraje_BE_SL', 'Arbitraje_BL_SE'],\n",
       "      dtype='object')"
      ]
     },
     "execution_count": 6,
     "metadata": {},
     "output_type": "execute_result"
    }
   ],
   "source": [
    "base.columns"
   ]
  },
  {
   "cell_type": "code",
   "execution_count": 7,
   "metadata": {},
   "outputs": [
    {
     "data": {
      "text/plain": [
       "(50406, 26)"
      ]
     },
     "execution_count": 7,
     "metadata": {},
     "output_type": "execute_result"
    }
   ],
   "source": [
    "base.shape"
   ]
  },
  {
   "cell_type": "markdown",
   "metadata": {},
   "source": [
    "### Funciones para bases de datos con rezagos"
   ]
  },
  {
   "cell_type": "code",
   "execution_count": 8,
   "metadata": {},
   "outputs": [],
   "source": [
    "#Seleccionamos las columnas numéricas con variables numéricas de precio.\n",
    "columnas_precio=['CIB_close', 'COP_close', 'PFB_close', 'SPX_close', 'tasa_cambio',\n",
    "       'USD_BID', 'USD_ASK', 'ASK_CIB', 'BID_CIB', 'ASK_PFB', 'BID_PFB',\n",
    "       'Spread_BE_SL', 'Spread_BL_SE']"
   ]
  },
  {
   "cell_type": "code",
   "execution_count": 9,
   "metadata": {},
   "outputs": [],
   "source": [
    "#Definimos una función para crear rezagos de las columnas\n",
    "def add_lags(data, ric, lags):\n",
    "    cols = []\n",
    "    df = pd.DataFrame(data[ric])\n",
    "    for lag in range(1, lags + 1):\n",
    "        col = 'lag_{}'.format(lag)+'_'+str(ric)  # defines the column name\n",
    "        df[col] = df[ric].shift(lag)  # creates the lagged data column\n",
    "        cols.append(col)  # stores the column name\n",
    "    df.dropna(inplace=True)  # gets rid of incomplete data rows\n",
    "    return df, cols"
   ]
  },
  {
   "cell_type": "code",
   "execution_count": 10,
   "metadata": {},
   "outputs": [],
   "source": [
    "#Definimos una función para crear una base de datos con rezagos a partir de la base original\n",
    "def base_lags(base_all,lags):\n",
    "    base_lags=add_lags(base_all,columnas_precio[0],lags)[0].iloc[:,1:]\n",
    "    for column in columnas_precio[1:]:\n",
    "        bse=add_lags(base_all,column,lags)[0].iloc[:,1:]\n",
    "        base_lags=pd.concat([base_lags,bse],axis=1,join='outer')\n",
    "        \n",
    "    return pd.concat([base.iloc[lags:,:],base_lags],axis=1,join='outer')"
   ]
  },
  {
   "cell_type": "code",
   "execution_count": 11,
   "metadata": {},
   "outputs": [],
   "source": [
    "#Creamos las bases de datos con 3, 5 y 10 rezagos para realizar una exploración preliminar de modelos\n",
    "lags_3=base_lags(base,3)\n",
    "lags_5=base_lags(base,5)\n",
    "lags_10=base_lags(base,10)"
   ]
  },
  {
   "cell_type": "code",
   "execution_count": 12,
   "metadata": {},
   "outputs": [
    {
     "data": {
      "text/html": [
       "<div>\n",
       "<style scoped>\n",
       "    .dataframe tbody tr th:only-of-type {\n",
       "        vertical-align: middle;\n",
       "    }\n",
       "\n",
       "    .dataframe tbody tr th {\n",
       "        vertical-align: top;\n",
       "    }\n",
       "\n",
       "    .dataframe thead th {\n",
       "        text-align: right;\n",
       "    }\n",
       "</style>\n",
       "<table border=\"1\" class=\"dataframe\">\n",
       "  <thead>\n",
       "    <tr style=\"text-align: right;\">\n",
       "      <th></th>\n",
       "      <th>Unnamed: 0</th>\n",
       "      <th>Date</th>\n",
       "      <th>Hora_COL</th>\n",
       "      <th>Minuto</th>\n",
       "      <th>Hora_NY</th>\n",
       "      <th>Festivo_COL</th>\n",
       "      <th>Festivo_NYSE</th>\n",
       "      <th>Next_Day</th>\n",
       "      <th>Subasta</th>\n",
       "      <th>PFB_ABIERTO</th>\n",
       "      <th>...</th>\n",
       "      <th>lag_3_ASK_PFB</th>\n",
       "      <th>lag_1_BID_PFB</th>\n",
       "      <th>lag_2_BID_PFB</th>\n",
       "      <th>lag_3_BID_PFB</th>\n",
       "      <th>lag_1_Spread_BE_SL</th>\n",
       "      <th>lag_2_Spread_BE_SL</th>\n",
       "      <th>lag_3_Spread_BE_SL</th>\n",
       "      <th>lag_1_Spread_BL_SE</th>\n",
       "      <th>lag_2_Spread_BL_SE</th>\n",
       "      <th>lag_3_Spread_BL_SE</th>\n",
       "    </tr>\n",
       "  </thead>\n",
       "  <tbody>\n",
       "    <tr>\n",
       "      <th>3</th>\n",
       "      <td>3</td>\n",
       "      <td>2022-01-03</td>\n",
       "      <td>9</td>\n",
       "      <td>57</td>\n",
       "      <td>9</td>\n",
       "      <td>False</td>\n",
       "      <td>False</td>\n",
       "      <td>0</td>\n",
       "      <td>0</td>\n",
       "      <td>1</td>\n",
       "      <td>...</td>\n",
       "      <td>32300.0</td>\n",
       "      <td>32290.0</td>\n",
       "      <td>32290.0</td>\n",
       "      <td>32010.0</td>\n",
       "      <td>-85.5630</td>\n",
       "      <td>-75.37175</td>\n",
       "      <td>-352.32380</td>\n",
       "      <td>-137.60644</td>\n",
       "      <td>-157.96754</td>\n",
       "      <td>-186.30125</td>\n",
       "    </tr>\n",
       "    <tr>\n",
       "      <th>4</th>\n",
       "      <td>4</td>\n",
       "      <td>2022-01-03</td>\n",
       "      <td>9</td>\n",
       "      <td>58</td>\n",
       "      <td>9</td>\n",
       "      <td>False</td>\n",
       "      <td>False</td>\n",
       "      <td>0</td>\n",
       "      <td>0</td>\n",
       "      <td>1</td>\n",
       "      <td>...</td>\n",
       "      <td>32300.0</td>\n",
       "      <td>32290.0</td>\n",
       "      <td>32290.0</td>\n",
       "      <td>32290.0</td>\n",
       "      <td>-77.6210</td>\n",
       "      <td>-85.56300</td>\n",
       "      <td>-75.37175</td>\n",
       "      <td>-137.60644</td>\n",
       "      <td>-137.60644</td>\n",
       "      <td>-157.96754</td>\n",
       "    </tr>\n",
       "    <tr>\n",
       "      <th>5</th>\n",
       "      <td>5</td>\n",
       "      <td>2022-01-03</td>\n",
       "      <td>9</td>\n",
       "      <td>59</td>\n",
       "      <td>9</td>\n",
       "      <td>False</td>\n",
       "      <td>False</td>\n",
       "      <td>0</td>\n",
       "      <td>0</td>\n",
       "      <td>1</td>\n",
       "      <td>...</td>\n",
       "      <td>32300.0</td>\n",
       "      <td>32290.0</td>\n",
       "      <td>32290.0</td>\n",
       "      <td>32290.0</td>\n",
       "      <td>-77.6210</td>\n",
       "      <td>-77.62100</td>\n",
       "      <td>-85.56300</td>\n",
       "      <td>-122.93550</td>\n",
       "      <td>-137.60644</td>\n",
       "      <td>-137.60644</td>\n",
       "    </tr>\n",
       "    <tr>\n",
       "      <th>6</th>\n",
       "      <td>6</td>\n",
       "      <td>2022-01-03</td>\n",
       "      <td>10</td>\n",
       "      <td>0</td>\n",
       "      <td>10</td>\n",
       "      <td>False</td>\n",
       "      <td>False</td>\n",
       "      <td>0</td>\n",
       "      <td>0</td>\n",
       "      <td>1</td>\n",
       "      <td>...</td>\n",
       "      <td>32300.0</td>\n",
       "      <td>32290.0</td>\n",
       "      <td>32290.0</td>\n",
       "      <td>32290.0</td>\n",
       "      <td>-69.2819</td>\n",
       "      <td>-77.62100</td>\n",
       "      <td>-77.62100</td>\n",
       "      <td>-122.93550</td>\n",
       "      <td>-122.93550</td>\n",
       "      <td>-137.60644</td>\n",
       "    </tr>\n",
       "    <tr>\n",
       "      <th>7</th>\n",
       "      <td>7</td>\n",
       "      <td>2022-01-03</td>\n",
       "      <td>10</td>\n",
       "      <td>1</td>\n",
       "      <td>10</td>\n",
       "      <td>False</td>\n",
       "      <td>False</td>\n",
       "      <td>0</td>\n",
       "      <td>0</td>\n",
       "      <td>1</td>\n",
       "      <td>...</td>\n",
       "      <td>32300.0</td>\n",
       "      <td>32290.0</td>\n",
       "      <td>32290.0</td>\n",
       "      <td>32290.0</td>\n",
       "      <td>-61.7370</td>\n",
       "      <td>-69.28190</td>\n",
       "      <td>-77.62100</td>\n",
       "      <td>-94.09000</td>\n",
       "      <td>-122.93550</td>\n",
       "      <td>-122.93550</td>\n",
       "    </tr>\n",
       "  </tbody>\n",
       "</table>\n",
       "<p>5 rows × 65 columns</p>\n",
       "</div>"
      ],
      "text/plain": [
       "   Unnamed: 0       Date  Hora_COL  Minuto  Hora_NY  Festivo_COL  \\\n",
       "3           3 2022-01-03         9      57        9        False   \n",
       "4           4 2022-01-03         9      58        9        False   \n",
       "5           5 2022-01-03         9      59        9        False   \n",
       "6           6 2022-01-03        10       0       10        False   \n",
       "7           7 2022-01-03        10       1       10        False   \n",
       "\n",
       "   Festivo_NYSE  Next_Day  Subasta  PFB_ABIERTO  ...  lag_3_ASK_PFB  \\\n",
       "3         False         0        0            1  ...        32300.0   \n",
       "4         False         0        0            1  ...        32300.0   \n",
       "5         False         0        0            1  ...        32300.0   \n",
       "6         False         0        0            1  ...        32300.0   \n",
       "7         False         0        0            1  ...        32300.0   \n",
       "\n",
       "   lag_1_BID_PFB  lag_2_BID_PFB  lag_3_BID_PFB  lag_1_Spread_BE_SL  \\\n",
       "3        32290.0        32290.0        32010.0            -85.5630   \n",
       "4        32290.0        32290.0        32290.0            -77.6210   \n",
       "5        32290.0        32290.0        32290.0            -77.6210   \n",
       "6        32290.0        32290.0        32290.0            -69.2819   \n",
       "7        32290.0        32290.0        32290.0            -61.7370   \n",
       "\n",
       "   lag_2_Spread_BE_SL  lag_3_Spread_BE_SL  lag_1_Spread_BL_SE  \\\n",
       "3           -75.37175          -352.32380          -137.60644   \n",
       "4           -85.56300           -75.37175          -137.60644   \n",
       "5           -77.62100           -85.56300          -122.93550   \n",
       "6           -77.62100           -77.62100          -122.93550   \n",
       "7           -69.28190           -77.62100           -94.09000   \n",
       "\n",
       "   lag_2_Spread_BL_SE  lag_3_Spread_BL_SE  \n",
       "3          -157.96754          -186.30125  \n",
       "4          -137.60644          -157.96754  \n",
       "5          -137.60644          -137.60644  \n",
       "6          -122.93550          -137.60644  \n",
       "7          -122.93550          -122.93550  \n",
       "\n",
       "[5 rows x 65 columns]"
      ]
     },
     "execution_count": 12,
     "metadata": {},
     "output_type": "execute_result"
    }
   ],
   "source": [
    "lags_3.head()"
   ]
  },
  {
   "cell_type": "code",
   "execution_count": 13,
   "metadata": {},
   "outputs": [
    {
     "data": {
      "text/html": [
       "<div>\n",
       "<style scoped>\n",
       "    .dataframe tbody tr th:only-of-type {\n",
       "        vertical-align: middle;\n",
       "    }\n",
       "\n",
       "    .dataframe tbody tr th {\n",
       "        vertical-align: top;\n",
       "    }\n",
       "\n",
       "    .dataframe thead th {\n",
       "        text-align: right;\n",
       "    }\n",
       "</style>\n",
       "<table border=\"1\" class=\"dataframe\">\n",
       "  <thead>\n",
       "    <tr style=\"text-align: right;\">\n",
       "      <th></th>\n",
       "      <th>Unnamed: 0</th>\n",
       "      <th>Date</th>\n",
       "      <th>Hora_COL</th>\n",
       "      <th>Minuto</th>\n",
       "      <th>Hora_NY</th>\n",
       "      <th>Festivo_COL</th>\n",
       "      <th>Festivo_NYSE</th>\n",
       "      <th>Next_Day</th>\n",
       "      <th>Subasta</th>\n",
       "      <th>PFB_ABIERTO</th>\n",
       "      <th>...</th>\n",
       "      <th>lag_3_ASK_PFB</th>\n",
       "      <th>lag_1_BID_PFB</th>\n",
       "      <th>lag_2_BID_PFB</th>\n",
       "      <th>lag_3_BID_PFB</th>\n",
       "      <th>lag_1_Spread_BE_SL</th>\n",
       "      <th>lag_2_Spread_BE_SL</th>\n",
       "      <th>lag_3_Spread_BE_SL</th>\n",
       "      <th>lag_1_Spread_BL_SE</th>\n",
       "      <th>lag_2_Spread_BL_SE</th>\n",
       "      <th>lag_3_Spread_BL_SE</th>\n",
       "    </tr>\n",
       "  </thead>\n",
       "  <tbody>\n",
       "    <tr>\n",
       "      <th>50401</th>\n",
       "      <td>50401</td>\n",
       "      <td>2022-05-12</td>\n",
       "      <td>12</td>\n",
       "      <td>55</td>\n",
       "      <td>13</td>\n",
       "      <td>False</td>\n",
       "      <td>False</td>\n",
       "      <td>0</td>\n",
       "      <td>0</td>\n",
       "      <td>1</td>\n",
       "      <td>...</td>\n",
       "      <td>37690.0</td>\n",
       "      <td>37610.0</td>\n",
       "      <td>37610.0</td>\n",
       "      <td>37610.0</td>\n",
       "      <td>-124.76379</td>\n",
       "      <td>-125.24335</td>\n",
       "      <td>-101.91750</td>\n",
       "      <td>-47.130625</td>\n",
       "      <td>-44.626300</td>\n",
       "      <td>-65.831160</td>\n",
       "    </tr>\n",
       "    <tr>\n",
       "      <th>50402</th>\n",
       "      <td>50402</td>\n",
       "      <td>2022-05-12</td>\n",
       "      <td>12</td>\n",
       "      <td>56</td>\n",
       "      <td>13</td>\n",
       "      <td>False</td>\n",
       "      <td>False</td>\n",
       "      <td>0</td>\n",
       "      <td>0</td>\n",
       "      <td>1</td>\n",
       "      <td>...</td>\n",
       "      <td>37690.0</td>\n",
       "      <td>37610.0</td>\n",
       "      <td>37610.0</td>\n",
       "      <td>37610.0</td>\n",
       "      <td>-115.66425</td>\n",
       "      <td>-124.76379</td>\n",
       "      <td>-125.24335</td>\n",
       "      <td>-96.268000</td>\n",
       "      <td>-47.130625</td>\n",
       "      <td>-44.626300</td>\n",
       "    </tr>\n",
       "    <tr>\n",
       "      <th>50403</th>\n",
       "      <td>50403</td>\n",
       "      <td>2022-05-12</td>\n",
       "      <td>12</td>\n",
       "      <td>57</td>\n",
       "      <td>13</td>\n",
       "      <td>False</td>\n",
       "      <td>False</td>\n",
       "      <td>0</td>\n",
       "      <td>0</td>\n",
       "      <td>1</td>\n",
       "      <td>...</td>\n",
       "      <td>37690.0</td>\n",
       "      <td>37610.0</td>\n",
       "      <td>37610.0</td>\n",
       "      <td>37610.0</td>\n",
       "      <td>-115.66425</td>\n",
       "      <td>-115.66425</td>\n",
       "      <td>-124.76379</td>\n",
       "      <td>-81.699000</td>\n",
       "      <td>-96.268000</td>\n",
       "      <td>-47.130625</td>\n",
       "    </tr>\n",
       "    <tr>\n",
       "      <th>50404</th>\n",
       "      <td>50404</td>\n",
       "      <td>2022-05-12</td>\n",
       "      <td>12</td>\n",
       "      <td>58</td>\n",
       "      <td>13</td>\n",
       "      <td>False</td>\n",
       "      <td>False</td>\n",
       "      <td>0</td>\n",
       "      <td>0</td>\n",
       "      <td>1</td>\n",
       "      <td>...</td>\n",
       "      <td>37690.0</td>\n",
       "      <td>37610.0</td>\n",
       "      <td>37610.0</td>\n",
       "      <td>37610.0</td>\n",
       "      <td>-122.49250</td>\n",
       "      <td>-115.66425</td>\n",
       "      <td>-115.66425</td>\n",
       "      <td>-63.424000</td>\n",
       "      <td>-81.699000</td>\n",
       "      <td>-96.268000</td>\n",
       "    </tr>\n",
       "    <tr>\n",
       "      <th>50405</th>\n",
       "      <td>50405</td>\n",
       "      <td>2022-05-12</td>\n",
       "      <td>12</td>\n",
       "      <td>59</td>\n",
       "      <td>13</td>\n",
       "      <td>False</td>\n",
       "      <td>False</td>\n",
       "      <td>0</td>\n",
       "      <td>0</td>\n",
       "      <td>1</td>\n",
       "      <td>...</td>\n",
       "      <td>37680.0</td>\n",
       "      <td>37610.0</td>\n",
       "      <td>37610.0</td>\n",
       "      <td>37610.0</td>\n",
       "      <td>-138.29676</td>\n",
       "      <td>-122.49250</td>\n",
       "      <td>-115.66425</td>\n",
       "      <td>-73.704000</td>\n",
       "      <td>-63.424000</td>\n",
       "      <td>-81.699000</td>\n",
       "    </tr>\n",
       "  </tbody>\n",
       "</table>\n",
       "<p>5 rows × 65 columns</p>\n",
       "</div>"
      ],
      "text/plain": [
       "       Unnamed: 0       Date  Hora_COL  Minuto  Hora_NY  Festivo_COL  \\\n",
       "50401       50401 2022-05-12        12      55       13        False   \n",
       "50402       50402 2022-05-12        12      56       13        False   \n",
       "50403       50403 2022-05-12        12      57       13        False   \n",
       "50404       50404 2022-05-12        12      58       13        False   \n",
       "50405       50405 2022-05-12        12      59       13        False   \n",
       "\n",
       "       Festivo_NYSE  Next_Day  Subasta  PFB_ABIERTO  ...  lag_3_ASK_PFB  \\\n",
       "50401         False         0        0            1  ...        37690.0   \n",
       "50402         False         0        0            1  ...        37690.0   \n",
       "50403         False         0        0            1  ...        37690.0   \n",
       "50404         False         0        0            1  ...        37690.0   \n",
       "50405         False         0        0            1  ...        37680.0   \n",
       "\n",
       "       lag_1_BID_PFB  lag_2_BID_PFB  lag_3_BID_PFB  lag_1_Spread_BE_SL  \\\n",
       "50401        37610.0        37610.0        37610.0          -124.76379   \n",
       "50402        37610.0        37610.0        37610.0          -115.66425   \n",
       "50403        37610.0        37610.0        37610.0          -115.66425   \n",
       "50404        37610.0        37610.0        37610.0          -122.49250   \n",
       "50405        37610.0        37610.0        37610.0          -138.29676   \n",
       "\n",
       "       lag_2_Spread_BE_SL  lag_3_Spread_BE_SL  lag_1_Spread_BL_SE  \\\n",
       "50401          -125.24335          -101.91750          -47.130625   \n",
       "50402          -124.76379          -125.24335          -96.268000   \n",
       "50403          -115.66425          -124.76379          -81.699000   \n",
       "50404          -115.66425          -115.66425          -63.424000   \n",
       "50405          -122.49250          -115.66425          -73.704000   \n",
       "\n",
       "       lag_2_Spread_BL_SE  lag_3_Spread_BL_SE  \n",
       "50401          -44.626300          -65.831160  \n",
       "50402          -47.130625          -44.626300  \n",
       "50403          -96.268000          -47.130625  \n",
       "50404          -81.699000          -96.268000  \n",
       "50405          -63.424000          -81.699000  \n",
       "\n",
       "[5 rows x 65 columns]"
      ]
     },
     "execution_count": 13,
     "metadata": {},
     "output_type": "execute_result"
    }
   ],
   "source": [
    "lags_3.tail()"
   ]
  },
  {
   "cell_type": "code",
   "execution_count": 14,
   "metadata": {},
   "outputs": [
    {
     "data": {
      "text/plain": [
       "0"
      ]
     },
     "execution_count": 14,
     "metadata": {},
     "output_type": "execute_result"
    }
   ],
   "source": [
    "lags_5.duplicated().sum()"
   ]
  },
  {
   "cell_type": "markdown",
   "metadata": {},
   "source": [
    "### Modelos para tres lags:"
   ]
  },
  {
   "cell_type": "code",
   "execution_count": 15,
   "metadata": {},
   "outputs": [
    {
     "data": {
      "text/plain": [
       "Index(['Unnamed: 0', 'Date', 'Hora_COL', 'Minuto', 'Hora_NY', 'Festivo_COL',\n",
       "       'Festivo_NYSE', 'Next_Day', 'Subasta', 'PFB_ABIERTO', 'CIB_ABIERTO',\n",
       "       'CIB_close', 'COP_close', 'PFB_close', 'SPX_close', 'tasa_cambio',\n",
       "       'USD_BID', 'USD_ASK', 'ASK_CIB', 'BID_CIB', 'ASK_PFB', 'BID_PFB',\n",
       "       'Spread_BE_SL', 'Spread_BL_SE', 'Arbitraje_BE_SL', 'Arbitraje_BL_SE',\n",
       "       'lag_1_CIB_close', 'lag_2_CIB_close', 'lag_3_CIB_close',\n",
       "       'lag_1_COP_close', 'lag_2_COP_close', 'lag_3_COP_close',\n",
       "       'lag_1_PFB_close', 'lag_2_PFB_close', 'lag_3_PFB_close',\n",
       "       'lag_1_SPX_close', 'lag_2_SPX_close', 'lag_3_SPX_close',\n",
       "       'lag_1_tasa_cambio', 'lag_2_tasa_cambio', 'lag_3_tasa_cambio',\n",
       "       'lag_1_USD_BID', 'lag_2_USD_BID', 'lag_3_USD_BID', 'lag_1_USD_ASK',\n",
       "       'lag_2_USD_ASK', 'lag_3_USD_ASK', 'lag_1_ASK_CIB', 'lag_2_ASK_CIB',\n",
       "       'lag_3_ASK_CIB', 'lag_1_BID_CIB', 'lag_2_BID_CIB', 'lag_3_BID_CIB',\n",
       "       'lag_1_ASK_PFB', 'lag_2_ASK_PFB', 'lag_3_ASK_PFB', 'lag_1_BID_PFB',\n",
       "       'lag_2_BID_PFB', 'lag_3_BID_PFB', 'lag_1_Spread_BE_SL',\n",
       "       'lag_2_Spread_BE_SL', 'lag_3_Spread_BE_SL', 'lag_1_Spread_BL_SE',\n",
       "       'lag_2_Spread_BL_SE', 'lag_3_Spread_BL_SE'],\n",
       "      dtype='object')"
      ]
     },
     "execution_count": 15,
     "metadata": {},
     "output_type": "execute_result"
    }
   ],
   "source": [
    "lags_3.columns"
   ]
  },
  {
   "cell_type": "code",
   "execution_count": 16,
   "metadata": {},
   "outputs": [],
   "source": [
    "# Hacemos un split de la base con el objetivo de crear los conjuntos de entrenamiento y prueba.\n",
    "X = lags_3[['lag_1_CIB_close', 'lag_2_CIB_close', 'lag_3_CIB_close',\n",
    "       'lag_1_COP_close', 'lag_2_COP_close', 'lag_3_COP_close',\n",
    "       'lag_1_PFB_close', 'lag_2_PFB_close', 'lag_3_PFB_close',\n",
    "       'lag_1_SPX_close', 'lag_2_SPX_close', 'lag_3_SPX_close',\n",
    "       'lag_1_tasa_cambio', 'lag_2_tasa_cambio', 'lag_3_tasa_cambio',\n",
    "       'lag_1_USD_BID', 'lag_2_USD_BID', 'lag_3_USD_BID', 'lag_1_USD_ASK',\n",
    "       'lag_2_USD_ASK', 'lag_3_USD_ASK', 'lag_1_ASK_CIB', 'lag_2_ASK_CIB',\n",
    "       'lag_3_ASK_CIB', 'lag_1_BID_CIB', 'lag_2_BID_CIB', 'lag_3_BID_CIB',\n",
    "       'lag_1_ASK_PFB', 'lag_2_ASK_PFB', 'lag_3_ASK_PFB', 'lag_1_BID_PFB',\n",
    "       'lag_2_BID_PFB', 'lag_3_BID_PFB', 'lag_1_Spread_BE_SL',\n",
    "       'lag_2_Spread_BE_SL', 'lag_3_Spread_BE_SL', 'lag_1_Spread_BL_SE',\n",
    "       'lag_2_Spread_BL_SE', 'lag_3_Spread_BL_SE']]\n",
    "y_BL_SE=lags_3['Arbitraje_BL_SE'] #Primer target\n",
    "y_BE_SL=lags_3['Arbitraje_BE_SL'] #Segundo target"
   ]
  },
  {
   "cell_type": "markdown",
   "metadata": {},
   "source": [
    "### Targets"
   ]
  },
  {
   "cell_type": "code",
   "execution_count": 17,
   "metadata": {},
   "outputs": [
    {
     "data": {
      "text/plain": [
       "50403"
      ]
     },
     "execution_count": 17,
     "metadata": {},
     "output_type": "execute_result"
    }
   ],
   "source": [
    "## Datos en la funcion objetivo\n",
    "len(y_BL_SE)"
   ]
  },
  {
   "cell_type": "code",
   "execution_count": 18,
   "metadata": {},
   "outputs": [
    {
     "data": {
      "text/plain": [
       "6320"
      ]
     },
     "execution_count": 18,
     "metadata": {},
     "output_type": "execute_result"
    }
   ],
   "source": [
    "# Cantidad de arbitrajes del tipo compra local (BL), venta externa (SE)\n",
    "np.sum(y_BL_SE)"
   ]
  },
  {
   "cell_type": "code",
   "execution_count": 19,
   "metadata": {},
   "outputs": [
    {
     "data": {
      "text/plain": [
       "3147"
      ]
     },
     "execution_count": 19,
     "metadata": {},
     "output_type": "execute_result"
    }
   ],
   "source": [
    "#Cantidad de arbitrajes del tipo compra externa (BE), venta local (SL)\n",
    "np.sum(y_BE_SL)"
   ]
  },
  {
   "cell_type": "code",
   "execution_count": 20,
   "metadata": {},
   "outputs": [],
   "source": [
    "# y_arb será un vector de arbitrajes independientes de la categoría\n",
    "y_arb=[]\n",
    "for i in range(len(X)):\n",
    "    if (y_BE_SL.loc[i+3]==1 or y_BL_SE.loc[i+3]==1):\n",
    "        y_arb.append(1)\n",
    "    else:\n",
    "        y_arb.append(0)"
   ]
  },
  {
   "cell_type": "code",
   "execution_count": 21,
   "metadata": {},
   "outputs": [],
   "source": [
    "#y_cat será un vetor multiclase de arbitrajes\n",
    "y_cat=[]\n",
    "for i in range(len(X)):\n",
    "    if y_BE_SL.loc[i+3]==1: \n",
    "        y_cat.append(1)\n",
    "    elif y_BL_SE.loc[i+3]==1:\n",
    "        y_cat.append(2)\n",
    "    else:\n",
    "        y_cat.append(0)"
   ]
  },
  {
   "cell_type": "code",
   "execution_count": 22,
   "metadata": {},
   "outputs": [
    {
     "data": {
      "text/plain": [
       "9467"
      ]
     },
     "execution_count": 22,
     "metadata": {},
     "output_type": "execute_result"
    }
   ],
   "source": [
    "np.sum(y_arb) #total de arbitrajes independiente de la categoría"
   ]
  },
  {
   "cell_type": "code",
   "execution_count": 23,
   "metadata": {},
   "outputs": [
    {
     "data": {
      "text/html": [
       "<div>\n",
       "<style scoped>\n",
       "    .dataframe tbody tr th:only-of-type {\n",
       "        vertical-align: middle;\n",
       "    }\n",
       "\n",
       "    .dataframe tbody tr th {\n",
       "        vertical-align: top;\n",
       "    }\n",
       "\n",
       "    .dataframe thead th {\n",
       "        text-align: right;\n",
       "    }\n",
       "</style>\n",
       "<table border=\"1\" class=\"dataframe\">\n",
       "  <thead>\n",
       "    <tr style=\"text-align: right;\">\n",
       "      <th></th>\n",
       "      <th>lag_1_CIB_close</th>\n",
       "      <th>lag_2_CIB_close</th>\n",
       "      <th>lag_3_CIB_close</th>\n",
       "      <th>lag_1_COP_close</th>\n",
       "      <th>lag_2_COP_close</th>\n",
       "      <th>lag_3_COP_close</th>\n",
       "      <th>lag_1_PFB_close</th>\n",
       "      <th>lag_2_PFB_close</th>\n",
       "      <th>lag_3_PFB_close</th>\n",
       "      <th>lag_1_SPX_close</th>\n",
       "      <th>...</th>\n",
       "      <th>lag_3_ASK_PFB</th>\n",
       "      <th>lag_1_BID_PFB</th>\n",
       "      <th>lag_2_BID_PFB</th>\n",
       "      <th>lag_3_BID_PFB</th>\n",
       "      <th>lag_1_Spread_BE_SL</th>\n",
       "      <th>lag_2_Spread_BE_SL</th>\n",
       "      <th>lag_3_Spread_BE_SL</th>\n",
       "      <th>lag_1_Spread_BL_SE</th>\n",
       "      <th>lag_2_Spread_BL_SE</th>\n",
       "      <th>lag_3_Spread_BL_SE</th>\n",
       "    </tr>\n",
       "  </thead>\n",
       "  <tbody>\n",
       "    <tr>\n",
       "      <th>3</th>\n",
       "      <td>31.6697</td>\n",
       "      <td>31.5800</td>\n",
       "      <td>31.5800</td>\n",
       "      <td>4075.00</td>\n",
       "      <td>4075.00</td>\n",
       "      <td>4075.00</td>\n",
       "      <td>32300.0</td>\n",
       "      <td>32000.0</td>\n",
       "      <td>32000.0</td>\n",
       "      <td>36366.59</td>\n",
       "      <td>...</td>\n",
       "      <td>32300.0</td>\n",
       "      <td>32290.0</td>\n",
       "      <td>32290.0</td>\n",
       "      <td>32010.0</td>\n",
       "      <td>-85.5630</td>\n",
       "      <td>-75.37175</td>\n",
       "      <td>-352.32380</td>\n",
       "      <td>-137.60644</td>\n",
       "      <td>-157.96754</td>\n",
       "      <td>-186.30125</td>\n",
       "    </tr>\n",
       "    <tr>\n",
       "      <th>4</th>\n",
       "      <td>31.7300</td>\n",
       "      <td>31.6697</td>\n",
       "      <td>31.5800</td>\n",
       "      <td>4073.86</td>\n",
       "      <td>4075.00</td>\n",
       "      <td>4075.00</td>\n",
       "      <td>32300.0</td>\n",
       "      <td>32300.0</td>\n",
       "      <td>32000.0</td>\n",
       "      <td>36389.77</td>\n",
       "      <td>...</td>\n",
       "      <td>32300.0</td>\n",
       "      <td>32290.0</td>\n",
       "      <td>32290.0</td>\n",
       "      <td>32290.0</td>\n",
       "      <td>-77.6210</td>\n",
       "      <td>-85.56300</td>\n",
       "      <td>-75.37175</td>\n",
       "      <td>-137.60644</td>\n",
       "      <td>-137.60644</td>\n",
       "      <td>-157.96754</td>\n",
       "    </tr>\n",
       "    <tr>\n",
       "      <th>5</th>\n",
       "      <td>31.6800</td>\n",
       "      <td>31.7300</td>\n",
       "      <td>31.6697</td>\n",
       "      <td>4072.72</td>\n",
       "      <td>4073.86</td>\n",
       "      <td>4075.00</td>\n",
       "      <td>32300.0</td>\n",
       "      <td>32300.0</td>\n",
       "      <td>32300.0</td>\n",
       "      <td>36389.36</td>\n",
       "      <td>...</td>\n",
       "      <td>32300.0</td>\n",
       "      <td>32290.0</td>\n",
       "      <td>32290.0</td>\n",
       "      <td>32290.0</td>\n",
       "      <td>-77.6210</td>\n",
       "      <td>-77.62100</td>\n",
       "      <td>-85.56300</td>\n",
       "      <td>-122.93550</td>\n",
       "      <td>-137.60644</td>\n",
       "      <td>-137.60644</td>\n",
       "    </tr>\n",
       "    <tr>\n",
       "      <th>6</th>\n",
       "      <td>31.6800</td>\n",
       "      <td>31.6800</td>\n",
       "      <td>31.7300</td>\n",
       "      <td>4072.00</td>\n",
       "      <td>4072.72</td>\n",
       "      <td>4073.86</td>\n",
       "      <td>32300.0</td>\n",
       "      <td>32300.0</td>\n",
       "      <td>32300.0</td>\n",
       "      <td>36356.86</td>\n",
       "      <td>...</td>\n",
       "      <td>32300.0</td>\n",
       "      <td>32290.0</td>\n",
       "      <td>32290.0</td>\n",
       "      <td>32290.0</td>\n",
       "      <td>-69.2819</td>\n",
       "      <td>-77.62100</td>\n",
       "      <td>-77.62100</td>\n",
       "      <td>-122.93550</td>\n",
       "      <td>-122.93550</td>\n",
       "      <td>-137.60644</td>\n",
       "    </tr>\n",
       "    <tr>\n",
       "      <th>7</th>\n",
       "      <td>31.6200</td>\n",
       "      <td>31.6800</td>\n",
       "      <td>31.6800</td>\n",
       "      <td>4072.00</td>\n",
       "      <td>4072.00</td>\n",
       "      <td>4072.72</td>\n",
       "      <td>32300.0</td>\n",
       "      <td>32300.0</td>\n",
       "      <td>32300.0</td>\n",
       "      <td>36351.53</td>\n",
       "      <td>...</td>\n",
       "      <td>32300.0</td>\n",
       "      <td>32290.0</td>\n",
       "      <td>32290.0</td>\n",
       "      <td>32290.0</td>\n",
       "      <td>-61.7370</td>\n",
       "      <td>-69.28190</td>\n",
       "      <td>-77.62100</td>\n",
       "      <td>-94.09000</td>\n",
       "      <td>-122.93550</td>\n",
       "      <td>-122.93550</td>\n",
       "    </tr>\n",
       "  </tbody>\n",
       "</table>\n",
       "<p>5 rows × 39 columns</p>\n",
       "</div>"
      ],
      "text/plain": [
       "   lag_1_CIB_close  lag_2_CIB_close  lag_3_CIB_close  lag_1_COP_close  \\\n",
       "3          31.6697          31.5800          31.5800          4075.00   \n",
       "4          31.7300          31.6697          31.5800          4073.86   \n",
       "5          31.6800          31.7300          31.6697          4072.72   \n",
       "6          31.6800          31.6800          31.7300          4072.00   \n",
       "7          31.6200          31.6800          31.6800          4072.00   \n",
       "\n",
       "   lag_2_COP_close  lag_3_COP_close  lag_1_PFB_close  lag_2_PFB_close  \\\n",
       "3          4075.00          4075.00          32300.0          32000.0   \n",
       "4          4075.00          4075.00          32300.0          32300.0   \n",
       "5          4073.86          4075.00          32300.0          32300.0   \n",
       "6          4072.72          4073.86          32300.0          32300.0   \n",
       "7          4072.00          4072.72          32300.0          32300.0   \n",
       "\n",
       "   lag_3_PFB_close  lag_1_SPX_close  ...  lag_3_ASK_PFB  lag_1_BID_PFB  \\\n",
       "3          32000.0         36366.59  ...        32300.0        32290.0   \n",
       "4          32000.0         36389.77  ...        32300.0        32290.0   \n",
       "5          32300.0         36389.36  ...        32300.0        32290.0   \n",
       "6          32300.0         36356.86  ...        32300.0        32290.0   \n",
       "7          32300.0         36351.53  ...        32300.0        32290.0   \n",
       "\n",
       "   lag_2_BID_PFB  lag_3_BID_PFB  lag_1_Spread_BE_SL  lag_2_Spread_BE_SL  \\\n",
       "3        32290.0        32010.0            -85.5630           -75.37175   \n",
       "4        32290.0        32290.0            -77.6210           -85.56300   \n",
       "5        32290.0        32290.0            -77.6210           -77.62100   \n",
       "6        32290.0        32290.0            -69.2819           -77.62100   \n",
       "7        32290.0        32290.0            -61.7370           -69.28190   \n",
       "\n",
       "   lag_3_Spread_BE_SL  lag_1_Spread_BL_SE  lag_2_Spread_BL_SE  \\\n",
       "3          -352.32380          -137.60644          -157.96754   \n",
       "4           -75.37175          -137.60644          -137.60644   \n",
       "5           -85.56300          -122.93550          -137.60644   \n",
       "6           -77.62100          -122.93550          -122.93550   \n",
       "7           -77.62100           -94.09000          -122.93550   \n",
       "\n",
       "   lag_3_Spread_BL_SE  \n",
       "3          -186.30125  \n",
       "4          -157.96754  \n",
       "5          -137.60644  \n",
       "6          -137.60644  \n",
       "7          -122.93550  \n",
       "\n",
       "[5 rows x 39 columns]"
      ]
     },
     "execution_count": 23,
     "metadata": {},
     "output_type": "execute_result"
    }
   ],
   "source": [
    "X.head() #Conjunto de variables independientes"
   ]
  },
  {
   "cell_type": "markdown",
   "metadata": {},
   "source": [
    "### Modelos para categoría Buy Local / Sell Externo"
   ]
  },
  {
   "cell_type": "code",
   "execution_count": 24,
   "metadata": {},
   "outputs": [],
   "source": [
    "#Estandarizamos la base\n",
    "X_std=StandardScaler().fit_transform(X)"
   ]
  },
  {
   "cell_type": "code",
   "execution_count": 25,
   "metadata": {},
   "outputs": [],
   "source": [
    "#Conjunto de entrenamiento y test estratificado para la categoría respectiva\n",
    "X_train, X_test, y_train, y_test = train_test_split(X_std, y_BL_SE, test_size=0.3, random_state=0, stratify=y_BL_SE)"
   ]
  },
  {
   "cell_type": "markdown",
   "metadata": {},
   "source": [
    "### Modelos Base:"
   ]
  },
  {
   "cell_type": "markdown",
   "metadata": {},
   "source": [
    "Para el modelo base elegiremos un ensemble de mayoría de votos construido a partir de tres instancias de modelos de clasificación simples: una regresión logistica, un árbol de decisión y un clasificador de vecinos más cercanos."
   ]
  },
  {
   "cell_type": "code",
   "execution_count": 26,
   "metadata": {},
   "outputs": [
    {
     "name": "stdout",
     "output_type": "stream",
     "text": [
      "10-fold cross validation:\n",
      "\n",
      "Modelo: Logistic regression\n",
      "Accuracy: 0.91 (+/- 0.00) [Logistic regression]\n",
      "Precision: 0.89 (+/- 0.01) [Logistic regression]\n",
      "Recall: 0.68 (+/- 0.01) [Logistic regression]\n",
      "f1_score: 0.73 (+/- 0.01) [Logistic regression]\n",
      "Modelo: Decision tree\n",
      "Accuracy: 0.94 (+/- 0.00) [Decision tree]\n",
      "Precision: 0.83 (+/- 0.01) [Decision tree]\n",
      "Recall: 0.92 (+/- 0.01) [Decision tree]\n",
      "f1_score: 0.87 (+/- 0.01) [Decision tree]\n",
      "Modelo: KNN\n",
      "Accuracy: 0.95 (+/- 0.00) [KNN]\n",
      "Precision: 0.88 (+/- 0.01) [KNN]\n",
      "Recall: 0.87 (+/- 0.01) [KNN]\n",
      "f1_score: 0.87 (+/- 0.01) [KNN]\n"
     ]
    }
   ],
   "source": [
    "#Elegimos algunos modelos básicos y comparamos sus métricas de rendimiento\n",
    "clf1 = LogisticRegression(multi_class='ovr',\n",
    "                          solver='lbfgs',\n",
    "                         max_iter=500)\n",
    "\n",
    "clf2 = DecisionTreeClassifier(max_depth=1,\n",
    "                              criterion='entropy',\n",
    "                              random_state=0)\n",
    "\n",
    "clf3 = KNeighborsClassifier(n_neighbors=5,\n",
    "                            p=2,\n",
    "                            metric='minkowski')\n",
    "\n",
    "pipe1 = Pipeline([['sc', StandardScaler()], #creamos los pipes, no obstante la base ya está estandarizada\n",
    "                  ['clf', clf1]])\n",
    "pipe3 = Pipeline([['sc', StandardScaler()],\n",
    "                  ['clf', clf3]])\n",
    "\n",
    "clf_labels = ['Logistic regression', 'Decision tree', 'KNN']\n",
    "\n",
    "print('10-fold cross validation:\\n')\n",
    "for clf, label in zip([pipe1, clf2, pipe3], clf_labels): #[pipe1, clf2, pipe3]\n",
    "    scores = cross_validate(estimator=clf,\n",
    "                             X=X_train,\n",
    "                             y=y_train,\n",
    "                             cv=10,\n",
    "                             scoring=('accuracy','precision_macro', 'recall_macro', 'f1_macro'))\n",
    "    print(f'Modelo: {label}')\n",
    "  \n",
    "    print(f'Accuracy: {scores.get(\"test_accuracy\").mean():.2f} '\n",
    "          f'(+/- {scores.get(\"test_accuracy\").std():.2f}) [{label}]');\n",
    "\n",
    "    print(f'Precision: {scores.get(\"test_precision_macro\").mean():.2f} '\n",
    "          f'(+/- {scores.get(\"test_precision_macro\").std():.2f}) [{label}]');\n",
    "\n",
    "    print(f'Recall: {scores.get(\"test_recall_macro\").mean():.2f} '\n",
    "          f'(+/- {scores.get(\"test_recall_macro\").std():.2f}) [{label}]');\n",
    "\n",
    "    print(f'f1_score: {scores.get(\"test_f1_macro\").mean():.2f} '\n",
    "          f'(+/- {scores.get(\"test_f1_macro\").std():.2f}) [{label}]');"
   ]
  },
  {
   "cell_type": "code",
   "execution_count": 27,
   "metadata": {},
   "outputs": [
    {
     "name": "stdout",
     "output_type": "stream",
     "text": [
      "Modelo: Logistic regression\n",
      "Accuracy: 0.91 (+/- 0.00) [Logistic regression]\n",
      "Precision: 0.89 (+/- 0.01) [Logistic regression]\n",
      "Recall: 0.68 (+/- 0.01) [Logistic regression]\n",
      "f1_score: 0.73 (+/- 0.01) [Logistic regression]\n",
      "Modelo: Decision tree\n",
      "Accuracy: 0.94 (+/- 0.00) [Decision tree]\n",
      "Precision: 0.83 (+/- 0.01) [Decision tree]\n",
      "Recall: 0.92 (+/- 0.01) [Decision tree]\n",
      "f1_score: 0.87 (+/- 0.01) [Decision tree]\n",
      "Modelo: KNN\n",
      "Accuracy: 0.95 (+/- 0.00) [KNN]\n",
      "Precision: 0.88 (+/- 0.01) [KNN]\n",
      "Recall: 0.87 (+/- 0.01) [KNN]\n",
      "f1_score: 0.87 (+/- 0.01) [KNN]\n",
      "Modelo: Majority voting\n",
      "Accuracy: 0.95 (+/- 0.00) [Majority voting]\n",
      "Precision: 0.89 (+/- 0.01) [Majority voting]\n",
      "Recall: 0.86 (+/- 0.01) [Majority voting]\n",
      "f1_score: 0.88 (+/- 0.01) [Majority voting]\n"
     ]
    }
   ],
   "source": [
    "# Observamos la mejora en los resultados con un  Majority Rule (hard) Voting\n",
    "\n",
    "mv_clf = MajorityVoteClassifier(classifiers=[pipe1, clf2, pipe3])\n",
    "\n",
    "clf_labels += ['Majority voting']\n",
    "all_clf = [pipe1, clf2, pipe3, mv_clf]\n",
    "\n",
    "for clf, label in zip(all_clf, clf_labels):\n",
    "    scores = cross_validate(estimator=clf,\n",
    "                             X=X_train,\n",
    "                             y=y_train,\n",
    "                             cv=10,\n",
    "                             scoring=('accuracy','precision_macro', 'recall_macro', 'f1_macro'))\n",
    "    print(f'Modelo: {label}')\n",
    "  \n",
    "    print(f'Accuracy: {scores.get(\"test_accuracy\").mean():.2f} '\n",
    "          f'(+/- {scores.get(\"test_accuracy\").std():.2f}) [{label}]');\n",
    "\n",
    "    print(f'Precision: {scores.get(\"test_precision_macro\").mean():.2f} '\n",
    "          f'(+/- {scores.get(\"test_precision_macro\").std():.2f}) [{label}]');\n",
    "\n",
    "    print(f'Recall: {scores.get(\"test_recall_macro\").mean():.2f} '\n",
    "          f'(+/- {scores.get(\"test_recall_macro\").std():.2f}) [{label}]');\n",
    "\n",
    "    print(f'f1_score: {scores.get(\"test_f1_macro\").mean():.2f} '\n",
    "          f'(+/- {scores.get(\"test_f1_macro\").std():.2f}) [{label}]');"
   ]
  },
  {
   "cell_type": "markdown",
   "metadata": {},
   "source": [
    "### Visualización Resultados: Modelo Base"
   ]
  },
  {
   "cell_type": "code",
   "execution_count": 28,
   "metadata": {},
   "outputs": [],
   "source": [
    "#Ajustamos el clasificador de mayoría de votos con los conjuntos de entrenamiento\n",
    "mv_clf = MajorityVoteClassifier(classifiers=[pipe1, clf2, pipe3]).fit(X_train,y_train)"
   ]
  },
  {
   "cell_type": "code",
   "execution_count": 29,
   "metadata": {},
   "outputs": [
    {
     "data": {
      "image/png": "[encoded data removed]",
      "text/plain": [
       "<Figure size 432x288 with 1 Axes>"
      ]
     },
     "metadata": {
      "needs_background": "light"
     },
     "output_type": "display_data"
    }
   ],
   "source": [
    "#Realizamos prueba con el conjunto de test, e imprimimos la matriz de confusión para las predicciones\n",
    "y_pred = mv_clf.predict(X_test)\n",
    "plotCM(y_test,y_pred, normalize=True)"
   ]
  },
  {
   "cell_type": "code",
   "execution_count": 30,
   "metadata": {},
   "outputs": [
    {
     "name": "stdout",
     "output_type": "stream",
     "text": [
      "              precision    recall  f1-score   support\n",
      "\n",
      "           0       0.97      0.98      0.97     13225\n",
      "           1       0.84      0.79      0.81      1896\n",
      "\n",
      "    accuracy                           0.95     15121\n",
      "   macro avg       0.90      0.88      0.89     15121\n",
      "weighted avg       0.95      0.95      0.95     15121\n",
      "\n"
     ]
    }
   ],
   "source": [
    "print(classification_report(y_test,y_pred)) #Medidas de desempeño para el casificador multiclase por mayoría de votos"
   ]
  },
  {
   "cell_type": "markdown",
   "metadata": {},
   "source": [
    "A continuación, realizamos una comparación con el clasificador de mayoría de votos de sklearn:"
   ]
  },
  {
   "cell_type": "code",
   "execution_count": 31,
   "metadata": {},
   "outputs": [],
   "source": [
    "#Importamos el VotingClssifier de sklearn para observar si los resultados mejoran\n",
    "from sklearn.ensemble import VotingClassifier"
   ]
  },
  {
   "cell_type": "code",
   "execution_count": 32,
   "metadata": {},
   "outputs": [],
   "source": [
    "#Definimos el max voting para los mismos clasificadores tratados en el numeral anterior\n",
    "mv_skln=VotingClassifier(estimators=[('pipe1', pipe1), ('clf2', clf2), ('pipe3', pipe3)],voting='hard', weights=None)"
   ]
  },
  {
   "cell_type": "code",
   "execution_count": 33,
   "metadata": {},
   "outputs": [],
   "source": [
    "#Ajustamos el clasificador a los conjuntos de entrenamiento y prueba\n",
    "mv_skln=mv_skln.fit(X_train,y_train)"
   ]
  },
  {
   "cell_type": "code",
   "execution_count": 34,
   "metadata": {},
   "outputs": [
    {
     "data": {
      "image/png": "[encoded data removed]",
      "text/plain": [
       "<Figure size 432x288 with 1 Axes>"
      ]
     },
     "metadata": {
      "needs_background": "light"
     },
     "output_type": "display_data"
    }
   ],
   "source": [
    "#Realizamos prueba con el conjunto de test, e imprimimos la matriz de confusión para las predicciones\n",
    "y_pred = mv_skln.predict(X_test)\n",
    "plotCM(y_test,y_pred, normalize=True)"
   ]
  },
  {
   "cell_type": "code",
   "execution_count": 35,
   "metadata": {},
   "outputs": [
    {
     "name": "stdout",
     "output_type": "stream",
     "text": [
      "              precision    recall  f1-score   support\n",
      "\n",
      "           0       0.97      0.98      0.97     13225\n",
      "           1       0.84      0.79      0.81      1896\n",
      "\n",
      "    accuracy                           0.95     15121\n",
      "   macro avg       0.90      0.88      0.89     15121\n",
      "weighted avg       0.95      0.95      0.95     15121\n",
      "\n"
     ]
    }
   ],
   "source": [
    "print(classification_report(y_test,y_pred)) #Medidas de desempeño para el casificador multiclase por mayoría de votos"
   ]
  },
  {
   "cell_type": "markdown",
   "metadata": {},
   "source": [
    "Los resultados observados son iguales."
   ]
  },
  {
   "cell_type": "markdown",
   "metadata": {},
   "source": [
    "### Modelos de Ensemble para 3-lags, target Buy Local / Sell Externo"
   ]
  },
  {
   "cell_type": "markdown",
   "metadata": {},
   "source": [
    "### Stacking"
   ]
  },
  {
   "cell_type": "markdown",
   "metadata": {},
   "source": [
    "A continuación probamos un modelo de apliamiento con una instancia de un modelo de Random Forest, una instancia de un modelo de clasificación de soporte vectorial y un estimador final de regresión logística."
   ]
  },
  {
   "cell_type": "code",
   "execution_count": 36,
   "metadata": {},
   "outputs": [],
   "source": [
    "from sklearn.ensemble import StackingClassifier\n",
    "from sklearn.ensemble import RandomForestClassifier\n",
    "from sklearn.svm import SVC\n",
    "from sklearn.pipeline import make_pipeline"
   ]
  },
  {
   "cell_type": "code",
   "execution_count": 37,
   "metadata": {},
   "outputs": [],
   "source": [
    "#Para este ejercicio utilizaremos un clasificador RandomForest, y un clasificador LinearSVC\n",
    "estimators = [('rf', RandomForestClassifier(n_estimators=10, random_state=42)),('svr', make_pipeline(StandardScaler(),\n",
    "                          SVC(C=1,kernel='rbf')))]"
   ]
  },
  {
   "cell_type": "code",
   "execution_count": 38,
   "metadata": {},
   "outputs": [],
   "source": [
    "stk_clf = StackingClassifier(estimators=estimators, final_estimator=LogisticRegression(multi_class='ovr',\n",
    "                          solver='lbfgs',max_iter=500))"
   ]
  },
  {
   "cell_type": "code",
   "execution_count": 39,
   "metadata": {},
   "outputs": [],
   "source": [
    "#Ajustamos el modelo con los conjuntos de entrenamiento\n",
    "stk_clf=stk_clf.fit(X_train,y_train)"
   ]
  },
  {
   "cell_type": "code",
   "execution_count": 40,
   "metadata": {},
   "outputs": [
    {
     "data": {
      "image/png": "[encoded data removed]",
      "text/plain": [
       "<Figure size 432x288 with 1 Axes>"
      ]
     },
     "metadata": {
      "needs_background": "light"
     },
     "output_type": "display_data"
    }
   ],
   "source": [
    "#Realizamos prueba con el conjunto de test, e imprimimos la matriz de confusión para las predicciones\n",
    "y_pred = stk_clf.predict(X_test)\n",
    "plotCM(y_test,y_pred, normalize=True)"
   ]
  },
  {
   "cell_type": "code",
   "execution_count": 41,
   "metadata": {},
   "outputs": [
    {
     "name": "stdout",
     "output_type": "stream",
     "text": [
      "              precision    recall  f1-score   support\n",
      "\n",
      "           0       0.97      0.98      0.97     13225\n",
      "           1       0.85      0.78      0.81      1896\n",
      "\n",
      "    accuracy                           0.95     15121\n",
      "   macro avg       0.91      0.88      0.89     15121\n",
      "weighted avg       0.95      0.95      0.95     15121\n",
      "\n"
     ]
    }
   ],
   "source": [
    "print(classification_report(y_test,y_pred)) #Medidas de desempeño para el casificador multiclase por mayoría de votos"
   ]
  },
  {
   "cell_type": "markdown",
   "metadata": {},
   "source": [
    "Se observa un ligero incremento en la precisión para este clasificador."
   ]
  },
  {
   "cell_type": "markdown",
   "metadata": {},
   "source": [
    "### Bagging"
   ]
  },
  {
   "cell_type": "markdown",
   "metadata": {},
   "source": [
    "A continuación probamos un ensemble tipo bagging con un árbol de decisión como clasificador base y 500 estimadores."
   ]
  },
  {
   "cell_type": "code",
   "execution_count": 42,
   "metadata": {},
   "outputs": [],
   "source": [
    "from sklearn.ensemble import BaggingClassifier\n",
    "from sklearn.tree import DecisionTreeClassifier\n",
    "\n",
    "tree = DecisionTreeClassifier(criterion='entropy', \n",
    "                              max_depth=None,\n",
    "                              random_state=1)\n",
    "\n",
    "bag = BaggingClassifier(base_estimator=tree,\n",
    "                        n_estimators=500, \n",
    "                        max_samples=1.0, \n",
    "                        max_features=1.0, \n",
    "                        bootstrap=True, \n",
    "                        bootstrap_features=False, \n",
    "                        n_jobs=1, \n",
    "                        random_state=1)"
   ]
  },
  {
   "cell_type": "code",
   "execution_count": 43,
   "metadata": {},
   "outputs": [],
   "source": [
    "#Ajustamos el clasificador a los datos de entrenamiento.\n",
    "bag=bag.fit(X_train,y_train)"
   ]
  },
  {
   "cell_type": "code",
   "execution_count": 44,
   "metadata": {},
   "outputs": [
    {
     "data": {
      "image/png": "[encoded data removed]",
      "text/plain": [
       "<Figure size 432x288 with 1 Axes>"
      ]
     },
     "metadata": {
      "needs_background": "light"
     },
     "output_type": "display_data"
    }
   ],
   "source": [
    "#Realizamos prueba con el conjunto de test, e imprimimos la matriz de confusión para las predicciones\n",
    "y_pred = bag.predict(X_test)\n",
    "plotCM(y_test,y_pred, normalize=True)"
   ]
  },
  {
   "cell_type": "code",
   "execution_count": 45,
   "metadata": {},
   "outputs": [
    {
     "name": "stdout",
     "output_type": "stream",
     "text": [
      "              precision    recall  f1-score   support\n",
      "\n",
      "           0       0.98      0.98      0.98     13225\n",
      "           1       0.83      0.83      0.83      1896\n",
      "\n",
      "    accuracy                           0.96     15121\n",
      "   macro avg       0.90      0.90      0.90     15121\n",
      "weighted avg       0.96      0.96      0.96     15121\n",
      "\n"
     ]
    }
   ],
   "source": [
    "print(classification_report(y_test,y_pred)) #Medidas de desempeño para el casificador multiclase por mayoría de votos"
   ]
  },
  {
   "cell_type": "markdown",
   "metadata": {},
   "source": [
    "Observamos que, a pesar de que el clasificador base del ensemble es un clasificador muy simple, aplicando un bagging a un conjunto de 500 clasificadores base de este tipo, obtenemos un resultado superior términos de métricas de rendimiento, tanto con respecto al modelo base, como al modelo de stacking.\n",
    "A continuación probamos un bagging con un clasificador base SVC. Aplicamos también un bootstrap a los features."
   ]
  },
  {
   "cell_type": "markdown",
   "metadata": {},
   "source": [
    "### Bagging con Bootstrap a los features"
   ]
  },
  {
   "cell_type": "markdown",
   "metadata": {},
   "source": [
    "El proósito del ejercicio es observar el rendimiento del modelo, aplicando un bootstrap a los features. Para este caso, probamos con un clasificador de soporte vectorial como estimador base."
   ]
  },
  {
   "cell_type": "code",
   "execution_count": 46,
   "metadata": {},
   "outputs": [],
   "source": [
    "bag_svc = BaggingClassifier(base_estimator=SVC(C=1,kernel='rbf'),\n",
    "                        n_estimators=30, \n",
    "                        max_features=1.0, \n",
    "                        bootstrap=True, \n",
    "                        bootstrap_features=True, \n",
    "                        n_jobs=1, \n",
    "                        random_state=0)"
   ]
  },
  {
   "cell_type": "code",
   "execution_count": 47,
   "metadata": {},
   "outputs": [],
   "source": [
    "#Ajustamos el clasificador a los datos de entrenamiento.\n",
    "bag_svc=bag_svc.fit(X_train,y_train)"
   ]
  },
  {
   "cell_type": "code",
   "execution_count": 48,
   "metadata": {},
   "outputs": [
    {
     "data": {
      "image/png": "[encoded data removed]",
      "text/plain": [
       "<Figure size 432x288 with 1 Axes>"
      ]
     },
     "metadata": {
      "needs_background": "light"
     },
     "output_type": "display_data"
    }
   ],
   "source": [
    "#Realizamos prueba con el conjunto de test, e imprimimos la matriz de confusión para las predicciones\n",
    "y_pred = bag_svc.predict(X_test)\n",
    "plotCM(y_test,y_pred, normalize=True)"
   ]
  },
  {
   "cell_type": "code",
   "execution_count": 49,
   "metadata": {},
   "outputs": [
    {
     "name": "stdout",
     "output_type": "stream",
     "text": [
      "              precision    recall  f1-score   support\n",
      "\n",
      "           0       0.92      0.99      0.95     13225\n",
      "           1       0.85      0.38      0.52      1896\n",
      "\n",
      "    accuracy                           0.91     15121\n",
      "   macro avg       0.88      0.68      0.74     15121\n",
      "weighted avg       0.91      0.91      0.90     15121\n",
      "\n"
     ]
    }
   ],
   "source": [
    "print(classification_report(y_test,y_pred)) #Medidas de desempeño para el casificador "
   ]
  },
  {
   "cell_type": "markdown",
   "metadata": {},
   "source": [
    "Observamos que al eliminar algunos lags aleatoriamente del conjunto de variables independiente, hay un efecto negativo sobre las métricas de rendimiento."
   ]
  },
  {
   "cell_type": "markdown",
   "metadata": {},
   "source": [
    "### Modelos de Boosting"
   ]
  },
  {
   "cell_type": "markdown",
   "metadata": {},
   "source": [
    "### Adaptative Boosting"
   ]
  },
  {
   "cell_type": "markdown",
   "metadata": {},
   "source": [
    "A continuación probamos con un modelo de boosting adaptativo, basado en una secuencia 500 árboles de decisión secuenciados, de tal manera que la secuencia de árboles trata de corregir el error en la clasificación en cada paso de la secuencia."
   ]
  },
  {
   "cell_type": "code",
   "execution_count": 50,
   "metadata": {},
   "outputs": [],
   "source": [
    "from sklearn.ensemble import AdaBoostClassifier\n",
    "\n",
    "\n",
    "tree = DecisionTreeClassifier(criterion='entropy', \n",
    "                              max_depth=1,\n",
    "                              random_state=1)\n",
    "\n",
    "ada = AdaBoostClassifier(base_estimator=tree,\n",
    "                         n_estimators=500, \n",
    "                         learning_rate=0.1,\n",
    "                         random_state=1)"
   ]
  },
  {
   "cell_type": "code",
   "execution_count": 51,
   "metadata": {},
   "outputs": [],
   "source": [
    "#Ajustamos el clasificador a los datos de entrenamiento\n",
    "ada=ada.fit(X_train,y_train)"
   ]
  },
  {
   "cell_type": "code",
   "execution_count": 52,
   "metadata": {},
   "outputs": [
    {
     "data": {
      "image/png": "[encoded data removed]",
      "text/plain": [
       "<Figure size 432x288 with 1 Axes>"
      ]
     },
     "metadata": {
      "needs_background": "light"
     },
     "output_type": "display_data"
    }
   ],
   "source": [
    "#Realizamos prueba con el conjunto de test, e imprimimos la matriz de confusión para las predicciones\n",
    "y_pred = ada.predict(X_test)\n",
    "plotCM(y_test,y_pred, normalize=True)"
   ]
  },
  {
   "cell_type": "code",
   "execution_count": 53,
   "metadata": {},
   "outputs": [
    {
     "name": "stdout",
     "output_type": "stream",
     "text": [
      "              precision    recall  f1-score   support\n",
      "\n",
      "           0       0.98      0.97      0.97     13225\n",
      "           1       0.81      0.84      0.82      1896\n",
      "\n",
      "    accuracy                           0.95     15121\n",
      "   macro avg       0.89      0.90      0.90     15121\n",
      "weighted avg       0.96      0.95      0.95     15121\n",
      "\n"
     ]
    }
   ],
   "source": [
    "print(classification_report(y_test,y_pred)) #Medidas de desempeño para el casificador multiclase "
   ]
  },
  {
   "cell_type": "markdown",
   "metadata": {},
   "source": [
    "### Gradient Boosting"
   ]
  },
  {
   "cell_type": "code",
   "execution_count": 54,
   "metadata": {},
   "outputs": [],
   "source": [
    "#Primero ajustamos un modelo XGBClassifier con 1000 estimadores y profundidad máxima de 4\n",
    "model = xgb.XGBClassifier(n_estimators=1000, learning_rate=0.01, max_depth=4, random_state=1, use_label_encoder=False)"
   ]
  },
  {
   "cell_type": "code",
   "execution_count": 55,
   "metadata": {},
   "outputs": [],
   "source": [
    "gbm = model.fit(X_train, y_train)"
   ]
  },
  {
   "cell_type": "code",
   "execution_count": 56,
   "metadata": {},
   "outputs": [
    {
     "data": {
      "image/png": "[encoded data removed]",
      "text/plain": [
       "<Figure size 432x288 with 1 Axes>"
      ]
     },
     "metadata": {
      "needs_background": "light"
     },
     "output_type": "display_data"
    }
   ],
   "source": [
    "#Realizamos prueba con el conjunto de test, e imprimimos la matriz de confusión para las predicciones\n",
    "y_pred = gbm.predict(X_test)\n",
    "plotCM(y_test,y_pred, normalize=True)"
   ]
  },
  {
   "cell_type": "code",
   "execution_count": 57,
   "metadata": {},
   "outputs": [
    {
     "name": "stdout",
     "output_type": "stream",
     "text": [
      "              precision    recall  f1-score   support\n",
      "\n",
      "           0       0.98      0.97      0.98     13225\n",
      "           1       0.82      0.83      0.83      1896\n",
      "\n",
      "    accuracy                           0.96     15121\n",
      "   macro avg       0.90      0.90      0.90     15121\n",
      "weighted avg       0.96      0.96      0.96     15121\n",
      "\n"
     ]
    }
   ],
   "source": [
    "print(classification_report(y_test,y_pred)) #Medidas de desempeño para el casificador multiclase "
   ]
  },
  {
   "cell_type": "markdown",
   "metadata": {},
   "source": [
    "### Modelos de última generación"
   ]
  },
  {
   "cell_type": "markdown",
   "metadata": {},
   "source": [
    "### Histogram Boost Gradient"
   ]
  },
  {
   "cell_type": "code",
   "execution_count": 58,
   "metadata": {},
   "outputs": [],
   "source": [
    "from sklearn.ensemble import HistGradientBoostingClassifier"
   ]
  },
  {
   "cell_type": "code",
   "execution_count": 59,
   "metadata": {},
   "outputs": [],
   "source": [
    "#Ajustamos el modelo para los conjuntos de entrenamiento\n",
    "clf_histBC = HistGradientBoostingClassifier().fit(X_train, y_train)"
   ]
  },
  {
   "cell_type": "code",
   "execution_count": 60,
   "metadata": {},
   "outputs": [
    {
     "data": {
      "image/png": "[encoded data removed]",
      "text/plain": [
       "<Figure size 432x288 with 1 Axes>"
      ]
     },
     "metadata": {
      "needs_background": "light"
     },
     "output_type": "display_data"
    }
   ],
   "source": [
    "#Realizamos prueba con el conjunto de test, e imprimimos la matriz de confusión para las predicciones\n",
    "y_pred = clf_histBC.predict(X_test)\n",
    "plotCM(y_test,y_pred, normalize=True)"
   ]
  },
  {
   "cell_type": "code",
   "execution_count": 61,
   "metadata": {},
   "outputs": [
    {
     "name": "stdout",
     "output_type": "stream",
     "text": [
      "              precision    recall  f1-score   support\n",
      "\n",
      "           0       0.98      0.98      0.98     13225\n",
      "           1       0.84      0.84      0.84      1896\n",
      "\n",
      "    accuracy                           0.96     15121\n",
      "   macro avg       0.91      0.91      0.91     15121\n",
      "weighted avg       0.96      0.96      0.96     15121\n",
      "\n"
     ]
    }
   ],
   "source": [
    "print(classification_report(y_test,y_pred)) #Medidas de desempeño para el casificador multiclase "
   ]
  },
  {
   "cell_type": "markdown",
   "metadata": {},
   "source": [
    "### LightGBM"
   ]
  },
  {
   "cell_type": "code",
   "execution_count": 62,
   "metadata": {},
   "outputs": [],
   "source": [
    "import lightgbm as lgb"
   ]
  },
  {
   "cell_type": "code",
   "execution_count": 63,
   "metadata": {},
   "outputs": [],
   "source": [
    "gbm = lgb.LGBMClassifier(num_leaves=31,\n",
    "                        learning_rate=0.5,\n",
    "                        n_estimators=20)"
   ]
  },
  {
   "cell_type": "code",
   "execution_count": 64,
   "metadata": {},
   "outputs": [],
   "source": [
    "#Ajustamos el modelo con los conjuntos de entrenamiento\n",
    "gbm=gbm.fit(X_train, y_train)"
   ]
  },
  {
   "cell_type": "code",
   "execution_count": 65,
   "metadata": {},
   "outputs": [
    {
     "data": {
      "image/png": "[encoded data removed]",
      "text/plain": [
       "<Figure size 432x288 with 1 Axes>"
      ]
     },
     "metadata": {
      "needs_background": "light"
     },
     "output_type": "display_data"
    }
   ],
   "source": [
    "#Realizamos prueba con el conjunto de test, e imprimimos la matriz de confusión para las predicciones\n",
    "y_pred = gbm.predict(X_test,num_iteration=gbm.best_iteration_)\n",
    "plotCM(y_test,y_pred, normalize=True)"
   ]
  },
  {
   "cell_type": "code",
   "execution_count": 66,
   "metadata": {},
   "outputs": [
    {
     "name": "stdout",
     "output_type": "stream",
     "text": [
      "              precision    recall  f1-score   support\n",
      "\n",
      "           0       0.98      0.97      0.97     13225\n",
      "           1       0.79      0.84      0.81      1896\n",
      "\n",
      "    accuracy                           0.95     15121\n",
      "   macro avg       0.88      0.90      0.89     15121\n",
      "weighted avg       0.95      0.95      0.95     15121\n",
      "\n"
     ]
    }
   ],
   "source": [
    "print(classification_report(y_test,y_pred)) #Medidas de desempeño para el casificador multiclase "
   ]
  },
  {
   "cell_type": "markdown",
   "metadata": {},
   "source": [
    "### CatBoost"
   ]
  },
  {
   "cell_type": "code",
   "execution_count": 67,
   "metadata": {},
   "outputs": [],
   "source": [
    "from catboost import CatBoostClassifier"
   ]
  },
  {
   "cell_type": "code",
   "execution_count": 68,
   "metadata": {},
   "outputs": [],
   "source": [
    "model = CatBoostClassifier(iterations=40,\n",
    "                           depth=6,\n",
    "                           learning_rate=1,\n",
    "                           #loss_function='Logloss',\n",
    "                           verbose=True)"
   ]
  },
  {
   "cell_type": "code",
   "execution_count": 69,
   "metadata": {},
   "outputs": [
    {
     "name": "stdout",
     "output_type": "stream",
     "text": [
      "0:\tlearn: 0.1399620\ttotal: 92.4ms\tremaining: 3.6s\n",
      "1:\tlearn: 0.1320706\ttotal: 115ms\tremaining: 2.18s\n",
      "2:\tlearn: 0.1257071\ttotal: 141ms\tremaining: 1.74s\n",
      "3:\tlearn: 0.1201592\ttotal: 164ms\tremaining: 1.48s\n",
      "4:\tlearn: 0.1175771\ttotal: 188ms\tremaining: 1.31s\n",
      "5:\tlearn: 0.1162792\ttotal: 212ms\tremaining: 1.2s\n",
      "6:\tlearn: 0.1140256\ttotal: 237ms\tremaining: 1.12s\n",
      "7:\tlearn: 0.1127216\ttotal: 262ms\tremaining: 1.05s\n",
      "8:\tlearn: 0.1113819\ttotal: 286ms\tremaining: 984ms\n",
      "9:\tlearn: 0.1103940\ttotal: 316ms\tremaining: 948ms\n",
      "10:\tlearn: 0.1091606\ttotal: 349ms\tremaining: 920ms\n",
      "11:\tlearn: 0.1073722\ttotal: 391ms\tremaining: 913ms\n",
      "12:\tlearn: 0.1061690\ttotal: 439ms\tremaining: 911ms\n",
      "13:\tlearn: 0.1047934\ttotal: 483ms\tremaining: 896ms\n",
      "14:\tlearn: 0.1037156\ttotal: 523ms\tremaining: 871ms\n",
      "15:\tlearn: 0.1029985\ttotal: 581ms\tremaining: 871ms\n",
      "16:\tlearn: 0.1021023\ttotal: 622ms\tremaining: 841ms\n",
      "17:\tlearn: 0.1009954\ttotal: 670ms\tremaining: 819ms\n",
      "18:\tlearn: 0.0997947\ttotal: 715ms\tremaining: 791ms\n",
      "19:\tlearn: 0.0985924\ttotal: 756ms\tremaining: 756ms\n",
      "20:\tlearn: 0.0974347\ttotal: 788ms\tremaining: 713ms\n",
      "21:\tlearn: 0.0961921\ttotal: 825ms\tremaining: 675ms\n",
      "22:\tlearn: 0.0954195\ttotal: 857ms\tremaining: 633ms\n",
      "23:\tlearn: 0.0945067\ttotal: 909ms\tremaining: 606ms\n",
      "24:\tlearn: 0.0938456\ttotal: 954ms\tremaining: 573ms\n",
      "25:\tlearn: 0.0927280\ttotal: 1.13s\tremaining: 607ms\n",
      "26:\tlearn: 0.0922039\ttotal: 1.18s\tremaining: 567ms\n",
      "27:\tlearn: 0.0911554\ttotal: 1.22s\tremaining: 523ms\n",
      "28:\tlearn: 0.0907455\ttotal: 1.25s\tremaining: 474ms\n",
      "29:\tlearn: 0.0901229\ttotal: 1.27s\tremaining: 425ms\n",
      "30:\tlearn: 0.0897781\ttotal: 1.31s\tremaining: 381ms\n",
      "31:\tlearn: 0.0886467\ttotal: 1.34s\tremaining: 336ms\n",
      "32:\tlearn: 0.0876237\ttotal: 1.38s\tremaining: 292ms\n",
      "33:\tlearn: 0.0863903\ttotal: 1.41s\tremaining: 249ms\n",
      "34:\tlearn: 0.0856745\ttotal: 1.46s\tremaining: 209ms\n",
      "35:\tlearn: 0.0849348\ttotal: 1.51s\tremaining: 167ms\n",
      "36:\tlearn: 0.0843009\ttotal: 1.55s\tremaining: 126ms\n",
      "37:\tlearn: 0.0835837\ttotal: 1.6s\tremaining: 84.1ms\n",
      "38:\tlearn: 0.0828538\ttotal: 1.63s\tremaining: 41.9ms\n",
      "39:\tlearn: 0.0824475\ttotal: 1.67s\tremaining: 0us\n"
     ]
    }
   ],
   "source": [
    "#Ajustamos el modelo con los conjuntos de entrenamiento\n",
    "cat=model.fit(X_train, y_train)"
   ]
  },
  {
   "cell_type": "code",
   "execution_count": 70,
   "metadata": {},
   "outputs": [
    {
     "data": {
      "image/png": "[encoded data removed]",
      "text/plain": [
       "<Figure size 432x288 with 1 Axes>"
      ]
     },
     "metadata": {
      "needs_background": "light"
     },
     "output_type": "display_data"
    }
   ],
   "source": [
    "#Realizamos prueba con el conjunto de test, e imprimimos la matriz de confusión para las predicciones\n",
    "y_pred = cat.predict(X_test)\n",
    "plotCM(y_test,y_pred, normalize=True)"
   ]
  },
  {
   "cell_type": "code",
   "execution_count": 71,
   "metadata": {},
   "outputs": [
    {
     "name": "stdout",
     "output_type": "stream",
     "text": [
      "              precision    recall  f1-score   support\n",
      "\n",
      "           0       0.97      0.98      0.97     13225\n",
      "           1       0.83      0.81      0.82      1896\n",
      "\n",
      "    accuracy                           0.96     15121\n",
      "   macro avg       0.90      0.89      0.90     15121\n",
      "weighted avg       0.95      0.96      0.95     15121\n",
      "\n"
     ]
    }
   ],
   "source": [
    "print(classification_report(y_test,y_pred)) #Medidas de desempeño para el casificador multiclase "
   ]
  },
  {
   "cell_type": "markdown",
   "metadata": {},
   "source": [
    "### Modelos para 3-lags, target Buy Externo / Sell Local"
   ]
  },
  {
   "cell_type": "markdown",
   "metadata": {},
   "source": [
    "A continuación evaluamos los mismos modelos de clasificación, no obstante el target esta vez será la categoría de arbitraje para condiciones de compra en el exterior, venta local."
   ]
  },
  {
   "cell_type": "code",
   "execution_count": 72,
   "metadata": {},
   "outputs": [],
   "source": [
    "# Esta vez, realizamos un train test split pero estratificado con respecto a un nuevo target.\n",
    "X_train, X_test, y_train, y_test = train_test_split(X_std, y_BE_SL, test_size=0.3, random_state=0, stratify=y_BE_SL)"
   ]
  },
  {
   "cell_type": "markdown",
   "metadata": {},
   "source": [
    "### Modelo Base"
   ]
  },
  {
   "cell_type": "code",
   "execution_count": 73,
   "metadata": {},
   "outputs": [
    {
     "name": "stdout",
     "output_type": "stream",
     "text": [
      "10-fold cross validation:\n",
      "\n",
      "Modelo: Logistic regression\n",
      "Accuracy: 0.95 (+/- 0.00) [Logistic regression]\n",
      "Precision: 0.88 (+/- 0.02) [Logistic regression]\n",
      "Recall: 0.62 (+/- 0.01) [Logistic regression]\n",
      "f1_score: 0.68 (+/- 0.02) [Logistic regression]\n",
      "Modelo: Decision tree\n",
      "Accuracy: 0.96 (+/- 0.00) [Decision tree]\n",
      "Precision: 0.80 (+/- 0.01) [Decision tree]\n",
      "Recall: 0.89 (+/- 0.01) [Decision tree]\n",
      "f1_score: 0.84 (+/- 0.01) [Decision tree]\n",
      "Modelo: KNN\n",
      "Accuracy: 0.97 (+/- 0.00) [KNN]\n",
      "Precision: 0.89 (+/- 0.01) [KNN]\n",
      "Recall: 0.86 (+/- 0.01) [KNN]\n",
      "f1_score: 0.87 (+/- 0.01) [KNN]\n"
     ]
    }
   ],
   "source": [
    "clf1 = LogisticRegression(multi_class='ovr',\n",
    "                          solver='lbfgs',\n",
    "                         max_iter=500)\n",
    "\n",
    "clf2 = DecisionTreeClassifier(max_depth=1,\n",
    "                              criterion='entropy',\n",
    "                              random_state=0)\n",
    "\n",
    "clf3 = KNeighborsClassifier(n_neighbors=5,\n",
    "                            p=2,\n",
    "                            metric='minkowski')\n",
    "\n",
    "pipe1 = Pipeline([['sc', StandardScaler()],\n",
    "                  ['clf', clf1]])\n",
    "pipe3 = Pipeline([['sc', StandardScaler()],\n",
    "                  ['clf', clf3]])\n",
    "\n",
    "clf_labels = ['Logistic regression', 'Decision tree', 'KNN']\n",
    "\n",
    "print('10-fold cross validation:\\n')\n",
    "for clf, label in zip([pipe1, clf2, pipe3], clf_labels): #[pipe1, clf2, pipe3]\n",
    "    scores = cross_validate(estimator=clf,\n",
    "                             X=X_train,\n",
    "                             y=y_train,\n",
    "                             cv=10,\n",
    "                             scoring=('accuracy','precision_macro', 'recall_macro', 'f1_macro'))\n",
    "    print(f'Modelo: {label}')\n",
    "  \n",
    "    print(f'Accuracy: {scores.get(\"test_accuracy\").mean():.2f} '\n",
    "          f'(+/- {scores.get(\"test_accuracy\").std():.2f}) [{label}]');\n",
    "\n",
    "    print(f'Precision: {scores.get(\"test_precision_macro\").mean():.2f} '\n",
    "          f'(+/- {scores.get(\"test_precision_macro\").std():.2f}) [{label}]');\n",
    "\n",
    "    print(f'Recall: {scores.get(\"test_recall_macro\").mean():.2f} '\n",
    "          f'(+/- {scores.get(\"test_recall_macro\").std():.2f}) [{label}]');\n",
    "\n",
    "    print(f'f1_score: {scores.get(\"test_f1_macro\").mean():.2f} '\n",
    "          f'(+/- {scores.get(\"test_f1_macro\").std():.2f}) [{label}]');"
   ]
  },
  {
   "cell_type": "code",
   "execution_count": 74,
   "metadata": {},
   "outputs": [
    {
     "name": "stdout",
     "output_type": "stream",
     "text": [
      "Modelo: Logistic regression\n",
      "Accuracy: 0.95 (+/- 0.00) [Logistic regression]\n",
      "Precision: 0.88 (+/- 0.02) [Logistic regression]\n",
      "Recall: 0.62 (+/- 0.01) [Logistic regression]\n",
      "f1_score: 0.68 (+/- 0.02) [Logistic regression]\n",
      "Modelo: Decision tree\n",
      "Accuracy: 0.96 (+/- 0.00) [Decision tree]\n",
      "Precision: 0.80 (+/- 0.01) [Decision tree]\n",
      "Recall: 0.89 (+/- 0.01) [Decision tree]\n",
      "f1_score: 0.84 (+/- 0.01) [Decision tree]\n",
      "Modelo: KNN\n",
      "Accuracy: 0.97 (+/- 0.00) [KNN]\n",
      "Precision: 0.89 (+/- 0.01) [KNN]\n",
      "Recall: 0.86 (+/- 0.01) [KNN]\n",
      "f1_score: 0.87 (+/- 0.01) [KNN]\n",
      "Modelo: Majority voting\n",
      "Accuracy: 0.97 (+/- 0.00) [Majority voting]\n",
      "Precision: 0.90 (+/- 0.02) [Majority voting]\n",
      "Recall: 0.82 (+/- 0.02) [Majority voting]\n",
      "f1_score: 0.85 (+/- 0.02) [Majority voting]\n"
     ]
    }
   ],
   "source": [
    "# Majority Rule (hard) Voting\n",
    "\n",
    "mv_clf = MajorityVoteClassifier(classifiers=[pipe1, clf2, pipe3])\n",
    "\n",
    "clf_labels += ['Majority voting']\n",
    "all_clf = [pipe1, clf2, pipe3, mv_clf]\n",
    "\n",
    "for clf, label in zip(all_clf, clf_labels):\n",
    "    scores = cross_validate(estimator=clf,\n",
    "                             X=X_train,\n",
    "                             y=y_train,\n",
    "                             cv=10,\n",
    "                             scoring=('accuracy','precision_macro', 'recall_macro', 'f1_macro'))\n",
    "    print(f'Modelo: {label}')\n",
    "  \n",
    "    print(f'Accuracy: {scores.get(\"test_accuracy\").mean():.2f} '\n",
    "          f'(+/- {scores.get(\"test_accuracy\").std():.2f}) [{label}]');\n",
    "\n",
    "    print(f'Precision: {scores.get(\"test_precision_macro\").mean():.2f} '\n",
    "          f'(+/- {scores.get(\"test_precision_macro\").std():.2f}) [{label}]');\n",
    "\n",
    "    print(f'Recall: {scores.get(\"test_recall_macro\").mean():.2f} '\n",
    "          f'(+/- {scores.get(\"test_recall_macro\").std():.2f}) [{label}]');\n",
    "\n",
    "    print(f'f1_score: {scores.get(\"test_f1_macro\").mean():.2f} '\n",
    "          f'(+/- {scores.get(\"test_f1_macro\").std():.2f}) [{label}]');"
   ]
  },
  {
   "cell_type": "markdown",
   "metadata": {},
   "source": [
    "### Visualización Resultados: Modelo Base"
   ]
  },
  {
   "cell_type": "code",
   "execution_count": 75,
   "metadata": {},
   "outputs": [],
   "source": [
    "#Ajustamos el clasificador de mayoría de votos con los conjuntos de entrenamiento\n",
    "mv_clf = MajorityVoteClassifier(classifiers=[pipe1, clf2, pipe3]).fit(X_train,y_train)"
   ]
  },
  {
   "cell_type": "code",
   "execution_count": 76,
   "metadata": {},
   "outputs": [
    {
     "data": {
      "image/png": "[encoded data removed]",
      "text/plain": [
       "<Figure size 432x288 with 1 Axes>"
      ]
     },
     "metadata": {
      "needs_background": "light"
     },
     "output_type": "display_data"
    }
   ],
   "source": [
    "#Realizamos prueba con el conjunto de test, e imprimimos la matriz de confusión para las predicciones\n",
    "y_pred = mv_clf.predict(X_test)\n",
    "plotCM(y_test,y_pred, normalize=True)"
   ]
  },
  {
   "cell_type": "code",
   "execution_count": 77,
   "metadata": {},
   "outputs": [
    {
     "name": "stdout",
     "output_type": "stream",
     "text": [
      "              precision    recall  f1-score   support\n",
      "\n",
      "           0       0.98      0.99      0.99     14177\n",
      "           1       0.85      0.68      0.76       944\n",
      "\n",
      "    accuracy                           0.97     15121\n",
      "   macro avg       0.92      0.84      0.87     15121\n",
      "weighted avg       0.97      0.97      0.97     15121\n",
      "\n"
     ]
    }
   ],
   "source": [
    "print(classification_report(y_test,y_pred)) #Medidas de desempeño para el casificador multiclase por mayoría de votos"
   ]
  },
  {
   "cell_type": "markdown",
   "metadata": {},
   "source": [
    "### Modelos de Ensemble para 3-lags, target Buy Externo / Sell Local"
   ]
  },
  {
   "cell_type": "markdown",
   "metadata": {},
   "source": [
    "### Stacking"
   ]
  },
  {
   "cell_type": "markdown",
   "metadata": {},
   "source": [
    "A continuación probamos un modelo de apliamiento con una instancia de un modelo de Random Forest, una instancia de un modelo de clasificación de soporte vectorial y un estimador final de regresión logística."
   ]
  },
  {
   "cell_type": "code",
   "execution_count": 78,
   "metadata": {},
   "outputs": [],
   "source": [
    "#Para este ejercicio utilizaremos un clasificador RandomForest, y un clasificador LinearSVC\n",
    "estimators = [('rf', RandomForestClassifier(n_estimators=10, random_state=42)),('svr', make_pipeline(StandardScaler(),\n",
    "                          SVC(C=1,kernel='rbf')))]"
   ]
  },
  {
   "cell_type": "code",
   "execution_count": 79,
   "metadata": {},
   "outputs": [],
   "source": [
    "stk_clf = StackingClassifier(estimators=estimators, final_estimator=LogisticRegression(multi_class='ovr',\n",
    "                          solver='lbfgs',max_iter=500))"
   ]
  },
  {
   "cell_type": "code",
   "execution_count": 80,
   "metadata": {},
   "outputs": [],
   "source": [
    "#Ajustamos el modelo con los conjuntos de entrenamiento\n",
    "stk_clf=stk_clf.fit(X_train,y_train)"
   ]
  },
  {
   "cell_type": "code",
   "execution_count": 81,
   "metadata": {},
   "outputs": [
    {
     "data": {
      "image/png": "[encoded data removed]",
      "text/plain": [
       "<Figure size 432x288 with 1 Axes>"
      ]
     },
     "metadata": {
      "needs_background": "light"
     },
     "output_type": "display_data"
    }
   ],
   "source": [
    "#Realizamos prueba con el conjunto de test, e imprimimos la matriz de confusión para las predicciones\n",
    "y_pred = stk_clf.predict(X_test)\n",
    "plotCM(y_test,y_pred, normalize=True)"
   ]
  },
  {
   "cell_type": "code",
   "execution_count": 82,
   "metadata": {},
   "outputs": [
    {
     "name": "stdout",
     "output_type": "stream",
     "text": [
      "              precision    recall  f1-score   support\n",
      "\n",
      "           0       0.98      0.99      0.99     14177\n",
      "           1       0.86      0.72      0.78       944\n",
      "\n",
      "    accuracy                           0.98     15121\n",
      "   macro avg       0.92      0.86      0.88     15121\n",
      "weighted avg       0.97      0.98      0.97     15121\n",
      "\n"
     ]
    }
   ],
   "source": [
    "print(classification_report(y_test,y_pred)) #Medidas de desempeño para el casificador multiclase por stacking"
   ]
  },
  {
   "cell_type": "markdown",
   "metadata": {},
   "source": [
    "### Bagging"
   ]
  },
  {
   "cell_type": "markdown",
   "metadata": {},
   "source": [
    "Probamos un modelo de ensemble tipo bagging con un árbol de decisón como estimador base y 500 estimadores. En primer lugar permitimos bootstrap para las observaciones pero no para los features. En segundo lugar, observamos el efecto de aplicar boostrap a los features."
   ]
  },
  {
   "cell_type": "code",
   "execution_count": 83,
   "metadata": {},
   "outputs": [],
   "source": [
    "tree = DecisionTreeClassifier(criterion='entropy', \n",
    "                              max_depth=None,\n",
    "                              random_state=1)\n",
    "\n",
    "bag = BaggingClassifier(base_estimator=tree,\n",
    "                        n_estimators=500, \n",
    "                        max_samples=1.0, \n",
    "                        max_features=1.0, \n",
    "                        bootstrap=True, \n",
    "                        bootstrap_features=False, \n",
    "                        n_jobs=1, \n",
    "                        random_state=1)"
   ]
  },
  {
   "cell_type": "code",
   "execution_count": 84,
   "metadata": {},
   "outputs": [],
   "source": [
    "#Ajustamos el clasificador a los datos de entrenamiento.\n",
    "bag=bag.fit(X_train,y_train)"
   ]
  },
  {
   "cell_type": "code",
   "execution_count": 85,
   "metadata": {},
   "outputs": [
    {
     "data": {
      "image/png": "[encoded data removed]",
      "text/plain": [
       "<Figure size 432x288 with 1 Axes>"
      ]
     },
     "metadata": {
      "needs_background": "light"
     },
     "output_type": "display_data"
    }
   ],
   "source": [
    "#Realizamos prueba con el conjunto de test, e imprimimos la matriz de confusión para las predicciones\n",
    "y_pred = bag.predict(X_test)\n",
    "plotCM(y_test,y_pred, normalize=True)"
   ]
  },
  {
   "cell_type": "code",
   "execution_count": 86,
   "metadata": {},
   "outputs": [
    {
     "name": "stdout",
     "output_type": "stream",
     "text": [
      "              precision    recall  f1-score   support\n",
      "\n",
      "           0       0.98      0.99      0.99     14177\n",
      "           1       0.85      0.77      0.81       944\n",
      "\n",
      "    accuracy                           0.98     15121\n",
      "   macro avg       0.92      0.88      0.90     15121\n",
      "weighted avg       0.98      0.98      0.98     15121\n",
      "\n"
     ]
    }
   ],
   "source": [
    "print(classification_report(y_test,y_pred)) #Medidas de desempeño para el casificador multiclase por bagging"
   ]
  },
  {
   "cell_type": "markdown",
   "metadata": {},
   "source": [
    "### Bagging con bootstrap a los features"
   ]
  },
  {
   "cell_type": "code",
   "execution_count": 87,
   "metadata": {},
   "outputs": [],
   "source": [
    "bag_svc = BaggingClassifier(base_estimator=SVC(C=1,kernel='rbf'),\n",
    "                        n_estimators=30, \n",
    "                        max_features=1.0, \n",
    "                        bootstrap=True, \n",
    "                        bootstrap_features=True, \n",
    "                        n_jobs=1, \n",
    "                        random_state=0)"
   ]
  },
  {
   "cell_type": "code",
   "execution_count": 88,
   "metadata": {},
   "outputs": [],
   "source": [
    "#Ajustamos el clasificador a los datos de entrenamiento.\n",
    "bag_svc=bag_svc.fit(X_train,y_train)"
   ]
  },
  {
   "cell_type": "code",
   "execution_count": 89,
   "metadata": {},
   "outputs": [
    {
     "data": {
      "image/png": "[encoded data removed]",
      "text/plain": [
       "<Figure size 432x288 with 1 Axes>"
      ]
     },
     "metadata": {
      "needs_background": "light"
     },
     "output_type": "display_data"
    }
   ],
   "source": [
    "#Realizamos prueba con el conjunto de test, e imprimimos la matriz de confusión para las predicciones\n",
    "y_pred = bag_svc.predict(X_test)\n",
    "plotCM(y_test,y_pred, normalize=True)"
   ]
  },
  {
   "cell_type": "code",
   "execution_count": 90,
   "metadata": {},
   "outputs": [
    {
     "name": "stdout",
     "output_type": "stream",
     "text": [
      "              precision    recall  f1-score   support\n",
      "\n",
      "           0       0.95      1.00      0.97     14177\n",
      "           1       0.91      0.25      0.39       944\n",
      "\n",
      "    accuracy                           0.95     15121\n",
      "   macro avg       0.93      0.62      0.68     15121\n",
      "weighted avg       0.95      0.95      0.94     15121\n",
      "\n"
     ]
    }
   ],
   "source": [
    "print(classification_report(y_test,y_pred)) #Medidas de desempeño para el casificador multiclase por bagging"
   ]
  },
  {
   "cell_type": "markdown",
   "metadata": {},
   "source": [
    "Observamos los mismos resultados con respecto al primer target: las métricas de clasificación disminuyen al eliminar aleatoriamente algunos features."
   ]
  },
  {
   "cell_type": "markdown",
   "metadata": {},
   "source": [
    "### Modelos de Boosting"
   ]
  },
  {
   "cell_type": "markdown",
   "metadata": {},
   "source": [
    "### Adaptative Boosting"
   ]
  },
  {
   "cell_type": "markdown",
   "metadata": {},
   "source": [
    "Tal como hicimos con la clasificación binaria previa, ajustamos un modelo de boosting adaptativo con una secuencia de 500 estimadores (áreboles de decisión)."
   ]
  },
  {
   "cell_type": "code",
   "execution_count": 91,
   "metadata": {},
   "outputs": [],
   "source": [
    "tree = DecisionTreeClassifier(criterion='entropy', \n",
    "                              max_depth=1,\n",
    "                              random_state=1)\n",
    "\n",
    "ada = AdaBoostClassifier(base_estimator=tree,\n",
    "                         n_estimators=500, \n",
    "                         learning_rate=0.1,\n",
    "                         random_state=1)"
   ]
  },
  {
   "cell_type": "code",
   "execution_count": 92,
   "metadata": {},
   "outputs": [],
   "source": [
    "#Ajustamos el clasificador a los datos de entrenamiento\n",
    "ada=ada.fit(X_train,y_train)"
   ]
  },
  {
   "cell_type": "code",
   "execution_count": 93,
   "metadata": {},
   "outputs": [
    {
     "data": {
      "image/png": "[encoded data removed]",
      "text/plain": [
       "<Figure size 432x288 with 1 Axes>"
      ]
     },
     "metadata": {
      "needs_background": "light"
     },
     "output_type": "display_data"
    }
   ],
   "source": [
    "#Realizamos prueba con el conjunto de test, e imprimimos la matriz de confusión para las predicciones\n",
    "y_pred = ada.predict(X_test)\n",
    "plotCM(y_test,y_pred, normalize=True)"
   ]
  },
  {
   "cell_type": "code",
   "execution_count": 94,
   "metadata": {},
   "outputs": [
    {
     "name": "stdout",
     "output_type": "stream",
     "text": [
      "              precision    recall  f1-score   support\n",
      "\n",
      "           0       0.98      0.99      0.99     14177\n",
      "           1       0.80      0.74      0.77       944\n",
      "\n",
      "    accuracy                           0.97     15121\n",
      "   macro avg       0.89      0.86      0.88     15121\n",
      "weighted avg       0.97      0.97      0.97     15121\n",
      "\n"
     ]
    }
   ],
   "source": [
    "print(classification_report(y_test,y_pred)) #Medidas de desempeño para el casificador multiclase "
   ]
  },
  {
   "cell_type": "markdown",
   "metadata": {},
   "source": [
    "### Gradient Boosting"
   ]
  },
  {
   "cell_type": "code",
   "execution_count": 95,
   "metadata": {},
   "outputs": [],
   "source": [
    "#Primero ajustamos un modelo XGBClassifier con 1000 estimadores y profundidad máxima de 4\n",
    "model = xgb.XGBClassifier(n_estimators=1000, learning_rate=0.01, max_depth=4, random_state=1, use_label_encoder=False)"
   ]
  },
  {
   "cell_type": "code",
   "execution_count": 96,
   "metadata": {},
   "outputs": [],
   "source": [
    "gbm = model.fit(X_train, y_train)"
   ]
  },
  {
   "cell_type": "code",
   "execution_count": 97,
   "metadata": {},
   "outputs": [
    {
     "data": {
      "image/png": "[encoded data removed]",
      "text/plain": [
       "<Figure size 432x288 with 1 Axes>"
      ]
     },
     "metadata": {
      "needs_background": "light"
     },
     "output_type": "display_data"
    }
   ],
   "source": [
    "#Realizamos prueba con el conjunto de test, e imprimimos la matriz de confusión para las predicciones\n",
    "y_pred = gbm.predict(X_test)\n",
    "plotCM(y_test,y_pred, normalize=True)"
   ]
  },
  {
   "cell_type": "code",
   "execution_count": 98,
   "metadata": {},
   "outputs": [
    {
     "name": "stdout",
     "output_type": "stream",
     "text": [
      "              precision    recall  f1-score   support\n",
      "\n",
      "           0       0.99      0.99      0.99     14177\n",
      "           1       0.85      0.79      0.82       944\n",
      "\n",
      "    accuracy                           0.98     15121\n",
      "   macro avg       0.92      0.89      0.90     15121\n",
      "weighted avg       0.98      0.98      0.98     15121\n",
      "\n"
     ]
    }
   ],
   "source": [
    "print(classification_report(y_test,y_pred)) #Medidas de desempeño para el casificador multiclase "
   ]
  },
  {
   "cell_type": "markdown",
   "metadata": {},
   "source": [
    "### Modelos de última generación"
   ]
  },
  {
   "cell_type": "markdown",
   "metadata": {},
   "source": [
    "### Histogram Boost Gradient"
   ]
  },
  {
   "cell_type": "code",
   "execution_count": 99,
   "metadata": {},
   "outputs": [],
   "source": [
    "#Ajustamos el modelo para los conjuntos de entrenamiento\n",
    "clf_histBC = HistGradientBoostingClassifier().fit(X_train, y_train)"
   ]
  },
  {
   "cell_type": "code",
   "execution_count": 100,
   "metadata": {},
   "outputs": [
    {
     "data": {
      "image/png": "[encoded data removed]",
      "text/plain": [
       "<Figure size 432x288 with 1 Axes>"
      ]
     },
     "metadata": {
      "needs_background": "light"
     },
     "output_type": "display_data"
    }
   ],
   "source": [
    "#Realizamos prueba con el conjunto de test, e imprimimos la matriz de confusión para las predicciones\n",
    "y_pred = clf_histBC.predict(X_test)\n",
    "plotCM(y_test,y_pred, normalize=True)"
   ]
  },
  {
   "cell_type": "code",
   "execution_count": 101,
   "metadata": {},
   "outputs": [
    {
     "name": "stdout",
     "output_type": "stream",
     "text": [
      "              precision    recall  f1-score   support\n",
      "\n",
      "           0       0.99      0.99      0.99     14177\n",
      "           1       0.85      0.78      0.81       944\n",
      "\n",
      "    accuracy                           0.98     15121\n",
      "   macro avg       0.92      0.89      0.90     15121\n",
      "weighted avg       0.98      0.98      0.98     15121\n",
      "\n"
     ]
    }
   ],
   "source": [
    "print(classification_report(y_test,y_pred)) #Medidas de desempeño para el casificador multiclase "
   ]
  },
  {
   "cell_type": "markdown",
   "metadata": {},
   "source": [
    "### LightGBM"
   ]
  },
  {
   "cell_type": "code",
   "execution_count": 102,
   "metadata": {},
   "outputs": [],
   "source": [
    "gbm = lgb.LGBMClassifier(num_leaves=31,\n",
    "                        learning_rate=0.5,\n",
    "                        n_estimators=20)"
   ]
  },
  {
   "cell_type": "code",
   "execution_count": 103,
   "metadata": {},
   "outputs": [],
   "source": [
    "#Ajustamos el modelo con los conjuntos de entrenamiento\n",
    "gbm=gbm.fit(X_train, y_train)"
   ]
  },
  {
   "cell_type": "code",
   "execution_count": 104,
   "metadata": {},
   "outputs": [
    {
     "data": {
      "image/png": "[encoded data removed]",
      "text/plain": [
       "<Figure size 432x288 with 1 Axes>"
      ]
     },
     "metadata": {
      "needs_background": "light"
     },
     "output_type": "display_data"
    }
   ],
   "source": [
    "#Realizamos prueba con el conjunto de test, e imprimimos la matriz de confusión para las predicciones\n",
    "y_pred = gbm.predict(X_test,num_iteration=gbm.best_iteration_)\n",
    "plotCM(y_test,y_pred, normalize=True)"
   ]
  },
  {
   "cell_type": "code",
   "execution_count": 105,
   "metadata": {},
   "outputs": [
    {
     "name": "stdout",
     "output_type": "stream",
     "text": [
      "              precision    recall  f1-score   support\n",
      "\n",
      "           0       0.98      0.98      0.98     14177\n",
      "           1       0.72      0.74      0.73       944\n",
      "\n",
      "    accuracy                           0.97     15121\n",
      "   macro avg       0.85      0.86      0.86     15121\n",
      "weighted avg       0.97      0.97      0.97     15121\n",
      "\n"
     ]
    }
   ],
   "source": [
    "print(classification_report(y_test,y_pred)) #Medidas de desempeño para el casificador multiclase "
   ]
  },
  {
   "cell_type": "markdown",
   "metadata": {},
   "source": [
    "### CatBoost"
   ]
  },
  {
   "cell_type": "code",
   "execution_count": 106,
   "metadata": {},
   "outputs": [],
   "source": [
    "model = CatBoostClassifier(iterations=40,\n",
    "                           depth=6,\n",
    "                           learning_rate=1,\n",
    "                           #loss_function='Logloss',\n",
    "                           verbose=True)"
   ]
  },
  {
   "cell_type": "code",
   "execution_count": 107,
   "metadata": {},
   "outputs": [
    {
     "name": "stdout",
     "output_type": "stream",
     "text": [
      "0:\tlearn: 0.1105025\ttotal: 26.8ms\tremaining: 1.04s\n",
      "1:\tlearn: 0.0848660\ttotal: 48.8ms\tremaining: 928ms\n",
      "2:\tlearn: 0.0779031\ttotal: 74ms\tremaining: 913ms\n",
      "3:\tlearn: 0.0728393\ttotal: 95.2ms\tremaining: 857ms\n",
      "4:\tlearn: 0.0712668\ttotal: 117ms\tremaining: 821ms\n",
      "5:\tlearn: 0.0677310\ttotal: 141ms\tremaining: 799ms\n",
      "6:\tlearn: 0.0669014\ttotal: 163ms\tremaining: 768ms\n",
      "7:\tlearn: 0.0642289\ttotal: 187ms\tremaining: 748ms\n",
      "8:\tlearn: 0.0626859\ttotal: 208ms\tremaining: 717ms\n",
      "9:\tlearn: 0.0616967\ttotal: 238ms\tremaining: 715ms\n",
      "10:\tlearn: 0.0603841\ttotal: 267ms\tremaining: 705ms\n",
      "11:\tlearn: 0.0595559\ttotal: 296ms\tremaining: 691ms\n",
      "12:\tlearn: 0.0585010\ttotal: 336ms\tremaining: 699ms\n",
      "13:\tlearn: 0.0572586\ttotal: 374ms\tremaining: 694ms\n",
      "14:\tlearn: 0.0565955\ttotal: 405ms\tremaining: 675ms\n",
      "15:\tlearn: 0.0558581\ttotal: 438ms\tremaining: 658ms\n",
      "16:\tlearn: 0.0545079\ttotal: 492ms\tremaining: 665ms\n",
      "17:\tlearn: 0.0535074\ttotal: 527ms\tremaining: 645ms\n",
      "18:\tlearn: 0.0527745\ttotal: 575ms\tremaining: 636ms\n",
      "19:\tlearn: 0.0520972\ttotal: 611ms\tremaining: 611ms\n",
      "20:\tlearn: 0.0516346\ttotal: 644ms\tremaining: 583ms\n",
      "21:\tlearn: 0.0512128\ttotal: 671ms\tremaining: 549ms\n",
      "22:\tlearn: 0.0506011\ttotal: 747ms\tremaining: 552ms\n",
      "23:\tlearn: 0.0497517\ttotal: 789ms\tremaining: 526ms\n",
      "24:\tlearn: 0.0492346\ttotal: 821ms\tremaining: 493ms\n",
      "25:\tlearn: 0.0487418\ttotal: 861ms\tremaining: 464ms\n",
      "26:\tlearn: 0.0480016\ttotal: 920ms\tremaining: 443ms\n",
      "27:\tlearn: 0.0474705\ttotal: 997ms\tremaining: 427ms\n",
      "28:\tlearn: 0.0466829\ttotal: 1.03s\tremaining: 392ms\n",
      "29:\tlearn: 0.0462418\ttotal: 1.06s\tremaining: 355ms\n",
      "30:\tlearn: 0.0454385\ttotal: 1.11s\tremaining: 322ms\n",
      "31:\tlearn: 0.0447371\ttotal: 1.15s\tremaining: 288ms\n",
      "32:\tlearn: 0.0442004\ttotal: 1.19s\tremaining: 253ms\n",
      "33:\tlearn: 0.0439422\ttotal: 1.23s\tremaining: 217ms\n",
      "34:\tlearn: 0.0435311\ttotal: 1.27s\tremaining: 181ms\n",
      "35:\tlearn: 0.0426194\ttotal: 1.31s\tremaining: 146ms\n",
      "36:\tlearn: 0.0424062\ttotal: 1.35s\tremaining: 109ms\n",
      "37:\tlearn: 0.0417549\ttotal: 1.39s\tremaining: 73ms\n",
      "38:\tlearn: 0.0413253\ttotal: 1.42s\tremaining: 36.5ms\n",
      "39:\tlearn: 0.0407104\ttotal: 1.46s\tremaining: 0us\n"
     ]
    }
   ],
   "source": [
    "#Ajustamos el modelo con los conjuntos de entrenamiento\n",
    "cat=model.fit(X_train, y_train)"
   ]
  },
  {
   "cell_type": "code",
   "execution_count": 108,
   "metadata": {},
   "outputs": [
    {
     "data": {
      "image/png": "[encoded data removed]",
      "text/plain": [
       "<Figure size 432x288 with 1 Axes>"
      ]
     },
     "metadata": {
      "needs_background": "light"
     },
     "output_type": "display_data"
    }
   ],
   "source": [
    "#Realizamos prueba con el conjunto de test, e imprimimos la matriz de confusión para las predicciones\n",
    "y_pred = cat.predict(X_test)\n",
    "plotCM(y_test,y_pred, normalize=True)"
   ]
  },
  {
   "cell_type": "code",
   "execution_count": 109,
   "metadata": {},
   "outputs": [
    {
     "name": "stdout",
     "output_type": "stream",
     "text": [
      "              precision    recall  f1-score   support\n",
      "\n",
      "           0       0.98      0.99      0.99     14177\n",
      "           1       0.82      0.76      0.79       944\n",
      "\n",
      "    accuracy                           0.97     15121\n",
      "   macro avg       0.90      0.87      0.89     15121\n",
      "weighted avg       0.97      0.97      0.97     15121\n",
      "\n"
     ]
    }
   ],
   "source": [
    "print(classification_report(y_test,y_pred)) #Medidas de desempeño para el casificador multiclase "
   ]
  },
  {
   "cell_type": "markdown",
   "metadata": {},
   "source": [
    "### Modelos para 3-lags: Arbitraje independiente de categoría"
   ]
  },
  {
   "cell_type": "markdown",
   "metadata": {},
   "source": [
    "Realizamos un nuevo split para los obtener conjuntos de entrenamiento y prueba, pero esta vez observaremos el comportamiento de algunos de los modelos con un nuevo target: las condiciones de arbitraje independientes de la categoría. Esto nos dará una referencia sobre el promedio de arbitrajes correctamente clasificados (independientemente de si son BL/SE o BE/SL), aunque no tendrá valor práctico, pues el objetivo con valor práctico es obtener un modelo que además de identificar condiciones de arbitraje, informe qué tipo de arbitraje se presenta."
   ]
  },
  {
   "cell_type": "code",
   "execution_count": 110,
   "metadata": {},
   "outputs": [],
   "source": [
    "X_train, X_test, y_train, y_test = train_test_split(X_std, y_arb, test_size=0.3, random_state=0, stratify=y_arb)"
   ]
  },
  {
   "cell_type": "markdown",
   "metadata": {},
   "source": [
    "### Gradient Boosting"
   ]
  },
  {
   "cell_type": "code",
   "execution_count": 111,
   "metadata": {},
   "outputs": [],
   "source": [
    "#Primero ajustamos un modelo XGBClassifier con 1000 estimadores y profundidad máxima de 4\n",
    "model = xgb.XGBClassifier(n_estimators=1000, learning_rate=0.01, max_depth=4, random_state=1, use_label_encoder=False)"
   ]
  },
  {
   "cell_type": "code",
   "execution_count": 112,
   "metadata": {},
   "outputs": [],
   "source": [
    "gbm = model.fit(X_train, y_train)"
   ]
  },
  {
   "cell_type": "code",
   "execution_count": 113,
   "metadata": {},
   "outputs": [
    {
     "data": {
      "image/png": "[encoded data removed]",
      "text/plain": [
       "<Figure size 432x288 with 1 Axes>"
      ]
     },
     "metadata": {
      "needs_background": "light"
     },
     "output_type": "display_data"
    }
   ],
   "source": [
    "#Realizamos prueba con el conjunto de test, e imprimimos la matriz de confusión para las predicciones\n",
    "y_pred = gbm.predict(X_test)\n",
    "plotCM(y_test,y_pred, normalize=True)"
   ]
  },
  {
   "cell_type": "code",
   "execution_count": 114,
   "metadata": {},
   "outputs": [
    {
     "name": "stdout",
     "output_type": "stream",
     "text": [
      "              precision    recall  f1-score   support\n",
      "\n",
      "           0       0.96      0.96      0.96     12281\n",
      "           1       0.84      0.81      0.82      2840\n",
      "\n",
      "    accuracy                           0.93     15121\n",
      "   macro avg       0.90      0.89      0.89     15121\n",
      "weighted avg       0.93      0.93      0.93     15121\n",
      "\n"
     ]
    }
   ],
   "source": [
    "print(classification_report(y_test,y_pred)) #Medidas de desempeño para el casificador multiclase "
   ]
  },
  {
   "cell_type": "markdown",
   "metadata": {},
   "source": [
    "### Histogram Boost Gradient"
   ]
  },
  {
   "cell_type": "code",
   "execution_count": 115,
   "metadata": {},
   "outputs": [],
   "source": [
    "#Ajustamos el modelo para los conjuntos de entrenamiento\n",
    "clf_histBC = HistGradientBoostingClassifier().fit(X_train, y_train)"
   ]
  },
  {
   "cell_type": "code",
   "execution_count": 116,
   "metadata": {},
   "outputs": [
    {
     "data": {
      "image/png": "[encoded data removed]",
      "text/plain": [
       "<Figure size 432x288 with 1 Axes>"
      ]
     },
     "metadata": {
      "needs_background": "light"
     },
     "output_type": "display_data"
    }
   ],
   "source": [
    "#Realizamos prueba con el conjunto de test, e imprimimos la matriz de confusión para las predicciones\n",
    "y_pred = clf_histBC.predict(X_test)\n",
    "plotCM(y_test,y_pred, normalize=True)"
   ]
  },
  {
   "cell_type": "code",
   "execution_count": 117,
   "metadata": {},
   "outputs": [
    {
     "name": "stdout",
     "output_type": "stream",
     "text": [
      "              precision    recall  f1-score   support\n",
      "\n",
      "           0       0.96      0.96      0.96     12281\n",
      "           1       0.84      0.82      0.83      2840\n",
      "\n",
      "    accuracy                           0.94     15121\n",
      "   macro avg       0.90      0.89      0.90     15121\n",
      "weighted avg       0.94      0.94      0.94     15121\n",
      "\n"
     ]
    }
   ],
   "source": [
    "print(classification_report(y_test,y_pred)) #Medidas de desempeño para el casificador multiclase "
   ]
  },
  {
   "cell_type": "markdown",
   "metadata": {},
   "source": [
    "### CatBoost"
   ]
  },
  {
   "cell_type": "code",
   "execution_count": 118,
   "metadata": {},
   "outputs": [],
   "source": [
    "model = CatBoostClassifier(iterations=40,\n",
    "                           depth=6,\n",
    "                           learning_rate=1,\n",
    "                           #loss_function='Logloss',\n",
    "                           verbose=True)"
   ]
  },
  {
   "cell_type": "code",
   "execution_count": 119,
   "metadata": {},
   "outputs": [
    {
     "name": "stdout",
     "output_type": "stream",
     "text": [
      "0:\tlearn: 0.2415227\ttotal: 27.9ms\tremaining: 1.09s\n",
      "1:\tlearn: 0.2198576\ttotal: 49.9ms\tremaining: 947ms\n",
      "2:\tlearn: 0.2047715\ttotal: 71.4ms\tremaining: 881ms\n",
      "3:\tlearn: 0.1988282\ttotal: 95.8ms\tremaining: 862ms\n",
      "4:\tlearn: 0.1926935\ttotal: 118ms\tremaining: 827ms\n",
      "5:\tlearn: 0.1864058\ttotal: 143ms\tremaining: 808ms\n",
      "6:\tlearn: 0.1819975\ttotal: 168ms\tremaining: 793ms\n",
      "7:\tlearn: 0.1788519\ttotal: 193ms\tremaining: 773ms\n",
      "8:\tlearn: 0.1774277\ttotal: 215ms\tremaining: 740ms\n",
      "9:\tlearn: 0.1755461\ttotal: 250ms\tremaining: 751ms\n",
      "10:\tlearn: 0.1739278\ttotal: 285ms\tremaining: 752ms\n",
      "11:\tlearn: 0.1714172\ttotal: 314ms\tremaining: 732ms\n",
      "12:\tlearn: 0.1693366\ttotal: 353ms\tremaining: 734ms\n",
      "13:\tlearn: 0.1677149\ttotal: 396ms\tremaining: 735ms\n",
      "14:\tlearn: 0.1659354\ttotal: 430ms\tremaining: 717ms\n",
      "15:\tlearn: 0.1647011\ttotal: 473ms\tremaining: 710ms\n",
      "16:\tlearn: 0.1638595\ttotal: 513ms\tremaining: 694ms\n",
      "17:\tlearn: 0.1619836\ttotal: 554ms\tremaining: 677ms\n",
      "18:\tlearn: 0.1604261\ttotal: 590ms\tremaining: 653ms\n",
      "19:\tlearn: 0.1597718\ttotal: 629ms\tremaining: 629ms\n",
      "20:\tlearn: 0.1584821\ttotal: 666ms\tremaining: 602ms\n",
      "21:\tlearn: 0.1574418\ttotal: 712ms\tremaining: 583ms\n",
      "22:\tlearn: 0.1566340\ttotal: 757ms\tremaining: 560ms\n",
      "23:\tlearn: 0.1552023\ttotal: 791ms\tremaining: 527ms\n",
      "24:\tlearn: 0.1540468\ttotal: 828ms\tremaining: 497ms\n",
      "25:\tlearn: 0.1530945\ttotal: 872ms\tremaining: 470ms\n",
      "26:\tlearn: 0.1521099\ttotal: 932ms\tremaining: 449ms\n",
      "27:\tlearn: 0.1508280\ttotal: 1.02s\tremaining: 438ms\n",
      "28:\tlearn: 0.1499495\ttotal: 1.06s\tremaining: 401ms\n",
      "29:\tlearn: 0.1491268\ttotal: 1.09s\tremaining: 362ms\n",
      "30:\tlearn: 0.1477442\ttotal: 1.12s\tremaining: 325ms\n",
      "31:\tlearn: 0.1465688\ttotal: 1.16s\tremaining: 289ms\n",
      "32:\tlearn: 0.1457902\ttotal: 1.2s\tremaining: 255ms\n",
      "33:\tlearn: 0.1441996\ttotal: 1.25s\tremaining: 220ms\n",
      "34:\tlearn: 0.1436170\ttotal: 1.28s\tremaining: 183ms\n",
      "35:\tlearn: 0.1423519\ttotal: 1.32s\tremaining: 146ms\n",
      "36:\tlearn: 0.1413718\ttotal: 1.34s\tremaining: 109ms\n",
      "37:\tlearn: 0.1402381\ttotal: 1.39s\tremaining: 73.3ms\n",
      "38:\tlearn: 0.1396463\ttotal: 1.43s\tremaining: 36.7ms\n",
      "39:\tlearn: 0.1392196\ttotal: 1.47s\tremaining: 0us\n"
     ]
    }
   ],
   "source": [
    "#Ajustamos el modelo con los conjuntos de entrenamiento\n",
    "cat=model.fit(X_train, y_train)"
   ]
  },
  {
   "cell_type": "code",
   "execution_count": 120,
   "metadata": {},
   "outputs": [
    {
     "data": {
      "image/png": "[encoded data removed]",
      "text/plain": [
       "<Figure size 432x288 with 1 Axes>"
      ]
     },
     "metadata": {
      "needs_background": "light"
     },
     "output_type": "display_data"
    }
   ],
   "source": [
    "#Realizamos prueba con el conjunto de test, e imprimimos la matriz de confusión para las predicciones\n",
    "y_pred = cat.predict(X_test)\n",
    "plotCM(y_test,y_pred, normalize=True)"
   ]
  },
  {
   "cell_type": "code",
   "execution_count": 121,
   "metadata": {},
   "outputs": [
    {
     "name": "stdout",
     "output_type": "stream",
     "text": [
      "              precision    recall  f1-score   support\n",
      "\n",
      "           0       0.95      0.96      0.96     12281\n",
      "           1       0.82      0.79      0.81      2840\n",
      "\n",
      "    accuracy                           0.93     15121\n",
      "   macro avg       0.89      0.87      0.88     15121\n",
      "weighted avg       0.93      0.93      0.93     15121\n",
      "\n"
     ]
    }
   ],
   "source": [
    "print(classification_report(y_test,y_pred)) #Medidas de desempeño para el casificador multiclase "
   ]
  },
  {
   "cell_type": "markdown",
   "metadata": {},
   "source": [
    "### Modelos con 3-lags que identifican la categoría de Arbitraje"
   ]
  },
  {
   "cell_type": "markdown",
   "metadata": {},
   "source": [
    "Para esta parte del ejercicio, realizaremos una clasificación multiclase. Además de identificar si se presentan condiciones de arbitraje, el modelo debería identificar qué tipo de arbitraje se obtione (BL/SE o BE/SL). Para esta sección, seleccionamos los modelos con los mejores resultados en las pruebas anteriores."
   ]
  },
  {
   "cell_type": "code",
   "execution_count": 122,
   "metadata": {},
   "outputs": [],
   "source": [
    "X_train, X_test, y_train, y_test = train_test_split(X_std, y_cat, test_size=0.3, random_state=0,stratify=y_cat)"
   ]
  },
  {
   "cell_type": "markdown",
   "metadata": {},
   "source": [
    "### Gradient Boostng"
   ]
  },
  {
   "cell_type": "code",
   "execution_count": 123,
   "metadata": {},
   "outputs": [],
   "source": [
    "#Primero ajustamos un modelo XGBClassifier con 1000 estimadores y profundidad máxima de 4\n",
    "model = xgb.XGBClassifier(n_estimators=1000, learning_rate=0.01, max_depth=4, random_state=1, use_label_encoder=False)"
   ]
  },
  {
   "cell_type": "code",
   "execution_count": 124,
   "metadata": {},
   "outputs": [],
   "source": [
    "gbm = model.fit(X_train, y_train)"
   ]
  },
  {
   "cell_type": "code",
   "execution_count": 125,
   "metadata": {},
   "outputs": [
    {
     "data": {
      "image/png": "[encoded data removed]",
      "text/plain": [
       "<Figure size 432x288 with 1 Axes>"
      ]
     },
     "metadata": {
      "needs_background": "light"
     },
     "output_type": "display_data"
    }
   ],
   "source": [
    "#Realizamos prueba con el conjunto de test, e imprimimos la matriz de confusión para las predicciones\n",
    "y_pred = gbm.predict(X_test)\n",
    "plotCM(y_test,y_pred, normalize=True)"
   ]
  },
  {
   "cell_type": "code",
   "execution_count": 126,
   "metadata": {},
   "outputs": [
    {
     "name": "stdout",
     "output_type": "stream",
     "text": [
      "              precision    recall  f1-score   support\n",
      "\n",
      "           0       0.96      0.96      0.96     12281\n",
      "           1       0.85      0.79      0.82       944\n",
      "           2       0.83      0.84      0.84      1896\n",
      "\n",
      "    accuracy                           0.94     15121\n",
      "   macro avg       0.88      0.86      0.87     15121\n",
      "weighted avg       0.94      0.94      0.94     15121\n",
      "\n"
     ]
    }
   ],
   "source": [
    "print(classification_report(y_test,y_pred)) #Medidas de desempeño para el casificador multiclase "
   ]
  },
  {
   "cell_type": "markdown",
   "metadata": {},
   "source": [
    "### Histogram Boost Gradient"
   ]
  },
  {
   "cell_type": "code",
   "execution_count": 127,
   "metadata": {},
   "outputs": [],
   "source": [
    "#Ajustamos el modelo para los conjuntos de entrenamiento\n",
    "clf_histBC = HistGradientBoostingClassifier().fit(X_train, y_train)"
   ]
  },
  {
   "cell_type": "code",
   "execution_count": 128,
   "metadata": {},
   "outputs": [
    {
     "data": {
      "image/png": "[encoded data removed]",
      "text/plain": [
       "<Figure size 432x288 with 1 Axes>"
      ]
     },
     "metadata": {
      "needs_background": "light"
     },
     "output_type": "display_data"
    }
   ],
   "source": [
    "#Realizamos prueba con el conjunto de test, e imprimimos la matriz de confusión para las predicciones\n",
    "y_pred = clf_histBC.predict(X_test)\n",
    "plotCM(y_test,y_pred, normalize=True)"
   ]
  },
  {
   "cell_type": "code",
   "execution_count": 129,
   "metadata": {},
   "outputs": [
    {
     "name": "stdout",
     "output_type": "stream",
     "text": [
      "              precision    recall  f1-score   support\n",
      "\n",
      "           0       0.96      0.96      0.96     12281\n",
      "           1       0.85      0.79      0.82       944\n",
      "           2       0.83      0.84      0.84      1896\n",
      "\n",
      "    accuracy                           0.94     15121\n",
      "   macro avg       0.88      0.86      0.87     15121\n",
      "weighted avg       0.94      0.94      0.94     15121\n",
      "\n"
     ]
    }
   ],
   "source": [
    "print(classification_report(y_test,y_pred)) #Medidas de desempeño para el casificador multiclase "
   ]
  },
  {
   "cell_type": "markdown",
   "metadata": {},
   "source": [
    "### CatBoost"
   ]
  },
  {
   "cell_type": "code",
   "execution_count": 130,
   "metadata": {},
   "outputs": [],
   "source": [
    "model = CatBoostClassifier(iterations=40,\n",
    "                           depth=6,\n",
    "                           learning_rate=1,\n",
    "                           #loss_function='Logloss',\n",
    "                           verbose=True)"
   ]
  },
  {
   "cell_type": "code",
   "execution_count": 131,
   "metadata": {},
   "outputs": [
    {
     "name": "stdout",
     "output_type": "stream",
     "text": [
      "0:\tlearn: 0.3162786\ttotal: 66.3ms\tremaining: 2.58s\n",
      "1:\tlearn: 0.2600372\ttotal: 111ms\tremaining: 2.12s\n",
      "2:\tlearn: 0.2508038\ttotal: 157ms\tremaining: 1.94s\n",
      "3:\tlearn: 0.2314098\ttotal: 210ms\tremaining: 1.89s\n",
      "4:\tlearn: 0.2210327\ttotal: 301ms\tremaining: 2.11s\n",
      "5:\tlearn: 0.2137480\ttotal: 601ms\tremaining: 3.41s\n",
      "6:\tlearn: 0.2085864\ttotal: 848ms\tremaining: 4s\n",
      "7:\tlearn: 0.2065642\ttotal: 982ms\tremaining: 3.93s\n",
      "8:\tlearn: 0.2037174\ttotal: 1.14s\tremaining: 3.92s\n",
      "9:\tlearn: 0.1911737\ttotal: 1.34s\tremaining: 4.02s\n",
      "10:\tlearn: 0.1880875\ttotal: 1.54s\tremaining: 4.07s\n",
      "11:\tlearn: 0.1839562\ttotal: 1.82s\tremaining: 4.25s\n",
      "12:\tlearn: 0.1821001\ttotal: 2s\tremaining: 4.16s\n",
      "13:\tlearn: 0.1795603\ttotal: 2.09s\tremaining: 3.88s\n",
      "14:\tlearn: 0.1778430\ttotal: 2.17s\tremaining: 3.62s\n",
      "15:\tlearn: 0.1767445\ttotal: 2.29s\tremaining: 3.44s\n",
      "16:\tlearn: 0.1759815\ttotal: 2.38s\tremaining: 3.23s\n",
      "17:\tlearn: 0.1752784\ttotal: 2.47s\tremaining: 3.02s\n",
      "18:\tlearn: 0.1741320\ttotal: 2.57s\tremaining: 2.84s\n",
      "19:\tlearn: 0.1731541\ttotal: 2.66s\tremaining: 2.66s\n",
      "20:\tlearn: 0.1718526\ttotal: 2.75s\tremaining: 2.49s\n",
      "21:\tlearn: 0.1709117\ttotal: 2.82s\tremaining: 2.31s\n",
      "22:\tlearn: 0.1705175\ttotal: 2.88s\tremaining: 2.13s\n",
      "23:\tlearn: 0.1696308\ttotal: 2.95s\tremaining: 1.97s\n",
      "24:\tlearn: 0.1687591\ttotal: 3.06s\tremaining: 1.84s\n",
      "25:\tlearn: 0.1680924\ttotal: 3.16s\tremaining: 1.7s\n",
      "26:\tlearn: 0.1678161\ttotal: 3.42s\tremaining: 1.65s\n",
      "27:\tlearn: 0.1668364\ttotal: 3.55s\tremaining: 1.52s\n",
      "28:\tlearn: 0.1663623\ttotal: 3.62s\tremaining: 1.37s\n",
      "29:\tlearn: 0.1659477\ttotal: 3.71s\tremaining: 1.24s\n",
      "30:\tlearn: 0.1651239\ttotal: 3.85s\tremaining: 1.12s\n",
      "31:\tlearn: 0.1645859\ttotal: 3.96s\tremaining: 990ms\n",
      "32:\tlearn: 0.1639308\ttotal: 4.06s\tremaining: 862ms\n",
      "33:\tlearn: 0.1633996\ttotal: 4.15s\tremaining: 733ms\n",
      "34:\tlearn: 0.1629935\ttotal: 4.22s\tremaining: 603ms\n",
      "35:\tlearn: 0.1625236\ttotal: 4.3s\tremaining: 478ms\n",
      "36:\tlearn: 0.1616706\ttotal: 4.43s\tremaining: 359ms\n",
      "37:\tlearn: 0.1608182\ttotal: 4.54s\tremaining: 239ms\n",
      "38:\tlearn: 0.1600768\ttotal: 4.62s\tremaining: 118ms\n",
      "39:\tlearn: 0.1596595\ttotal: 4.7s\tremaining: 0us\n"
     ]
    }
   ],
   "source": [
    "#Ajustamos el modelo con los conjuntos de entrenamiento\n",
    "cat=model.fit(X_train, y_train)"
   ]
  },
  {
   "cell_type": "code",
   "execution_count": 132,
   "metadata": {},
   "outputs": [
    {
     "data": {
      "image/png": "[encoded data removed]",
      "text/plain": [
       "<Figure size 432x288 with 1 Axes>"
      ]
     },
     "metadata": {
      "needs_background": "light"
     },
     "output_type": "display_data"
    }
   ],
   "source": [
    "#Realizamos prueba con el conjunto de test, e imprimimos la matriz de confusión para las predicciones\n",
    "y_pred = cat.predict(X_test)\n",
    "plotCM(y_test,y_pred, normalize=True)"
   ]
  },
  {
   "cell_type": "code",
   "execution_count": 133,
   "metadata": {},
   "outputs": [
    {
     "name": "stdout",
     "output_type": "stream",
     "text": [
      "              precision    recall  f1-score   support\n",
      "\n",
      "           0       0.95      0.96      0.96     12281\n",
      "           1       0.81      0.76      0.79       944\n",
      "           2       0.83      0.82      0.82      1896\n",
      "\n",
      "    accuracy                           0.93     15121\n",
      "   macro avg       0.87      0.85      0.86     15121\n",
      "weighted avg       0.93      0.93      0.93     15121\n",
      "\n"
     ]
    }
   ],
   "source": [
    "print(classification_report(y_test,y_pred)) #Medidas de desempeño para el casificador multiclase "
   ]
  },
  {
   "cell_type": "markdown",
   "metadata": {},
   "source": [
    "### Modelos con 5 y 10 lags"
   ]
  },
  {
   "cell_type": "markdown",
   "metadata": {},
   "source": [
    "Con el objetivo de contrastar los resultados obtenidos para los modelos aplicados a la base de 3 lags, ajustamos el set de los clasificadores con mejores resultados a dos bases diferentes: una con 5-lags y otra con 10 lags de precios. Esto nos permitirá observar de alguna forma si la memoria de la serie de precios tiene incidencia en los resultados para la predicción de las condiciones de arbitraje. "
   ]
  },
  {
   "cell_type": "code",
   "execution_count": 134,
   "metadata": {},
   "outputs": [
    {
     "data": {
      "text/html": [
       "<div>\n",
       "<style scoped>\n",
       "    .dataframe tbody tr th:only-of-type {\n",
       "        vertical-align: middle;\n",
       "    }\n",
       "\n",
       "    .dataframe tbody tr th {\n",
       "        vertical-align: top;\n",
       "    }\n",
       "\n",
       "    .dataframe thead th {\n",
       "        text-align: right;\n",
       "    }\n",
       "</style>\n",
       "<table border=\"1\" class=\"dataframe\">\n",
       "  <thead>\n",
       "    <tr style=\"text-align: right;\">\n",
       "      <th></th>\n",
       "      <th>Unnamed: 0</th>\n",
       "      <th>Date</th>\n",
       "      <th>Hora_COL</th>\n",
       "      <th>Minuto</th>\n",
       "      <th>Hora_NY</th>\n",
       "      <th>Festivo_COL</th>\n",
       "      <th>Festivo_NYSE</th>\n",
       "      <th>Next_Day</th>\n",
       "      <th>Subasta</th>\n",
       "      <th>PFB_ABIERTO</th>\n",
       "      <th>...</th>\n",
       "      <th>lag_1_Spread_BE_SL</th>\n",
       "      <th>lag_2_Spread_BE_SL</th>\n",
       "      <th>lag_3_Spread_BE_SL</th>\n",
       "      <th>lag_4_Spread_BE_SL</th>\n",
       "      <th>lag_5_Spread_BE_SL</th>\n",
       "      <th>lag_1_Spread_BL_SE</th>\n",
       "      <th>lag_2_Spread_BL_SE</th>\n",
       "      <th>lag_3_Spread_BL_SE</th>\n",
       "      <th>lag_4_Spread_BL_SE</th>\n",
       "      <th>lag_5_Spread_BL_SE</th>\n",
       "    </tr>\n",
       "  </thead>\n",
       "  <tbody>\n",
       "    <tr>\n",
       "      <th>5</th>\n",
       "      <td>5</td>\n",
       "      <td>2022-01-03</td>\n",
       "      <td>9</td>\n",
       "      <td>59</td>\n",
       "      <td>9</td>\n",
       "      <td>False</td>\n",
       "      <td>False</td>\n",
       "      <td>0</td>\n",
       "      <td>0</td>\n",
       "      <td>1</td>\n",
       "      <td>...</td>\n",
       "      <td>-77.62100</td>\n",
       "      <td>-77.62100</td>\n",
       "      <td>-85.5630</td>\n",
       "      <td>-75.37175</td>\n",
       "      <td>-352.32380</td>\n",
       "      <td>-122.9355</td>\n",
       "      <td>-137.60644</td>\n",
       "      <td>-137.60644</td>\n",
       "      <td>-157.96754</td>\n",
       "      <td>-186.30125</td>\n",
       "    </tr>\n",
       "    <tr>\n",
       "      <th>6</th>\n",
       "      <td>6</td>\n",
       "      <td>2022-01-03</td>\n",
       "      <td>10</td>\n",
       "      <td>0</td>\n",
       "      <td>10</td>\n",
       "      <td>False</td>\n",
       "      <td>False</td>\n",
       "      <td>0</td>\n",
       "      <td>0</td>\n",
       "      <td>1</td>\n",
       "      <td>...</td>\n",
       "      <td>-69.28190</td>\n",
       "      <td>-77.62100</td>\n",
       "      <td>-77.6210</td>\n",
       "      <td>-85.56300</td>\n",
       "      <td>-75.37175</td>\n",
       "      <td>-122.9355</td>\n",
       "      <td>-122.93550</td>\n",
       "      <td>-137.60644</td>\n",
       "      <td>-137.60644</td>\n",
       "      <td>-157.96754</td>\n",
       "    </tr>\n",
       "    <tr>\n",
       "      <th>7</th>\n",
       "      <td>7</td>\n",
       "      <td>2022-01-03</td>\n",
       "      <td>10</td>\n",
       "      <td>1</td>\n",
       "      <td>10</td>\n",
       "      <td>False</td>\n",
       "      <td>False</td>\n",
       "      <td>0</td>\n",
       "      <td>0</td>\n",
       "      <td>1</td>\n",
       "      <td>...</td>\n",
       "      <td>-61.73700</td>\n",
       "      <td>-69.28190</td>\n",
       "      <td>-77.6210</td>\n",
       "      <td>-77.62100</td>\n",
       "      <td>-85.56300</td>\n",
       "      <td>-94.0900</td>\n",
       "      <td>-122.93550</td>\n",
       "      <td>-122.93550</td>\n",
       "      <td>-137.60644</td>\n",
       "      <td>-137.60644</td>\n",
       "    </tr>\n",
       "    <tr>\n",
       "      <th>8</th>\n",
       "      <td>8</td>\n",
       "      <td>2022-01-03</td>\n",
       "      <td>10</td>\n",
       "      <td>2</td>\n",
       "      <td>10</td>\n",
       "      <td>False</td>\n",
       "      <td>False</td>\n",
       "      <td>0</td>\n",
       "      <td>0</td>\n",
       "      <td>1</td>\n",
       "      <td>...</td>\n",
       "      <td>-237.10425</td>\n",
       "      <td>-61.73700</td>\n",
       "      <td>-69.2819</td>\n",
       "      <td>-77.62100</td>\n",
       "      <td>-77.62100</td>\n",
       "      <td>-12.8650</td>\n",
       "      <td>-94.09000</td>\n",
       "      <td>-122.93550</td>\n",
       "      <td>-122.93550</td>\n",
       "      <td>-137.60644</td>\n",
       "    </tr>\n",
       "    <tr>\n",
       "      <th>9</th>\n",
       "      <td>9</td>\n",
       "      <td>2022-01-03</td>\n",
       "      <td>10</td>\n",
       "      <td>3</td>\n",
       "      <td>10</td>\n",
       "      <td>False</td>\n",
       "      <td>False</td>\n",
       "      <td>0</td>\n",
       "      <td>0</td>\n",
       "      <td>1</td>\n",
       "      <td>...</td>\n",
       "      <td>-258.03170</td>\n",
       "      <td>-237.10425</td>\n",
       "      <td>-61.7370</td>\n",
       "      <td>-69.28190</td>\n",
       "      <td>-77.62100</td>\n",
       "      <td>-25.2895</td>\n",
       "      <td>-12.86500</td>\n",
       "      <td>-94.09000</td>\n",
       "      <td>-122.93550</td>\n",
       "      <td>-122.93550</td>\n",
       "    </tr>\n",
       "  </tbody>\n",
       "</table>\n",
       "<p>5 rows × 91 columns</p>\n",
       "</div>"
      ],
      "text/plain": [
       "   Unnamed: 0       Date  Hora_COL  Minuto  Hora_NY  Festivo_COL  \\\n",
       "5           5 2022-01-03         9      59        9        False   \n",
       "6           6 2022-01-03        10       0       10        False   \n",
       "7           7 2022-01-03        10       1       10        False   \n",
       "8           8 2022-01-03        10       2       10        False   \n",
       "9           9 2022-01-03        10       3       10        False   \n",
       "\n",
       "   Festivo_NYSE  Next_Day  Subasta  PFB_ABIERTO  ...  lag_1_Spread_BE_SL  \\\n",
       "5         False         0        0            1  ...           -77.62100   \n",
       "6         False         0        0            1  ...           -69.28190   \n",
       "7         False         0        0            1  ...           -61.73700   \n",
       "8         False         0        0            1  ...          -237.10425   \n",
       "9         False         0        0            1  ...          -258.03170   \n",
       "\n",
       "   lag_2_Spread_BE_SL  lag_3_Spread_BE_SL  lag_4_Spread_BE_SL  \\\n",
       "5           -77.62100            -85.5630           -75.37175   \n",
       "6           -77.62100            -77.6210           -85.56300   \n",
       "7           -69.28190            -77.6210           -77.62100   \n",
       "8           -61.73700            -69.2819           -77.62100   \n",
       "9          -237.10425            -61.7370           -69.28190   \n",
       "\n",
       "   lag_5_Spread_BE_SL  lag_1_Spread_BL_SE  lag_2_Spread_BL_SE  \\\n",
       "5          -352.32380           -122.9355          -137.60644   \n",
       "6           -75.37175           -122.9355          -122.93550   \n",
       "7           -85.56300            -94.0900          -122.93550   \n",
       "8           -77.62100            -12.8650           -94.09000   \n",
       "9           -77.62100            -25.2895           -12.86500   \n",
       "\n",
       "   lag_3_Spread_BL_SE  lag_4_Spread_BL_SE  lag_5_Spread_BL_SE  \n",
       "5          -137.60644          -157.96754          -186.30125  \n",
       "6          -137.60644          -137.60644          -157.96754  \n",
       "7          -122.93550          -137.60644          -137.60644  \n",
       "8          -122.93550          -122.93550          -137.60644  \n",
       "9           -94.09000          -122.93550          -122.93550  \n",
       "\n",
       "[5 rows x 91 columns]"
      ]
     },
     "execution_count": 134,
     "metadata": {},
     "output_type": "execute_result"
    }
   ],
   "source": [
    "lags_5.head()"
   ]
  },
  {
   "cell_type": "code",
   "execution_count": 135,
   "metadata": {},
   "outputs": [
    {
     "data": {
      "text/plain": [
       "Index(['Unnamed: 0', 'Date', 'Hora_COL', 'Minuto', 'Hora_NY', 'Festivo_COL',\n",
       "       'Festivo_NYSE', 'Next_Day', 'Subasta', 'PFB_ABIERTO', 'CIB_ABIERTO',\n",
       "       'CIB_close', 'COP_close', 'PFB_close', 'SPX_close', 'tasa_cambio',\n",
       "       'USD_BID', 'USD_ASK', 'ASK_CIB', 'BID_CIB', 'ASK_PFB', 'BID_PFB',\n",
       "       'Spread_BE_SL', 'Spread_BL_SE', 'Arbitraje_BE_SL', 'Arbitraje_BL_SE',\n",
       "       'lag_1_CIB_close', 'lag_2_CIB_close', 'lag_3_CIB_close',\n",
       "       'lag_4_CIB_close', 'lag_5_CIB_close', 'lag_1_COP_close',\n",
       "       'lag_2_COP_close', 'lag_3_COP_close', 'lag_4_COP_close',\n",
       "       'lag_5_COP_close', 'lag_1_PFB_close', 'lag_2_PFB_close',\n",
       "       'lag_3_PFB_close', 'lag_4_PFB_close', 'lag_5_PFB_close',\n",
       "       'lag_1_SPX_close', 'lag_2_SPX_close', 'lag_3_SPX_close',\n",
       "       'lag_4_SPX_close', 'lag_5_SPX_close', 'lag_1_tasa_cambio',\n",
       "       'lag_2_tasa_cambio', 'lag_3_tasa_cambio', 'lag_4_tasa_cambio',\n",
       "       'lag_5_tasa_cambio', 'lag_1_USD_BID', 'lag_2_USD_BID', 'lag_3_USD_BID',\n",
       "       'lag_4_USD_BID', 'lag_5_USD_BID', 'lag_1_USD_ASK', 'lag_2_USD_ASK',\n",
       "       'lag_3_USD_ASK', 'lag_4_USD_ASK', 'lag_5_USD_ASK', 'lag_1_ASK_CIB',\n",
       "       'lag_2_ASK_CIB', 'lag_3_ASK_CIB', 'lag_4_ASK_CIB', 'lag_5_ASK_CIB',\n",
       "       'lag_1_BID_CIB', 'lag_2_BID_CIB', 'lag_3_BID_CIB', 'lag_4_BID_CIB',\n",
       "       'lag_5_BID_CIB', 'lag_1_ASK_PFB', 'lag_2_ASK_PFB', 'lag_3_ASK_PFB',\n",
       "       'lag_4_ASK_PFB', 'lag_5_ASK_PFB', 'lag_1_BID_PFB', 'lag_2_BID_PFB',\n",
       "       'lag_3_BID_PFB', 'lag_4_BID_PFB', 'lag_5_BID_PFB', 'lag_1_Spread_BE_SL',\n",
       "       'lag_2_Spread_BE_SL', 'lag_3_Spread_BE_SL', 'lag_4_Spread_BE_SL',\n",
       "       'lag_5_Spread_BE_SL', 'lag_1_Spread_BL_SE', 'lag_2_Spread_BL_SE',\n",
       "       'lag_3_Spread_BL_SE', 'lag_4_Spread_BL_SE', 'lag_5_Spread_BL_SE'],\n",
       "      dtype='object')"
      ]
     },
     "execution_count": 135,
     "metadata": {},
     "output_type": "execute_result"
    }
   ],
   "source": [
    "lags_5.columns"
   ]
  },
  {
   "cell_type": "markdown",
   "metadata": {},
   "source": [
    "### Modelos para 5 lags"
   ]
  },
  {
   "cell_type": "markdown",
   "metadata": {},
   "source": [
    "Definimos el conjunto de features como los 5 últimos lags de precio para las variables numéricas de precio."
   ]
  },
  {
   "cell_type": "code",
   "execution_count": 136,
   "metadata": {},
   "outputs": [],
   "source": [
    "X=lags_5[['lag_1_CIB_close', 'lag_2_CIB_close', 'lag_3_CIB_close',\n",
    "       'lag_4_CIB_close', 'lag_5_CIB_close', 'lag_1_COP_close',\n",
    "       'lag_2_COP_close', 'lag_3_COP_close', 'lag_4_COP_close',\n",
    "       'lag_5_COP_close', 'lag_1_PFB_close', 'lag_2_PFB_close', 'lag_3_PFB_close',\n",
    "       'lag_4_PFB_close', 'lag_5_PFB_close', 'lag_1_SPX_close',\n",
    "       'lag_2_SPX_close', 'lag_3_SPX_close', 'lag_4_SPX_close',\n",
    "       'lag_5_SPX_close', 'lag_1_tasa_cambio', 'lag_2_tasa_cambio',\n",
    "       'lag_3_tasa_cambio', 'lag_4_tasa_cambio', 'lag_5_tasa_cambio',\n",
    "       'lag_1_USD_BID', 'lag_2_USD_BID', 'lag_3_USD_BID', 'lag_4_USD_BID',\n",
    "       'lag_5_USD_BID', 'lag_1_USD_ASK', 'lag_2_USD_ASK', 'lag_3_USD_ASK',\n",
    "       'lag_4_USD_ASK', 'lag_5_USD_ASK', 'lag_1_ASK_CIB', 'lag_2_ASK_CIB',\n",
    "       'lag_3_ASK_CIB', 'lag_4_ASK_CIB', 'lag_5_ASK_CIB', 'lag_1_BID_CIB',\n",
    "       'lag_2_BID_CIB', 'lag_3_BID_CIB', 'lag_4_BID_CIB', 'lag_5_BID_CIB',\n",
    "       'lag_1_ASK_PFB', 'lag_2_ASK_PFB', 'lag_3_ASK_PFB', 'lag_4_ASK_PFB',\n",
    "       'lag_5_ASK_PFB', 'lag_1_BID_PFB', 'lag_2_BID_PFB', 'lag_3_BID_PFB',\n",
    "       'lag_4_BID_PFB', 'lag_5_BID_PFB', 'lag_1_Spread_BE_SL',\n",
    "       'lag_2_Spread_BE_SL', 'lag_3_Spread_BE_SL', 'lag_4_Spread_BE_SL',\n",
    "       'lag_5_Spread_BE_SL', 'lag_1_Spread_BL_SE', 'lag_2_Spread_BL_SE',\n",
    "       'lag_3_Spread_BL_SE', 'lag_4_Spread_BL_SE', 'lag_5_Spread_BL_SE']]"
   ]
  },
  {
   "cell_type": "code",
   "execution_count": 137,
   "metadata": {},
   "outputs": [
    {
     "data": {
      "text/html": [
       "<div>\n",
       "<style scoped>\n",
       "    .dataframe tbody tr th:only-of-type {\n",
       "        vertical-align: middle;\n",
       "    }\n",
       "\n",
       "    .dataframe tbody tr th {\n",
       "        vertical-align: top;\n",
       "    }\n",
       "\n",
       "    .dataframe thead th {\n",
       "        text-align: right;\n",
       "    }\n",
       "</style>\n",
       "<table border=\"1\" class=\"dataframe\">\n",
       "  <thead>\n",
       "    <tr style=\"text-align: right;\">\n",
       "      <th></th>\n",
       "      <th>lag_1_CIB_close</th>\n",
       "      <th>lag_2_CIB_close</th>\n",
       "      <th>lag_3_CIB_close</th>\n",
       "      <th>lag_4_CIB_close</th>\n",
       "      <th>lag_5_CIB_close</th>\n",
       "      <th>lag_1_COP_close</th>\n",
       "      <th>lag_2_COP_close</th>\n",
       "      <th>lag_3_COP_close</th>\n",
       "      <th>lag_4_COP_close</th>\n",
       "      <th>lag_5_COP_close</th>\n",
       "      <th>...</th>\n",
       "      <th>lag_1_Spread_BE_SL</th>\n",
       "      <th>lag_2_Spread_BE_SL</th>\n",
       "      <th>lag_3_Spread_BE_SL</th>\n",
       "      <th>lag_4_Spread_BE_SL</th>\n",
       "      <th>lag_5_Spread_BE_SL</th>\n",
       "      <th>lag_1_Spread_BL_SE</th>\n",
       "      <th>lag_2_Spread_BL_SE</th>\n",
       "      <th>lag_3_Spread_BL_SE</th>\n",
       "      <th>lag_4_Spread_BL_SE</th>\n",
       "      <th>lag_5_Spread_BL_SE</th>\n",
       "    </tr>\n",
       "  </thead>\n",
       "  <tbody>\n",
       "    <tr>\n",
       "      <th>5</th>\n",
       "      <td>31.68</td>\n",
       "      <td>31.73</td>\n",
       "      <td>31.6697</td>\n",
       "      <td>31.5800</td>\n",
       "      <td>31.5800</td>\n",
       "      <td>4072.72</td>\n",
       "      <td>4073.86</td>\n",
       "      <td>4075.00</td>\n",
       "      <td>4075.00</td>\n",
       "      <td>4075.00</td>\n",
       "      <td>...</td>\n",
       "      <td>-77.62100</td>\n",
       "      <td>-77.62100</td>\n",
       "      <td>-85.5630</td>\n",
       "      <td>-75.37175</td>\n",
       "      <td>-352.32380</td>\n",
       "      <td>-122.9355</td>\n",
       "      <td>-137.60644</td>\n",
       "      <td>-137.60644</td>\n",
       "      <td>-157.96754</td>\n",
       "      <td>-186.30125</td>\n",
       "    </tr>\n",
       "    <tr>\n",
       "      <th>6</th>\n",
       "      <td>31.68</td>\n",
       "      <td>31.68</td>\n",
       "      <td>31.7300</td>\n",
       "      <td>31.6697</td>\n",
       "      <td>31.5800</td>\n",
       "      <td>4072.00</td>\n",
       "      <td>4072.72</td>\n",
       "      <td>4073.86</td>\n",
       "      <td>4075.00</td>\n",
       "      <td>4075.00</td>\n",
       "      <td>...</td>\n",
       "      <td>-69.28190</td>\n",
       "      <td>-77.62100</td>\n",
       "      <td>-77.6210</td>\n",
       "      <td>-85.56300</td>\n",
       "      <td>-75.37175</td>\n",
       "      <td>-122.9355</td>\n",
       "      <td>-122.93550</td>\n",
       "      <td>-137.60644</td>\n",
       "      <td>-137.60644</td>\n",
       "      <td>-157.96754</td>\n",
       "    </tr>\n",
       "    <tr>\n",
       "      <th>7</th>\n",
       "      <td>31.62</td>\n",
       "      <td>31.68</td>\n",
       "      <td>31.6800</td>\n",
       "      <td>31.7300</td>\n",
       "      <td>31.6697</td>\n",
       "      <td>4072.00</td>\n",
       "      <td>4072.00</td>\n",
       "      <td>4072.72</td>\n",
       "      <td>4073.86</td>\n",
       "      <td>4075.00</td>\n",
       "      <td>...</td>\n",
       "      <td>-61.73700</td>\n",
       "      <td>-69.28190</td>\n",
       "      <td>-77.6210</td>\n",
       "      <td>-77.62100</td>\n",
       "      <td>-85.56300</td>\n",
       "      <td>-94.0900</td>\n",
       "      <td>-122.93550</td>\n",
       "      <td>-122.93550</td>\n",
       "      <td>-137.60644</td>\n",
       "      <td>-137.60644</td>\n",
       "    </tr>\n",
       "    <tr>\n",
       "      <th>8</th>\n",
       "      <td>31.73</td>\n",
       "      <td>31.62</td>\n",
       "      <td>31.6800</td>\n",
       "      <td>31.6800</td>\n",
       "      <td>31.7300</td>\n",
       "      <td>4070.50</td>\n",
       "      <td>4072.00</td>\n",
       "      <td>4072.00</td>\n",
       "      <td>4072.72</td>\n",
       "      <td>4073.86</td>\n",
       "      <td>...</td>\n",
       "      <td>-237.10425</td>\n",
       "      <td>-61.73700</td>\n",
       "      <td>-69.2819</td>\n",
       "      <td>-77.62100</td>\n",
       "      <td>-77.62100</td>\n",
       "      <td>-12.8650</td>\n",
       "      <td>-94.09000</td>\n",
       "      <td>-122.93550</td>\n",
       "      <td>-122.93550</td>\n",
       "      <td>-137.60644</td>\n",
       "    </tr>\n",
       "    <tr>\n",
       "      <th>9</th>\n",
       "      <td>31.72</td>\n",
       "      <td>31.73</td>\n",
       "      <td>31.6200</td>\n",
       "      <td>31.6800</td>\n",
       "      <td>31.6800</td>\n",
       "      <td>4071.50</td>\n",
       "      <td>4070.50</td>\n",
       "      <td>4072.00</td>\n",
       "      <td>4072.00</td>\n",
       "      <td>4072.72</td>\n",
       "      <td>...</td>\n",
       "      <td>-258.03170</td>\n",
       "      <td>-237.10425</td>\n",
       "      <td>-61.7370</td>\n",
       "      <td>-69.28190</td>\n",
       "      <td>-77.62100</td>\n",
       "      <td>-25.2895</td>\n",
       "      <td>-12.86500</td>\n",
       "      <td>-94.09000</td>\n",
       "      <td>-122.93550</td>\n",
       "      <td>-122.93550</td>\n",
       "    </tr>\n",
       "  </tbody>\n",
       "</table>\n",
       "<p>5 rows × 65 columns</p>\n",
       "</div>"
      ],
      "text/plain": [
       "   lag_1_CIB_close  lag_2_CIB_close  lag_3_CIB_close  lag_4_CIB_close  \\\n",
       "5            31.68            31.73          31.6697          31.5800   \n",
       "6            31.68            31.68          31.7300          31.6697   \n",
       "7            31.62            31.68          31.6800          31.7300   \n",
       "8            31.73            31.62          31.6800          31.6800   \n",
       "9            31.72            31.73          31.6200          31.6800   \n",
       "\n",
       "   lag_5_CIB_close  lag_1_COP_close  lag_2_COP_close  lag_3_COP_close  \\\n",
       "5          31.5800          4072.72          4073.86          4075.00   \n",
       "6          31.5800          4072.00          4072.72          4073.86   \n",
       "7          31.6697          4072.00          4072.00          4072.72   \n",
       "8          31.7300          4070.50          4072.00          4072.00   \n",
       "9          31.6800          4071.50          4070.50          4072.00   \n",
       "\n",
       "   lag_4_COP_close  lag_5_COP_close  ...  lag_1_Spread_BE_SL  \\\n",
       "5          4075.00          4075.00  ...           -77.62100   \n",
       "6          4075.00          4075.00  ...           -69.28190   \n",
       "7          4073.86          4075.00  ...           -61.73700   \n",
       "8          4072.72          4073.86  ...          -237.10425   \n",
       "9          4072.00          4072.72  ...          -258.03170   \n",
       "\n",
       "   lag_2_Spread_BE_SL  lag_3_Spread_BE_SL  lag_4_Spread_BE_SL  \\\n",
       "5           -77.62100            -85.5630           -75.37175   \n",
       "6           -77.62100            -77.6210           -85.56300   \n",
       "7           -69.28190            -77.6210           -77.62100   \n",
       "8           -61.73700            -69.2819           -77.62100   \n",
       "9          -237.10425            -61.7370           -69.28190   \n",
       "\n",
       "   lag_5_Spread_BE_SL  lag_1_Spread_BL_SE  lag_2_Spread_BL_SE  \\\n",
       "5          -352.32380           -122.9355          -137.60644   \n",
       "6           -75.37175           -122.9355          -122.93550   \n",
       "7           -85.56300            -94.0900          -122.93550   \n",
       "8           -77.62100            -12.8650           -94.09000   \n",
       "9           -77.62100            -25.2895           -12.86500   \n",
       "\n",
       "   lag_3_Spread_BL_SE  lag_4_Spread_BL_SE  lag_5_Spread_BL_SE  \n",
       "5          -137.60644          -157.96754          -186.30125  \n",
       "6          -137.60644          -137.60644          -157.96754  \n",
       "7          -122.93550          -137.60644          -137.60644  \n",
       "8          -122.93550          -122.93550          -137.60644  \n",
       "9           -94.09000          -122.93550          -122.93550  \n",
       "\n",
       "[5 rows x 65 columns]"
      ]
     },
     "execution_count": 137,
     "metadata": {},
     "output_type": "execute_result"
    }
   ],
   "source": [
    "X.head()"
   ]
  },
  {
   "cell_type": "code",
   "execution_count": 138,
   "metadata": {},
   "outputs": [
    {
     "data": {
      "text/plain": [
       "50401"
      ]
     },
     "execution_count": 138,
     "metadata": {},
     "output_type": "execute_result"
    }
   ],
   "source": [
    "len(X)"
   ]
  },
  {
   "cell_type": "markdown",
   "metadata": {},
   "source": [
    "### Targets"
   ]
  },
  {
   "cell_type": "markdown",
   "metadata": {},
   "source": [
    "Tal como hicimos para la base de 3-lags, definimos tres tipos de targets que representan las condiciones de arbitraje en el momento original."
   ]
  },
  {
   "cell_type": "code",
   "execution_count": 139,
   "metadata": {},
   "outputs": [],
   "source": [
    "y_BL_SE=lags_5['Arbitraje_BL_SE']\n",
    "y_BE_SL=lags_5['Arbitraje_BE_SL']"
   ]
  },
  {
   "cell_type": "code",
   "execution_count": 140,
   "metadata": {},
   "outputs": [],
   "source": [
    "y_arb=[]\n",
    "for i in range(len(X)):\n",
    "    if (y_BE_SL.loc[i+5]==1 or y_BL_SE.loc[i+5]==1):\n",
    "        y_arb.append(1)\n",
    "    else:\n",
    "        y_arb.append(0)"
   ]
  },
  {
   "cell_type": "code",
   "execution_count": 141,
   "metadata": {},
   "outputs": [],
   "source": [
    "y_cat=[]\n",
    "for i in range(len(X)):\n",
    "    if y_BE_SL.loc[i+5]==1: \n",
    "        y_cat.append(1)\n",
    "    elif y_BL_SE.loc[i+5]==1:\n",
    "        y_cat.append(2)\n",
    "    else:\n",
    "        y_cat.append(0)"
   ]
  },
  {
   "cell_type": "markdown",
   "metadata": {},
   "source": [
    "### Modelos para 5-lags: Categoría Buy Local / Sell Externo"
   ]
  },
  {
   "cell_type": "code",
   "execution_count": 142,
   "metadata": {},
   "outputs": [],
   "source": [
    "#Estandarizamos la base\n",
    "X_std=StandardScaler().fit_transform(X)"
   ]
  },
  {
   "cell_type": "code",
   "execution_count": 143,
   "metadata": {},
   "outputs": [],
   "source": [
    "#Train test split estratificado con el target de interés\n",
    "X_train, X_test, y_train, y_test = train_test_split(X_std, y_BL_SE, test_size=0.3, random_state=0, stratify=y_BL_SE)"
   ]
  },
  {
   "cell_type": "markdown",
   "metadata": {},
   "source": [
    "### Gradient Boosting"
   ]
  },
  {
   "cell_type": "code",
   "execution_count": 144,
   "metadata": {},
   "outputs": [],
   "source": [
    "#Primero ajustamos un modelo XGBClassifier con 1000 estimadores y profundidad máxima de 4\n",
    "model = xgb.XGBClassifier(n_estimators=1000, learning_rate=0.01, max_depth=4, random_state=1, use_label_encoder=False)"
   ]
  },
  {
   "cell_type": "code",
   "execution_count": 145,
   "metadata": {},
   "outputs": [],
   "source": [
    "gbm = model.fit(X_train, y_train)"
   ]
  },
  {
   "cell_type": "code",
   "execution_count": 146,
   "metadata": {},
   "outputs": [
    {
     "data": {
      "image/png": "[encoded data removed]",
      "text/plain": [
       "<Figure size 432x288 with 1 Axes>"
      ]
     },
     "metadata": {
      "needs_background": "light"
     },
     "output_type": "display_data"
    }
   ],
   "source": [
    "#Realizamos prueba con el conjunto de test, e imprimimos la matriz de confusión para las predicciones\n",
    "y_pred = gbm.predict(X_test)\n",
    "plotCM(y_test,y_pred, normalize=True)"
   ]
  },
  {
   "cell_type": "code",
   "execution_count": 147,
   "metadata": {},
   "outputs": [
    {
     "name": "stdout",
     "output_type": "stream",
     "text": [
      "              precision    recall  f1-score   support\n",
      "\n",
      "           0       0.98      0.98      0.98     13225\n",
      "           1       0.83      0.83      0.83      1896\n",
      "\n",
      "    accuracy                           0.96     15121\n",
      "   macro avg       0.90      0.90      0.90     15121\n",
      "weighted avg       0.96      0.96      0.96     15121\n",
      "\n"
     ]
    }
   ],
   "source": [
    "print(classification_report(y_test,y_pred)) #Medidas de desempeño para el casificador multiclase "
   ]
  },
  {
   "cell_type": "markdown",
   "metadata": {},
   "source": [
    "### Histogram Gradient Boosting"
   ]
  },
  {
   "cell_type": "code",
   "execution_count": 148,
   "metadata": {},
   "outputs": [],
   "source": [
    "#Ajustamos el modelo para los conjuntos de entrenamiento\n",
    "clf_histBC = HistGradientBoostingClassifier().fit(X_train, y_train)"
   ]
  },
  {
   "cell_type": "code",
   "execution_count": 149,
   "metadata": {},
   "outputs": [
    {
     "data": {
      "image/png": "[encoded data removed]",
      "text/plain": [
       "<Figure size 432x288 with 1 Axes>"
      ]
     },
     "metadata": {
      "needs_background": "light"
     },
     "output_type": "display_data"
    }
   ],
   "source": [
    "#Realizamos prueba con el conjunto de test, e imprimimos la matriz de confusión para las predicciones\n",
    "y_pred = clf_histBC.predict(X_test)\n",
    "plotCM(y_test,y_pred, normalize=True)"
   ]
  },
  {
   "cell_type": "markdown",
   "metadata": {},
   "source": [
    "### LightGBM"
   ]
  },
  {
   "cell_type": "code",
   "execution_count": 150,
   "metadata": {},
   "outputs": [],
   "source": [
    "gbm = lgb.LGBMClassifier(num_leaves=31,\n",
    "                        learning_rate=0.5,\n",
    "                        n_estimators=20)"
   ]
  },
  {
   "cell_type": "code",
   "execution_count": 151,
   "metadata": {},
   "outputs": [],
   "source": [
    "#Ajustamos el modelo con los conjuntos de entrenamiento\n",
    "gbm=gbm.fit(X_train, y_train)"
   ]
  },
  {
   "cell_type": "code",
   "execution_count": 152,
   "metadata": {},
   "outputs": [
    {
     "data": {
      "image/png": "[encoded data removed]",
      "text/plain": [
       "<Figure size 432x288 with 1 Axes>"
      ]
     },
     "metadata": {
      "needs_background": "light"
     },
     "output_type": "display_data"
    }
   ],
   "source": [
    "#Realizamos prueba con el conjunto de test, e imprimimos la matriz de confusión para las predicciones\n",
    "y_pred = gbm.predict(X_test,num_iteration=gbm.best_iteration_)\n",
    "plotCM(y_test,y_pred, normalize=True)"
   ]
  },
  {
   "cell_type": "markdown",
   "metadata": {},
   "source": [
    "### Modelos para 5 lags que identifican la categoría de Arbitraje"
   ]
  },
  {
   "cell_type": "code",
   "execution_count": 153,
   "metadata": {},
   "outputs": [],
   "source": [
    "#Estratiticamos el split con respecto al target multiclase\n",
    "X_train, X_test, y_train, y_test = train_test_split(X_std, y_cat, test_size=0.3, random_state=0, stratify=y_cat)"
   ]
  },
  {
   "cell_type": "markdown",
   "metadata": {},
   "source": [
    "### Gradient Boosting"
   ]
  },
  {
   "cell_type": "code",
   "execution_count": 154,
   "metadata": {},
   "outputs": [
    {
     "name": "stdout",
     "output_type": "stream",
     "text": [
      "[11:07:21] WARNING: C:/Users/administrator/workspace/xgboost-win64_release_1.6.0/src/learner.cc:627: \n",
      "Parameters: { \"scale_pos_weight\" } might not be used.\n",
      "\n",
      "  This could be a false alarm, with some parameters getting used by language bindings but\n",
      "  then being mistakenly passed down to XGBoost core, or some parameter actually being used\n",
      "  but getting flagged wrongly here. Please open an issue if you find any such cases.\n",
      "\n",
      "\n"
     ]
    }
   ],
   "source": [
    "gbm = model.fit(X_train, y_train)"
   ]
  },
  {
   "cell_type": "code",
   "execution_count": 155,
   "metadata": {},
   "outputs": [
    {
     "data": {
      "image/png": "[encoded data removed]",
      "text/plain": [
       "<Figure size 432x288 with 1 Axes>"
      ]
     },
     "metadata": {
      "needs_background": "light"
     },
     "output_type": "display_data"
    }
   ],
   "source": [
    "#Realizamos prueba con el conjunto de test, e imprimimos la matriz de confusión para las predicciones\n",
    "y_pred = gbm.predict(X_test)\n",
    "plotCM(y_test,y_pred, normalize=True)"
   ]
  },
  {
   "cell_type": "markdown",
   "metadata": {},
   "source": [
    "### Modelo para 5-lags para identificar arbitraje independiente de la categoría"
   ]
  },
  {
   "cell_type": "markdown",
   "metadata": {},
   "source": [
    "Tal como hicimos para 3-lags, vale la pena observar el promedio de arbitrajes correctamente clasificados, independientemente de si el modelo identifica la categoría de arbitraje (BE/SL o BL/SE). Esto nos permite tener un punto de referencia con el propósito de observar de manera general si la memoria del modelo tiene que ver con su capacidad para identificar condiciones de arbitraje."
   ]
  },
  {
   "cell_type": "code",
   "execution_count": 156,
   "metadata": {},
   "outputs": [],
   "source": [
    "X_train, X_test, y_train, y_test = train_test_split(X_std, y_arb, test_size=0.3, random_state=0, stratify=y_arb)"
   ]
  },
  {
   "cell_type": "code",
   "execution_count": 157,
   "metadata": {},
   "outputs": [],
   "source": [
    "#Ajustamos el modelo para los conjuntos de entrenamiento\n",
    "clf_histBC = HistGradientBoostingClassifier().fit(X_train, y_train)"
   ]
  },
  {
   "cell_type": "code",
   "execution_count": 158,
   "metadata": {},
   "outputs": [
    {
     "data": {
      "image/png": "[encoded data removed]",
      "text/plain": [
       "<Figure size 432x288 with 1 Axes>"
      ]
     },
     "metadata": {
      "needs_background": "light"
     },
     "output_type": "display_data"
    }
   ],
   "source": [
    "#Realizamos prueba con el conjunto de test, e imprimimos la matriz de confusión para las predicciones\n",
    "y_pred = clf_histBC.predict(X_test)\n",
    "plotCM(y_test,y_pred, normalize=True)"
   ]
  },
  {
   "cell_type": "code",
   "execution_count": 159,
   "metadata": {},
   "outputs": [
    {
     "name": "stdout",
     "output_type": "stream",
     "text": [
      "              precision    recall  f1-score   support\n",
      "\n",
      "           0       0.96      0.97      0.96     12281\n",
      "           1       0.84      0.81      0.83      2840\n",
      "\n",
      "    accuracy                           0.94     15121\n",
      "   macro avg       0.90      0.89      0.89     15121\n",
      "weighted avg       0.94      0.94      0.94     15121\n",
      "\n"
     ]
    }
   ],
   "source": [
    "print(classification_report(y_test,y_pred)) #Medidas de desempeño para el casificador multiclase "
   ]
  },
  {
   "cell_type": "markdown",
   "metadata": {},
   "source": [
    "Con respecto al mismo modelo aplciado a la base de 3-lags observamos una ligera disminución en las métricas de desempeño. Esta pequeña diferencia no nos permite establecer con evidencia suficiente cuál es la incidencia del número de rezagos en la capacidad predictiva del modelo para las condiciones de arbitraje, pero nos conduce a establecer un punto de partida para una metodología más formal y nos sugiere que debemos evaluar este punto más adelante."
   ]
  },
  {
   "cell_type": "markdown",
   "metadata": {},
   "source": [
    "### Modelos para 5-lags con variables categóricas y booleanas"
   ]
  },
  {
   "cell_type": "markdown",
   "metadata": {},
   "source": [
    "En este punto del ejercicio, quisiéramos observar si el resultado de las predicciones al incluir en los features a las variables ordinales y categóricas, es mejor a los resultados obtenidos hasta el momento. Hacemos el ejercicio para la base de 5-lags con uno de los modelos que produjo los mejores resultados en las secciones anteriores."
   ]
  },
  {
   "cell_type": "code",
   "execution_count": 160,
   "metadata": {},
   "outputs": [],
   "source": [
    "#Variables ordinales, boolleanas y numéricas\n",
    "X=lags_5[['Hora_COL', 'Minuto', 'Hora_NY', 'Festivo_COL',\n",
    "       'Festivo_NYSE', 'Next_Day', 'Subasta', 'PFB_ABIERTO', 'CIB_ABIERTO',\n",
    "        'lag_1_CIB_close', 'lag_2_CIB_close', 'lag_3_CIB_close',\n",
    "       'lag_4_CIB_close', 'lag_5_CIB_close', 'lag_1_COP_close',\n",
    "       'lag_2_COP_close', 'lag_3_COP_close', 'lag_4_COP_close',\n",
    "       'lag_5_COP_close', 'lag_1_PFB_close', 'lag_2_PFB_close', 'lag_3_PFB_close',\n",
    "       'lag_4_PFB_close', 'lag_5_PFB_close', 'lag_1_SPX_close',\n",
    "       'lag_2_SPX_close', 'lag_3_SPX_close', 'lag_4_SPX_close',\n",
    "       'lag_5_SPX_close', 'lag_1_tasa_cambio', 'lag_2_tasa_cambio',\n",
    "       'lag_3_tasa_cambio', 'lag_4_tasa_cambio', 'lag_5_tasa_cambio',\n",
    "       'lag_1_USD_BID', 'lag_2_USD_BID', 'lag_3_USD_BID', 'lag_4_USD_BID',\n",
    "       'lag_5_USD_BID', 'lag_1_USD_ASK', 'lag_2_USD_ASK', 'lag_3_USD_ASK',\n",
    "       'lag_4_USD_ASK', 'lag_5_USD_ASK', 'lag_1_ASK_CIB', 'lag_2_ASK_CIB',\n",
    "       'lag_3_ASK_CIB', 'lag_4_ASK_CIB', 'lag_5_ASK_CIB', 'lag_1_BID_CIB',\n",
    "       'lag_2_BID_CIB', 'lag_3_BID_CIB', 'lag_4_BID_CIB', 'lag_5_BID_CIB',\n",
    "       'lag_1_ASK_PFB', 'lag_2_ASK_PFB', 'lag_3_ASK_PFB', 'lag_4_ASK_PFB',\n",
    "       'lag_5_ASK_PFB', 'lag_1_BID_PFB', 'lag_2_BID_PFB', 'lag_3_BID_PFB',\n",
    "       'lag_4_BID_PFB', 'lag_5_BID_PFB', 'lag_1_Spread_BE_SL',\n",
    "       'lag_2_Spread_BE_SL', 'lag_3_Spread_BE_SL', 'lag_4_Spread_BE_SL',\n",
    "       'lag_5_Spread_BE_SL', 'lag_1_Spread_BL_SE', 'lag_2_Spread_BL_SE',\n",
    "       'lag_3_Spread_BL_SE', 'lag_4_Spread_BL_SE', 'lag_5_Spread_BL_SE']]"
   ]
  },
  {
   "cell_type": "code",
   "execution_count": 161,
   "metadata": {},
   "outputs": [],
   "source": [
    "X_std=StandardScaler().fit_transform(X)"
   ]
  },
  {
   "cell_type": "code",
   "execution_count": 162,
   "metadata": {},
   "outputs": [],
   "source": [
    "#estratificamos el split con el target multiclase\n",
    "X_train, X_test, y_train, y_test = train_test_split(X_std, y_cat, test_size=0.3, random_state=0, stratify=y_cat)"
   ]
  },
  {
   "cell_type": "markdown",
   "metadata": {},
   "source": [
    "### Gradient Boosting"
   ]
  },
  {
   "cell_type": "code",
   "execution_count": 163,
   "metadata": {},
   "outputs": [],
   "source": [
    "gbm = model.fit(X_train, y_train)"
   ]
  },
  {
   "cell_type": "code",
   "execution_count": 164,
   "metadata": {},
   "outputs": [
    {
     "data": {
      "image/png": "[encoded data removed]",
      "text/plain": [
       "<Figure size 432x288 with 1 Axes>"
      ]
     },
     "metadata": {
      "needs_background": "light"
     },
     "output_type": "display_data"
    }
   ],
   "source": [
    "#Realizamos prueba con el conjunto de test, e imprimimos la matriz de confusión para las predicciones\n",
    "y_pred = gbm.predict(X_test)\n",
    "plotCM(y_test,y_pred, normalize=True)"
   ]
  },
  {
   "cell_type": "code",
   "execution_count": 165,
   "metadata": {},
   "outputs": [
    {
     "name": "stdout",
     "output_type": "stream",
     "text": [
      "              precision    recall  f1-score   support\n",
      "\n",
      "           0       0.96      0.97      0.97     12281\n",
      "           1       0.84      0.79      0.82       944\n",
      "           2       0.88      0.84      0.86      1896\n",
      "\n",
      "    accuracy                           0.94     15121\n",
      "   macro avg       0.89      0.87      0.88     15121\n",
      "weighted avg       0.94      0.94      0.94     15121\n",
      "\n"
     ]
    }
   ],
   "source": [
    "print(classification_report(y_test,y_pred)) #Medidas de desempeño para el casificador multiclase "
   ]
  },
  {
   "cell_type": "markdown",
   "metadata": {},
   "source": [
    "Observamos, efectivamente, un ligero incremento en las métricas de desempeño con respecto al mismo modelo aplicado al set de variables estrictamente numéricas. Aunque no es evidencia para establecerlo, podemos partir de la base de que las variables ordinales y booleanas pueden generar un leve incremento en las métricas de desempeño."
   ]
  },
  {
   "cell_type": "markdown",
   "metadata": {},
   "source": [
    "### Selección de Features"
   ]
  },
  {
   "cell_type": "markdown",
   "metadata": {},
   "source": [
    "Realizaremos el ejercicio con un modelo de selección de componentes principales con el propósito de observar si al aplicar una reducción de la dimensión por PCA, los resultados de los modelos se preservan o mejoran. "
   ]
  },
  {
   "cell_type": "code",
   "execution_count": 166,
   "metadata": {},
   "outputs": [
    {
     "data": {
      "text/plain": [
       "array([[ 1.08227642e+01, -1.92405337e+00, -4.20276333e-01, ...,\n",
       "         4.19039417e-04,  2.06478116e-04,  2.15907265e-04],\n",
       "       [ 1.07634260e+01, -1.84437217e+00, -4.56684993e-01, ...,\n",
       "         3.80388729e-05,  5.76924361e-05, -1.09234701e-04],\n",
       "       [ 1.07297564e+01, -1.85016536e+00, -4.51381535e-01, ...,\n",
       "         3.44066940e-05,  1.59730885e-04,  1.02962054e-04],\n",
       "       ...,\n",
       "       [ 4.63061992e+00,  2.01250752e+00,  9.44122180e+00, ...,\n",
       "         1.87652249e-04,  1.19673279e-04,  9.79866717e-05],\n",
       "       [ 4.63508179e+00,  2.00977386e+00,  9.43057310e+00, ...,\n",
       "        -1.56932862e-04,  1.15045589e-04, -7.13011460e-05],\n",
       "       [ 4.63175020e+00,  2.00209183e+00,  9.40733279e+00, ...,\n",
       "        -1.51323806e-04, -7.19839340e-05,  1.25358666e-04]])"
      ]
     },
     "execution_count": 166,
     "metadata": {},
     "output_type": "execute_result"
    }
   ],
   "source": [
    "#Componentes principales para una base con 5-lags\n",
    "pca = PCA()\n",
    "pca.fit_transform(X_std)"
   ]
  },
  {
   "cell_type": "code",
   "execution_count": 167,
   "metadata": {},
   "outputs": [
    {
     "data": {
      "text/plain": [
       "array([3.55869063e+01, 1.43575361e+01, 8.35069923e+00, 4.26938771e+00,\n",
       "       3.15540519e+00, 2.59985155e+00, 1.21124024e+00, 1.10129147e+00,\n",
       "       1.02289085e+00, 8.85056266e-01, 7.42882205e-01, 2.00160610e-01,\n",
       "       1.72416512e-01, 6.30088591e-02, 5.52611407e-02, 3.54701071e-02,\n",
       "       2.95686952e-02, 2.92046623e-02, 2.70869694e-02, 2.49063660e-02,\n",
       "       1.66833093e-02, 1.02518742e-02, 8.79104712e-03, 8.41867039e-03,\n",
       "       7.06188218e-03, 5.01087549e-03, 3.95454898e-03, 3.41485107e-03,\n",
       "       3.11328737e-03, 2.24493693e-03, 2.04929878e-03, 1.66860702e-03,\n",
       "       1.64586979e-03, 1.28430908e-03, 7.83214367e-04, 7.59113855e-04,\n",
       "       4.90924969e-04, 4.81492559e-04, 3.53227677e-04, 3.39709873e-04,\n",
       "       2.71643191e-04, 2.46930149e-04, 2.10748692e-04, 1.97759942e-04,\n",
       "       1.78180778e-04, 1.58913799e-04, 1.28606708e-04, 1.14545575e-04,\n",
       "       1.06795326e-04, 9.00203201e-05, 7.61182448e-05, 7.27581867e-05,\n",
       "       6.28382623e-05, 6.06998616e-05, 5.33923029e-05, 5.24494551e-05,\n",
       "       4.73365646e-05, 4.54666529e-05, 4.05557553e-05, 3.59171644e-05,\n",
       "       3.50080029e-05, 2.97703546e-05, 2.64041885e-05, 2.39182591e-05,\n",
       "       2.19153463e-05, 1.06917587e-05, 9.05253055e-06, 8.99172263e-06,\n",
       "       6.35600089e-06, 4.88024415e-06, 3.71266020e-06, 1.92472170e-06,\n",
       "       1.05717902e-06, 8.66935095e-07])"
      ]
     },
     "execution_count": 167,
     "metadata": {},
     "output_type": "execute_result"
    }
   ],
   "source": [
    "#Varianza explicada para las componentes principales\n",
    "pca.explained_variance_"
   ]
  },
  {
   "cell_type": "code",
   "execution_count": 168,
   "metadata": {},
   "outputs": [
    {
     "data": {
      "image/png": "[encoded data removed]",
      "text/plain": [
       "<Figure size 720x288 with 1 Axes>"
      ]
     },
     "metadata": {
      "needs_background": "light"
     },
     "output_type": "display_data"
    }
   ],
   "source": [
    "#Proporción de varianza explicada para las componentes principales\n",
    "plt.figure(figsize=(10,4))\n",
    "plt.plot(range(0,74), pca.explained_variance_ratio_, '-o')\n",
    "plt.ylabel('Proportion of Variance Explained')\n",
    "plt.xlabel('Principal Component')\n",
    "plt.xlim(0.75,4.25)\n",
    "plt.ylim(0,1.05)\n",
    "plt.xticks(range(0,15));"
   ]
  },
  {
   "cell_type": "code",
   "execution_count": 169,
   "metadata": {},
   "outputs": [
    {
     "data": {
      "image/png": "[encoded data removed]",
      "text/plain": [
       "<Figure size 720x288 with 1 Axes>"
      ]
     },
     "metadata": {
      "needs_background": "light"
     },
     "output_type": "display_data"
    }
   ],
   "source": [
    "#Proporción de varianza explicada acumulada\n",
    "plt.figure(figsize=(10,4))\n",
    "plt.plot(range(0,74), np.cumsum(pca.explained_variance_ratio_), '-s')\n",
    "plt.ylabel('Proportion of Variance Explained')\n",
    "plt.xlabel('Principal Component')\n",
    "plt.xlim(0.75,4.25)\n",
    "plt.ylim(0,1.05)\n",
    "plt.xticks(range(0,15));"
   ]
  },
  {
   "cell_type": "markdown",
   "metadata": {},
   "source": [
    "Observamos que las primeras siete componentes principales explican cerca del 90% de la varianza, por lo cual realizamos un pipe de clasificación con un modelo gradient boosting para las primeras siete componentes principales y observamos los resultados:"
   ]
  },
  {
   "cell_type": "code",
   "execution_count": 170,
   "metadata": {},
   "outputs": [],
   "source": [
    "pipe1 = Pipeline([['pca', PCA(n_components=7)], ['clf', gbm]])"
   ]
  },
  {
   "cell_type": "code",
   "execution_count": 171,
   "metadata": {},
   "outputs": [],
   "source": [
    "mod=pipe1.fit(X_train,y_train)"
   ]
  },
  {
   "cell_type": "code",
   "execution_count": 172,
   "metadata": {},
   "outputs": [
    {
     "data": {
      "image/png": "[encoded data removed]",
      "text/plain": [
       "<Figure size 432x288 with 1 Axes>"
      ]
     },
     "metadata": {
      "needs_background": "light"
     },
     "output_type": "display_data"
    }
   ],
   "source": [
    "#Realizamos prueba con el conjunto de test, e imprimimos la matriz de confusión para las predicciones\n",
    "y_pred = mod.predict(X_test)\n",
    "plotCM(y_test,y_pred, normalize=True)"
   ]
  },
  {
   "cell_type": "markdown",
   "metadata": {},
   "source": [
    "Observamos que el modelo pierde capacidad predictiva al aplicar un método de selección de features por PCA(). Esto puede obedeceder a que la estructura de la serie de tiempo se pierde cuando se realiza la selección."
   ]
  },
  {
   "cell_type": "code",
   "execution_count": 173,
   "metadata": {},
   "outputs": [
    {
     "name": "stdout",
     "output_type": "stream",
     "text": [
      "              precision    recall  f1-score   support\n",
      "\n",
      "           0       0.90      0.99      0.94     12281\n",
      "           1       0.86      0.50      0.63       944\n",
      "           2       0.91      0.55      0.69      1896\n",
      "\n",
      "    accuracy                           0.90     15121\n",
      "   macro avg       0.89      0.68      0.75     15121\n",
      "weighted avg       0.90      0.90      0.89     15121\n",
      "\n"
     ]
    }
   ],
   "source": [
    "print(classification_report(y_test,y_pred)) #Medidas de desempeño para el casificador multiclase "
   ]
  },
  {
   "cell_type": "markdown",
   "metadata": {},
   "source": [
    "### Modelos para 10 Lags"
   ]
  },
  {
   "cell_type": "markdown",
   "metadata": {},
   "source": [
    "Para contrastar los resultados obtenidos hasta ahora, repetimos el ejercicio con una base de diez lags, que cuenta con un número mayor de features: "
   ]
  },
  {
   "cell_type": "code",
   "execution_count": 174,
   "metadata": {},
   "outputs": [
    {
     "data": {
      "text/plain": [
       "156"
      ]
     },
     "execution_count": 174,
     "metadata": {},
     "output_type": "execute_result"
    }
   ],
   "source": [
    "len(lags_10.columns)"
   ]
  },
  {
   "cell_type": "code",
   "execution_count": 175,
   "metadata": {},
   "outputs": [],
   "source": [
    "#extraemos las columnas de variables categóricas y el estado de los precios actual.\n",
    "columnas_fecha=['Date', 'Hora_COL', 'Minuto', 'Hora_NY', 'Festivo_COL', 'Festivo_NYSE', 'Next_Day', 'Subasta','PFB_ABIERTO',\n",
    "'CIB_ABIERTO']\n",
    "columnas_arb=['Arbitraje_BE_SL','Arbitraje_BL_SE']\n",
    "sobrantes=columnas_fecha+columnas_precio+columnas_arb"
   ]
  },
  {
   "cell_type": "code",
   "execution_count": 176,
   "metadata": {},
   "outputs": [],
   "source": [
    "#Construimos la base de 10 lags\n",
    "X=lags_10.drop(sobrantes, axis=1)"
   ]
  },
  {
   "cell_type": "code",
   "execution_count": 177,
   "metadata": {},
   "outputs": [
    {
     "name": "stdout",
     "output_type": "stream",
     "text": [
      "Unnamed: 0\n",
      "lag_1_CIB_close\n",
      "lag_2_CIB_close\n",
      "lag_3_CIB_close\n",
      "lag_4_CIB_close\n",
      "lag_5_CIB_close\n",
      "lag_6_CIB_close\n",
      "lag_7_CIB_close\n",
      "lag_8_CIB_close\n",
      "lag_9_CIB_close\n",
      "lag_10_CIB_close\n",
      "lag_1_COP_close\n",
      "lag_2_COP_close\n",
      "lag_3_COP_close\n",
      "lag_4_COP_close\n",
      "lag_5_COP_close\n",
      "lag_6_COP_close\n",
      "lag_7_COP_close\n",
      "lag_8_COP_close\n",
      "lag_9_COP_close\n",
      "lag_10_COP_close\n",
      "lag_1_PFB_close\n",
      "lag_2_PFB_close\n",
      "lag_3_PFB_close\n",
      "lag_4_PFB_close\n",
      "lag_5_PFB_close\n",
      "lag_6_PFB_close\n",
      "lag_7_PFB_close\n",
      "lag_8_PFB_close\n",
      "lag_9_PFB_close\n",
      "lag_10_PFB_close\n",
      "lag_1_SPX_close\n",
      "lag_2_SPX_close\n",
      "lag_3_SPX_close\n",
      "lag_4_SPX_close\n",
      "lag_5_SPX_close\n",
      "lag_6_SPX_close\n",
      "lag_7_SPX_close\n",
      "lag_8_SPX_close\n",
      "lag_9_SPX_close\n",
      "lag_10_SPX_close\n",
      "lag_1_tasa_cambio\n",
      "lag_2_tasa_cambio\n",
      "lag_3_tasa_cambio\n",
      "lag_4_tasa_cambio\n",
      "lag_5_tasa_cambio\n",
      "lag_6_tasa_cambio\n",
      "lag_7_tasa_cambio\n",
      "lag_8_tasa_cambio\n",
      "lag_9_tasa_cambio\n",
      "lag_10_tasa_cambio\n",
      "lag_1_USD_BID\n",
      "lag_2_USD_BID\n",
      "lag_3_USD_BID\n",
      "lag_4_USD_BID\n",
      "lag_5_USD_BID\n",
      "lag_6_USD_BID\n",
      "lag_7_USD_BID\n",
      "lag_8_USD_BID\n",
      "lag_9_USD_BID\n",
      "lag_10_USD_BID\n",
      "lag_1_USD_ASK\n",
      "lag_2_USD_ASK\n",
      "lag_3_USD_ASK\n",
      "lag_4_USD_ASK\n",
      "lag_5_USD_ASK\n",
      "lag_6_USD_ASK\n",
      "lag_7_USD_ASK\n",
      "lag_8_USD_ASK\n",
      "lag_9_USD_ASK\n",
      "lag_10_USD_ASK\n",
      "lag_1_ASK_CIB\n",
      "lag_2_ASK_CIB\n",
      "lag_3_ASK_CIB\n",
      "lag_4_ASK_CIB\n",
      "lag_5_ASK_CIB\n",
      "lag_6_ASK_CIB\n",
      "lag_7_ASK_CIB\n",
      "lag_8_ASK_CIB\n",
      "lag_9_ASK_CIB\n",
      "lag_10_ASK_CIB\n",
      "lag_1_BID_CIB\n",
      "lag_2_BID_CIB\n",
      "lag_3_BID_CIB\n",
      "lag_4_BID_CIB\n",
      "lag_5_BID_CIB\n",
      "lag_6_BID_CIB\n",
      "lag_7_BID_CIB\n",
      "lag_8_BID_CIB\n",
      "lag_9_BID_CIB\n",
      "lag_10_BID_CIB\n",
      "lag_1_ASK_PFB\n",
      "lag_2_ASK_PFB\n",
      "lag_3_ASK_PFB\n",
      "lag_4_ASK_PFB\n",
      "lag_5_ASK_PFB\n",
      "lag_6_ASK_PFB\n",
      "lag_7_ASK_PFB\n",
      "lag_8_ASK_PFB\n",
      "lag_9_ASK_PFB\n",
      "lag_10_ASK_PFB\n",
      "lag_1_BID_PFB\n",
      "lag_2_BID_PFB\n",
      "lag_3_BID_PFB\n",
      "lag_4_BID_PFB\n",
      "lag_5_BID_PFB\n",
      "lag_6_BID_PFB\n",
      "lag_7_BID_PFB\n",
      "lag_8_BID_PFB\n",
      "lag_9_BID_PFB\n",
      "lag_10_BID_PFB\n",
      "lag_1_Spread_BE_SL\n",
      "lag_2_Spread_BE_SL\n",
      "lag_3_Spread_BE_SL\n",
      "lag_4_Spread_BE_SL\n",
      "lag_5_Spread_BE_SL\n",
      "lag_6_Spread_BE_SL\n",
      "lag_7_Spread_BE_SL\n",
      "lag_8_Spread_BE_SL\n",
      "lag_9_Spread_BE_SL\n",
      "lag_10_Spread_BE_SL\n",
      "lag_1_Spread_BL_SE\n",
      "lag_2_Spread_BL_SE\n",
      "lag_3_Spread_BL_SE\n",
      "lag_4_Spread_BL_SE\n",
      "lag_5_Spread_BL_SE\n",
      "lag_6_Spread_BL_SE\n",
      "lag_7_Spread_BL_SE\n",
      "lag_8_Spread_BL_SE\n",
      "lag_9_Spread_BL_SE\n",
      "lag_10_Spread_BL_SE\n"
     ]
    }
   ],
   "source": [
    "#Verificamos la correcta selección de lags\n",
    "for column in X.columns:\n",
    "    print(column)"
   ]
  },
  {
   "cell_type": "code",
   "execution_count": 178,
   "metadata": {},
   "outputs": [],
   "source": [
    "#estandarizamos\n",
    "X_std=StandardScaler().fit_transform(X)"
   ]
  },
  {
   "cell_type": "markdown",
   "metadata": {},
   "source": [
    "### Targets"
   ]
  },
  {
   "cell_type": "code",
   "execution_count": 179,
   "metadata": {},
   "outputs": [],
   "source": [
    "y_BL_SE=lags_10['Arbitraje_BL_SE']\n",
    "y_BE_SL=lags_10['Arbitraje_BE_SL']"
   ]
  },
  {
   "cell_type": "code",
   "execution_count": 180,
   "metadata": {},
   "outputs": [],
   "source": [
    "y_arb=[]\n",
    "for i in range(len(X)):\n",
    "    if (y_BE_SL.loc[i+10]==1 or y_BL_SE.loc[i+10]==1):\n",
    "        y_arb.append(1)\n",
    "    else:\n",
    "        y_arb.append(0)"
   ]
  },
  {
   "cell_type": "code",
   "execution_count": 181,
   "metadata": {},
   "outputs": [],
   "source": [
    "y_cat=[]\n",
    "for i in range(len(X)):\n",
    "    if y_BE_SL.loc[i+10]==1: \n",
    "        y_cat.append(1)\n",
    "    elif y_BL_SE.loc[i+10]==1:\n",
    "        y_cat.append(2)\n",
    "    else:\n",
    "        y_cat.append(0)"
   ]
  },
  {
   "cell_type": "markdown",
   "metadata": {},
   "source": [
    "### Modelo para 10 lags para clasificación multiclase"
   ]
  },
  {
   "cell_type": "code",
   "execution_count": 182,
   "metadata": {},
   "outputs": [],
   "source": [
    "#estratificamos con respecto a las tres categorías de arbitraje\n",
    "X_train, X_test, y_train, y_test = train_test_split(X_std, y_cat, test_size=0.3, random_state=0, stratify=y_cat)"
   ]
  },
  {
   "cell_type": "code",
   "execution_count": 183,
   "metadata": {},
   "outputs": [],
   "source": [
    "gbm = model.fit(X_train, y_train)"
   ]
  },
  {
   "cell_type": "code",
   "execution_count": 184,
   "metadata": {},
   "outputs": [
    {
     "data": {
      "image/png": "[encoded data removed]",
      "text/plain": [
       "<Figure size 432x288 with 1 Axes>"
      ]
     },
     "metadata": {
      "needs_background": "light"
     },
     "output_type": "display_data"
    }
   ],
   "source": [
    "#Realizamos prueba con el conjunto de test, e imprimimos la matriz de confusión para las predicciones\n",
    "y_pred = gbm.predict(X_test)\n",
    "plotCM(y_test,y_pred, normalize=True)"
   ]
  },
  {
   "cell_type": "code",
   "execution_count": 185,
   "metadata": {},
   "outputs": [
    {
     "name": "stdout",
     "output_type": "stream",
     "text": [
      "              precision    recall  f1-score   support\n",
      "\n",
      "           0       0.96      0.97      0.96     12279\n",
      "           1       0.84      0.80      0.82       944\n",
      "           2       0.85      0.83      0.84      1896\n",
      "\n",
      "    accuracy                           0.94     15119\n",
      "   macro avg       0.88      0.87      0.88     15119\n",
      "weighted avg       0.94      0.94      0.94     15119\n",
      "\n"
     ]
    }
   ],
   "source": [
    "print(classification_report(y_test,y_pred)) #Medidas de desempeño para el casificador multiclase "
   ]
  }
 ],
 "metadata": {
  "kernelspec": {
   "display_name": "Python 3 (ipykernel)",
   "language": "python",
   "name": "python3"
  },
  "language_info": {
   "codemirror_mode": {
    "name": "ipython",
    "version": 3
   },
   "file_extension": ".py",
   "mimetype": "text/x-python",
   "name": "python",
   "nbconvert_exporter": "python",
   "pygments_lexer": "ipython3",
   "version": "3.9.12"
  }
 },
 "nbformat": 4,
 "nbformat_minor": 4
}

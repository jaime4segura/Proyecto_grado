{
 "cells": [
  {
   "cell_type": "markdown",
   "id": "e521ba98",
   "metadata": {},
   "source": [
    "## Análisis Exploratorio de los Resultados - ML"
   ]
  },
  {
   "cell_type": "markdown",
   "id": "6e1feea9",
   "metadata": {},
   "source": [
    "En este notebook, presentamos un análisis de los resultados obtenidos por el clasificador de mayoría de votos, con el fin de establecer, con mayor precisión, los resultados financieros esperados para la predicción en condiciones operativas de trading usuales."
   ]
  },
  {
   "cell_type": "code",
   "execution_count": 1,
   "id": "a2e81f58",
   "metadata": {},
   "outputs": [],
   "source": [
    "#Imports\n",
    "import pandas as pd\n",
    "import matplotlib\n",
    "import numpy as np\n",
    "import random \n",
    "import seaborn as sns\n",
    "import matplotlib.pyplot as plt # Matplotlib\n",
    "import operator\n",
    "matplotlib.style.use('ggplot')\n",
    "%matplotlib inline\n",
    "\n",
    "\n",
    "sns.set(rc={\"figure.figsize\":(3,4)})"
   ]
  },
  {
   "cell_type": "markdown",
   "id": "edc9919c",
   "metadata": {},
   "source": [
    "### Predicciones"
   ]
  },
  {
   "cell_type": "markdown",
   "id": "381a047a",
   "metadata": {},
   "source": [
    "Tomamos la base de datos de los resultados arrjoados por el mejor modelo y realizamos un análisis de las predicciones."
   ]
  },
  {
   "cell_type": "code",
   "execution_count": 2,
   "id": "acb1c69a",
   "metadata": {},
   "outputs": [],
   "source": [
    "results=pd.read_excel(\"resultados_best.xlsx\")"
   ]
  },
  {
   "cell_type": "code",
   "execution_count": 3,
   "id": "188eb7ea",
   "metadata": {},
   "outputs": [
    {
     "data": {
      "text/html": [
       "<div>\n",
       "<style scoped>\n",
       "    .dataframe tbody tr th:only-of-type {\n",
       "        vertical-align: middle;\n",
       "    }\n",
       "\n",
       "    .dataframe tbody tr th {\n",
       "        vertical-align: top;\n",
       "    }\n",
       "\n",
       "    .dataframe thead th {\n",
       "        text-align: right;\n",
       "    }\n",
       "</style>\n",
       "<table border=\"1\" class=\"dataframe\">\n",
       "  <thead>\n",
       "    <tr style=\"text-align: right;\">\n",
       "      <th></th>\n",
       "      <th>Unnamed: 0</th>\n",
       "      <th>Date</th>\n",
       "      <th>Hora_COL</th>\n",
       "      <th>Minuto</th>\n",
       "      <th>Hora_NY</th>\n",
       "      <th>Festivo_COL</th>\n",
       "      <th>Festivo_NYSE</th>\n",
       "      <th>Next_Day</th>\n",
       "      <th>Subasta</th>\n",
       "      <th>PFB_ABIERTO</th>\n",
       "      <th>CIB_ABIERTO</th>\n",
       "      <th>Real</th>\n",
       "      <th>Predictions</th>\n",
       "      <th>Spread</th>\n",
       "      <th>Utilidad</th>\n",
       "    </tr>\n",
       "  </thead>\n",
       "  <tbody>\n",
       "    <tr>\n",
       "      <th>0</th>\n",
       "      <td>35504</td>\n",
       "      <td>2022-04-04</td>\n",
       "      <td>16</td>\n",
       "      <td>38</td>\n",
       "      <td>17</td>\n",
       "      <td>False</td>\n",
       "      <td>False</td>\n",
       "      <td>1</td>\n",
       "      <td>0</td>\n",
       "      <td>0</td>\n",
       "      <td>0</td>\n",
       "      <td>0.0</td>\n",
       "      <td>0</td>\n",
       "      <td>0.0</td>\n",
       "      <td>0.0</td>\n",
       "    </tr>\n",
       "    <tr>\n",
       "      <th>1</th>\n",
       "      <td>47649</td>\n",
       "      <td>2022-05-05</td>\n",
       "      <td>12</td>\n",
       "      <td>3</td>\n",
       "      <td>13</td>\n",
       "      <td>False</td>\n",
       "      <td>False</td>\n",
       "      <td>0</td>\n",
       "      <td>0</td>\n",
       "      <td>1</td>\n",
       "      <td>1</td>\n",
       "      <td>0.0</td>\n",
       "      <td>0</td>\n",
       "      <td>0.0</td>\n",
       "      <td>0.0</td>\n",
       "    </tr>\n",
       "    <tr>\n",
       "      <th>2</th>\n",
       "      <td>10451</td>\n",
       "      <td>2022-01-28</td>\n",
       "      <td>13</td>\n",
       "      <td>5</td>\n",
       "      <td>13</td>\n",
       "      <td>False</td>\n",
       "      <td>False</td>\n",
       "      <td>1</td>\n",
       "      <td>0</td>\n",
       "      <td>1</td>\n",
       "      <td>1</td>\n",
       "      <td>0.0</td>\n",
       "      <td>0</td>\n",
       "      <td>0.0</td>\n",
       "      <td>0.0</td>\n",
       "    </tr>\n",
       "    <tr>\n",
       "      <th>3</th>\n",
       "      <td>8782</td>\n",
       "      <td>2022-01-25</td>\n",
       "      <td>12</td>\n",
       "      <td>16</td>\n",
       "      <td>12</td>\n",
       "      <td>False</td>\n",
       "      <td>False</td>\n",
       "      <td>0</td>\n",
       "      <td>0</td>\n",
       "      <td>1</td>\n",
       "      <td>1</td>\n",
       "      <td>0.0</td>\n",
       "      <td>0</td>\n",
       "      <td>0.0</td>\n",
       "      <td>0.0</td>\n",
       "    </tr>\n",
       "    <tr>\n",
       "      <th>4</th>\n",
       "      <td>26067</td>\n",
       "      <td>2022-03-10</td>\n",
       "      <td>12</td>\n",
       "      <td>21</td>\n",
       "      <td>12</td>\n",
       "      <td>False</td>\n",
       "      <td>False</td>\n",
       "      <td>0</td>\n",
       "      <td>0</td>\n",
       "      <td>1</td>\n",
       "      <td>1</td>\n",
       "      <td>2.0</td>\n",
       "      <td>0</td>\n",
       "      <td>0.0</td>\n",
       "      <td>0.0</td>\n",
       "    </tr>\n",
       "  </tbody>\n",
       "</table>\n",
       "</div>"
      ],
      "text/plain": [
       "   Unnamed: 0       Date  Hora_COL  Minuto  Hora_NY  Festivo_COL  \\\n",
       "0       35504 2022-04-04        16      38       17        False   \n",
       "1       47649 2022-05-05        12       3       13        False   \n",
       "2       10451 2022-01-28        13       5       13        False   \n",
       "3        8782 2022-01-25        12      16       12        False   \n",
       "4       26067 2022-03-10        12      21       12        False   \n",
       "\n",
       "   Festivo_NYSE  Next_Day  Subasta  PFB_ABIERTO  CIB_ABIERTO  Real  \\\n",
       "0         False         1        0            0            0   0.0   \n",
       "1         False         0        0            1            1   0.0   \n",
       "2         False         1        0            1            1   0.0   \n",
       "3         False         0        0            1            1   0.0   \n",
       "4         False         0        0            1            1   2.0   \n",
       "\n",
       "   Predictions  Spread  Utilidad  \n",
       "0            0     0.0       0.0  \n",
       "1            0     0.0       0.0  \n",
       "2            0     0.0       0.0  \n",
       "3            0     0.0       0.0  \n",
       "4            0     0.0       0.0  "
      ]
     },
     "execution_count": 3,
     "metadata": {},
     "output_type": "execute_result"
    }
   ],
   "source": [
    "results.head()"
   ]
  },
  {
   "cell_type": "markdown",
   "id": "fe664d9f",
   "metadata": {},
   "source": [
    "### Filtro periodo Ex-Dividendo"
   ]
  },
  {
   "cell_type": "markdown",
   "id": "6f63fa42",
   "metadata": {},
   "source": [
    "Durante el periodo de muestra, la acción preferencial de Bancolombia y su respectivo ADR presentaron un periodo ex dividendo (periodo en el que la compañía paga dividendos). El periodo ex dividendo para ambos títulos no es el mismo y las predicciones para las condiciones de arbitraje y de spread se ven afectadas por este tipo de evento. Esto ocasiona spreads que reflejan las diferencias entre las fechas de inicio, duración y pago del periodo ex-dividendo para cada instrumento, por lo cual para el análisis financiero de los resultados para las condiciones de arbitraje podemos considerar dos opciones: incluir o eliminar los dividendos del spread observado (sumar o restar el dividendo del spread de la predicción, según sea el caso), o simplemente; eliminar las observaciones del periodo en el cual ambos títulos estuvieron en periodo ex-dividendo.  \n",
    "Para el análisis de los resultados, lo más conveniente es optar por esta última acción, teniendo en cuenta que el spread observado por dividendos no necesariamente genera utilidades en términos de arbitraje a pesar de que el spread ocasionado por dividendos sí origina spreads de precio entre ambos instrumentos."
   ]
  },
  {
   "cell_type": "code",
   "execution_count": 4,
   "id": "87978ed3",
   "metadata": {},
   "outputs": [
    {
     "data": {
      "text/plain": [
       "15119"
      ]
     },
     "execution_count": 4,
     "metadata": {},
     "output_type": "execute_result"
    }
   ],
   "source": [
    "#Tamaño de la muestra de predicciones\n",
    "len(results)"
   ]
  },
  {
   "cell_type": "code",
   "execution_count": 5,
   "id": "57136fd4",
   "metadata": {},
   "outputs": [],
   "source": [
    "#Filtramos la última semana del mes de Marzo de la predicciones (periodo XD y cierre de libros de conversion.)\n",
    "xd=results[results['Date'].isin(pd.date_range('2022-03-23','2022-03-31'))]"
   ]
  },
  {
   "cell_type": "code",
   "execution_count": 6,
   "id": "e8286570",
   "metadata": {},
   "outputs": [],
   "source": [
    "#Resultados sin periodo ex dividendo\n",
    "results_xd=results[(results['Date'] <'2022-03-23') | (results['Date']>'2022-03-31')]"
   ]
  },
  {
   "cell_type": "markdown",
   "id": "ce34ee78",
   "metadata": {},
   "source": [
    "#### Spread para las predicciones en el periodo exdividendo versus spread excluyendo exdividendo"
   ]
  },
  {
   "cell_type": "markdown",
   "id": "10d55c5e",
   "metadata": {},
   "source": [
    "Observamos que el spread medio para las predicciones de arbitraje en el periodo exdividendo es sustancialemnte mayor: efecto de la diferencia incorporada en los precios de los instrumentos por la diferencia en las fechas de pago del dividendo entre ambos instrumentos:"
   ]
  },
  {
   "cell_type": "code",
   "execution_count": 7,
   "id": "3a9afe60",
   "metadata": {},
   "outputs": [
    {
     "data": {
      "text/plain": [
       "259.82793118874656"
      ]
     },
     "execution_count": 7,
     "metadata": {},
     "output_type": "execute_result"
    }
   ],
   "source": [
    "#Spread Medio observado en el periodo ex dividendo\n",
    "xd['Spread'].mean()"
   ]
  },
  {
   "cell_type": "code",
   "execution_count": 8,
   "id": "960427d7",
   "metadata": {},
   "outputs": [
    {
     "data": {
      "text/plain": [
       "16.39727951594462"
      ]
     },
     "execution_count": 8,
     "metadata": {},
     "output_type": "execute_result"
    }
   ],
   "source": [
    "#Spread medio observado excluyendo el periodo ex dividendo\n",
    "results_xd['Spread'].mean()"
   ]
  },
  {
   "cell_type": "markdown",
   "id": "994d04bb",
   "metadata": {},
   "source": [
    "### Tratamiento de Festivos"
   ]
  },
  {
   "cell_type": "markdown",
   "id": "cbf3239d",
   "metadata": {},
   "source": [
    "Teniendo en cuenta que al observar spreads durante una fecha festivo, uno de los mercados está cerrado y en la práctica no es posible ejecutar operaciones en todo momento si la predicción así lo indica, el análisis financiero de los resultados en festivos debe hacerse de forma diferencial. Inicialmente, filtramos los festivos de la base y obtenemos los resultados solamente de las predicciones para sesiones de mercado abierto y subastas. Esto reflejará un resultado más preciso y ajustado a las posibilidades prácticas.  \n",
    "Más adelante observaremos el efecto de la opciones prpactivas en fechas festivo."
   ]
  },
  {
   "cell_type": "code",
   "execution_count": 9,
   "id": "0ebab5d3",
   "metadata": {},
   "outputs": [
    {
     "name": "stderr",
     "output_type": "stream",
     "text": [
      "C:\\Users\\fract\\AppData\\Local\\Temp\\ipykernel_39360\\1896804436.py:2: UserWarning: Boolean Series key will be reindexed to match DataFrame index.\n",
      "  festivos=results_xd[(results['Festivo_COL']==True) | (results['Festivo_NYSE']==True)]\n"
     ]
    }
   ],
   "source": [
    "#Fitramos los festivos de la base original sin fechas ex dividendo\n",
    "festivos=results_xd[(results['Festivo_COL']==True) | (results['Festivo_NYSE']==True)]"
   ]
  },
  {
   "cell_type": "code",
   "execution_count": 10,
   "id": "985545ac",
   "metadata": {},
   "outputs": [
    {
     "data": {
      "text/plain": [
       "2022-04-15    175\n",
       "2022-01-10    173\n",
       "2022-01-17    168\n",
       "2022-03-21    162\n",
       "2022-04-14    154\n",
       "2022-02-21    151\n",
       "Name: Date, dtype: int64"
      ]
     },
     "execution_count": 10,
     "metadata": {},
     "output_type": "execute_result"
    }
   ],
   "source": [
    "#Contamos las observaciones en fechas festivo.\n",
    "festivos['Date'].value_counts()"
   ]
  },
  {
   "cell_type": "code",
   "execution_count": 11,
   "id": "1b77cb27",
   "metadata": {},
   "outputs": [],
   "source": [
    "#Resultados sin fechas ex dividendo y excluyendo festivos.\n",
    "results_xd_fest=results_xd[(results_xd['Festivo_COL']== False) & (results_xd['Festivo_NYSE']== False)]"
   ]
  },
  {
   "cell_type": "markdown",
   "id": "e1de6d72",
   "metadata": {},
   "source": [
    "#### Spread para las predicciones en festivos versus spread observado excluyendo festivos"
   ]
  },
  {
   "cell_type": "code",
   "execution_count": 12,
   "id": "4a82f1b3",
   "metadata": {},
   "outputs": [
    {
     "data": {
      "text/plain": [
       "215.9767225788391"
      ]
     },
     "execution_count": 12,
     "metadata": {},
     "output_type": "execute_result"
    }
   ],
   "source": [
    "#Spread medio para las predicciones en festivos.\n",
    "festivos['Spread'].mean()"
   ]
  },
  {
   "cell_type": "code",
   "execution_count": 13,
   "id": "68e8dff6",
   "metadata": {},
   "outputs": [
    {
     "data": {
      "text/plain": [
       "1.3453697007823329"
      ]
     },
     "execution_count": 13,
     "metadata": {},
     "output_type": "execute_result"
    }
   ],
   "source": [
    "#Spread medio para la predicciones en mercado abierto (excluyendo festivos y periodo ex dividendo).\n",
    "results_xd_fest['Spread'].mean()"
   ]
  },
  {
   "cell_type": "code",
   "execution_count": 14,
   "id": "f4fbe516",
   "metadata": {},
   "outputs": [],
   "source": [
    "sns.set(rc={\"figure.figsize\":(7,4)})"
   ]
  },
  {
   "cell_type": "code",
   "execution_count": 15,
   "id": "8d1b9b15",
   "metadata": {},
   "outputs": [
    {
     "data": {
      "text/plain": [
       "[259.82793118874656, 215.9767225788391, 1.3453697007823329]"
      ]
     },
     "execution_count": 15,
     "metadata": {},
     "output_type": "execute_result"
    }
   ],
   "source": [
    "#Spread medio en periodo ex dividendo, en festivos, en sesiones de mercados abiertos\n",
    "[xd['Spread'].mean(), festivos['Spread'].mean(), results_xd_fest['Spread'].mean()]"
   ]
  },
  {
   "cell_type": "code",
   "execution_count": 16,
   "id": "4ee32996",
   "metadata": {},
   "outputs": [
    {
     "data": {
      "text/plain": [
       "[Text(0, 0.5, 'Spread medio en pesos'),\n",
       " Text(0.5, 1.0, 'Spread para las predicciones de arbitraje')]"
      ]
     },
     "execution_count": 16,
     "metadata": {},
     "output_type": "execute_result"
    },
    {
     "data": {
      "image/png": "[encoded data removed]",
      "text/plain": [
       "<Figure size 700x400 with 1 Axes>"
      ]
     },
     "metadata": {},
     "output_type": "display_data"
    }
   ],
   "source": [
    "#Comparación entre el spread medio para las predicciones con xd, con festivo y excluyendo ambos\n",
    "ax=sns.barplot(x=['Spread en XD', 'Spread en Festivos', 'Spread solo Open Mkts'],\n",
    "            y=[xd['Spread'].mean(), festivos['Spread'].mean(), results_xd_fest['Spread'].mean()])\n",
    "ax.set(ylabel='Spread medio en pesos', title='Spread para las predicciones de arbitraje')"
   ]
  },
  {
   "cell_type": "code",
   "execution_count": 17,
   "id": "616ded4e",
   "metadata": {},
   "outputs": [
    {
     "data": {
      "text/plain": [
       "[1382.614000000001, 2170.759499999993, 320.8802549999964]"
      ]
     },
     "execution_count": 17,
     "metadata": {},
     "output_type": "execute_result"
    }
   ],
   "source": [
    "#Spreads máximos en fechas ex dividendo, en festivos, en sesion abierta de mercados.\n",
    "[xd['Spread'].max(), festivos['Spread'].max(), results_xd_fest['Spread'].max()]"
   ]
  },
  {
   "cell_type": "code",
   "execution_count": 18,
   "id": "8f4fa8be",
   "metadata": {},
   "outputs": [
    {
     "data": {
      "text/plain": [
       "[Text(0, 0.5, 'Spread máximo en pesos'),\n",
       " Text(0.5, 1.0, 'Spread para las predicciones de arbitraje')]"
      ]
     },
     "execution_count": 18,
     "metadata": {},
     "output_type": "execute_result"
    },
    {
     "data": {
      "image/png": "[encoded data removed]",
      "text/plain": [
       "<Figure size 700x400 with 1 Axes>"
      ]
     },
     "metadata": {},
     "output_type": "display_data"
    }
   ],
   "source": [
    "#Spreads máximos para las predicciones con xd, en festivos\n",
    "ax=sns.barplot(x=['Spread max. en XD', 'Spread max.Festivos', 'Spread max. sin xd y fest'],\n",
    "            y=[xd['Spread'].max(), festivos['Spread'].max(), results_xd_fest['Spread'].max()])\n",
    "ax.set(ylabel='Spread máximo en pesos', title='Spread para las predicciones de arbitraje')"
   ]
  },
  {
   "cell_type": "markdown",
   "id": "d6fbb13e",
   "metadata": {},
   "source": [
    "### Resultados sesión abierta con subastas"
   ]
  },
  {
   "cell_type": "markdown",
   "id": "bcd91741",
   "metadata": {},
   "source": [
    "Al eliminar los festivos y las fechas eX dividendo, podremos obtener un análisis inicial que, en la práctica refleja las condiciones más ajustadas a la realidad operativa."
   ]
  },
  {
   "cell_type": "code",
   "execution_count": 19,
   "id": "ba79c6cc",
   "metadata": {},
   "outputs": [],
   "source": [
    "pd.set_option('display.float_format', lambda x: '%.3f' % x)"
   ]
  },
  {
   "cell_type": "code",
   "execution_count": 20,
   "id": "da82235d",
   "metadata": {},
   "outputs": [
    {
     "data": {
      "text/plain": [
       "count      13034.000\n",
       "mean       13453.697\n",
       "std       185235.677\n",
       "min     -2531065.000\n",
       "25%            0.000\n",
       "50%            0.000\n",
       "75%            0.000\n",
       "max      3208802.550\n",
       "Name: Utilidad, dtype: float64"
      ]
     },
     "execution_count": 20,
     "metadata": {},
     "output_type": "execute_result"
    }
   ],
   "source": [
    "#Observamos la descripción para los resultados de los trades con predicción positiva (en pesos)\n",
    "results_xd_fest['Utilidad'].describe()"
   ]
  },
  {
   "cell_type": "code",
   "execution_count": 21,
   "id": "dc92bbb5",
   "metadata": {},
   "outputs": [
    {
     "data": {
      "text/plain": [
       "count   13034.000\n",
       "mean        1.345\n",
       "std        18.524\n",
       "min      -253.107\n",
       "25%         0.000\n",
       "50%         0.000\n",
       "75%         0.000\n",
       "max       320.880\n",
       "Name: Spread, dtype: float64"
      ]
     },
     "execution_count": 21,
     "metadata": {},
     "output_type": "execute_result"
    }
   ],
   "source": [
    "#Observamos la descripción para los resultados de los spreads con predicción positiva (en pesos)\n",
    "results_xd_fest['Spread'].describe()"
   ]
  },
  {
   "cell_type": "markdown",
   "id": "e1686992",
   "metadata": {},
   "source": [
    "#### Distribución de las predicciones y de los Spreads con predicciones de arbitraje"
   ]
  },
  {
   "cell_type": "code",
   "execution_count": 22,
   "id": "c32a65e7",
   "metadata": {},
   "outputs": [
    {
     "data": {
      "text/plain": [
       "<AxesSubplot: ylabel='Density'>"
      ]
     },
     "execution_count": 22,
     "metadata": {},
     "output_type": "execute_result"
    },
    {
     "data": {
      "image/png": "[encoded data removed]",
      "text/plain": [
       "<Figure size 700x400 with 1 Axes>"
      ]
     },
     "metadata": {},
     "output_type": "display_data"
    }
   ],
   "source": [
    "#Densidad del spread para las predicciones\n",
    "results_xd_fest['Spread'].plot.kde(bw_method=1.5)"
   ]
  },
  {
   "cell_type": "code",
   "execution_count": 23,
   "id": "c67ad6a1",
   "metadata": {},
   "outputs": [
    {
     "data": {
      "text/plain": [
       "<AxesSubplot: ylabel='Frequency'>"
      ]
     },
     "execution_count": 23,
     "metadata": {},
     "output_type": "execute_result"
    },
    {
     "data": {
      "image/png": "[encoded data removed]",
      "text/plain": [
       "<Figure size 700x400 with 1 Axes>"
      ]
     },
     "metadata": {},
     "output_type": "display_data"
    }
   ],
   "source": [
    "#Histograma de la distrución del spread\n",
    "results_xd_fest['Spread'].plot.hist(bins=30, alpha=0.9)"
   ]
  },
  {
   "cell_type": "code",
   "execution_count": 24,
   "id": "861369c0",
   "metadata": {},
   "outputs": [
    {
     "data": {
      "text/plain": [
       "<AxesSubplot: ylabel='Frequency'>"
      ]
     },
     "execution_count": 24,
     "metadata": {},
     "output_type": "execute_result"
    },
    {
     "data": {
      "image/png": "[encoded data removed]",
      "text/plain": [
       "<Figure size 700x400 with 1 Axes>"
      ]
     },
     "metadata": {},
     "output_type": "display_data"
    }
   ],
   "source": [
    "#Histograma de lad istribución de las utilidades\n",
    "results_xd_fest['Utilidad'].plot.hist(bins=30, alpha=0.9)"
   ]
  },
  {
   "cell_type": "code",
   "execution_count": 25,
   "id": "adf1922e",
   "metadata": {},
   "outputs": [
    {
     "data": {
      "text/plain": [
       "<AxesSubplot: ylabel='Density'>"
      ]
     },
     "execution_count": 25,
     "metadata": {},
     "output_type": "execute_result"
    },
    {
     "data": {
      "image/png": "[encoded data removed]",
      "text/plain": [
       "<Figure size 700x400 with 1 Axes>"
      ]
     },
     "metadata": {},
     "output_type": "display_data"
    }
   ],
   "source": [
    "#Función de densidad para las distrubuciones\n",
    "results_xd_fest['Utilidad'].plot.kde(bw_method=1.5)"
   ]
  },
  {
   "cell_type": "code",
   "execution_count": 26,
   "id": "5465b2a4",
   "metadata": {},
   "outputs": [
    {
     "data": {
      "text/plain": [
       "175355486.79996926"
      ]
     },
     "execution_count": 26,
     "metadata": {},
     "output_type": "execute_result"
    }
   ],
   "source": [
    "#Utilidades netas para las predicciones en condiciones de mercado abierto y subastas de cierre\n",
    "results_xd_fest['Utilidad'].sum()"
   ]
  },
  {
   "cell_type": "code",
   "execution_count": 27,
   "id": "292cf31d",
   "metadata": {},
   "outputs": [
    {
     "data": {
      "text/plain": [
       "0    11502\n",
       "2      949\n",
       "1      583\n",
       "Name: Predictions, dtype: int64"
      ]
     },
     "execution_count": 27,
     "metadata": {},
     "output_type": "execute_result"
    }
   ],
   "source": [
    "#Conteo de las predicciones\n",
    "results_xd_fest['Predictions'].value_counts()"
   ]
  },
  {
   "cell_type": "code",
   "execution_count": 28,
   "id": "7a29e4c7",
   "metadata": {},
   "outputs": [
    {
     "data": {
      "text/plain": [
       "Int64Index([0, 2, 1], dtype='int64')"
      ]
     },
     "execution_count": 28,
     "metadata": {},
     "output_type": "execute_result"
    }
   ],
   "source": [
    "results_xd_fest['Predictions'].value_counts().index"
   ]
  },
  {
   "cell_type": "code",
   "execution_count": 29,
   "id": "2c2f23ac",
   "metadata": {},
   "outputs": [
    {
     "data": {
      "image/png": "[encoded data removed]",
      "text/plain": [
       "<Figure size 700x400 with 1 Axes>"
      ]
     },
     "metadata": {},
     "output_type": "display_data"
    }
   ],
   "source": [
    "ax=sns.barplot(x=results_xd_fest['Predictions'].value_counts().index,y=results_xd_fest['Predictions'].value_counts().values)\n",
    "ax.set(ylabel='Número de predicciones')\n",
    "ax.set_xticklabels(['No Arbitraje','Buy Externo/Sell Local', 'Buy Local/Sell Externo'])\n",
    "plt.show()"
   ]
  },
  {
   "cell_type": "markdown",
   "id": "645ba07e",
   "metadata": {},
   "source": [
    "Hasta ahora, los resultados observados muestran que el modelo refleja las condiciones de desbalance de la base original, es decir; la gran mayoría del tiempo predice que no se presentan condiciones de arbitraje. Sin embargo, quisiéramos observar con mayor detalle, lo que habría sucedido si cada vez que el modelo hubiera predicho una condición de arbitraje, se hubiera ejecutado un trade de arbitraje."
   ]
  },
  {
   "cell_type": "markdown",
   "id": "560908f7",
   "metadata": {},
   "source": [
    "#### Pérdidas y ganancias"
   ]
  },
  {
   "cell_type": "markdown",
   "id": "73834145",
   "metadata": {},
   "source": [
    "A partir de las predicciones, clasificamos los trades en nulos, positivos y negativos y observamos los resultados."
   ]
  },
  {
   "cell_type": "code",
   "execution_count": 30,
   "id": "361b5989",
   "metadata": {},
   "outputs": [
    {
     "name": "stderr",
     "output_type": "stream",
     "text": [
      "C:\\Users\\fract\\AppData\\Local\\Temp\\ipykernel_39360\\2465336663.py:1: SettingWithCopyWarning: \n",
      "A value is trying to be set on a copy of a slice from a DataFrame.\n",
      "Try using .loc[row_indexer,col_indexer] = value instead\n",
      "\n",
      "See the caveats in the documentation: https://pandas.pydata.org/pandas-docs/stable/user_guide/indexing.html#returning-a-view-versus-a-copy\n",
      "  results_xd_fest['Trade']=None\n",
      "C:\\Users\\fract\\AppData\\Local\\Temp\\ipykernel_39360\\2465336663.py:4: SettingWithCopyWarning: \n",
      "A value is trying to be set on a copy of a slice from a DataFrame\n",
      "\n",
      "See the caveats in the documentation: https://pandas.pydata.org/pandas-docs/stable/user_guide/indexing.html#returning-a-view-versus-a-copy\n",
      "  results_xd_fest['Trade'].iloc[i]=0\n",
      "C:\\Users\\fract\\AppData\\Local\\Temp\\ipykernel_39360\\2465336663.py:6: SettingWithCopyWarning: \n",
      "A value is trying to be set on a copy of a slice from a DataFrame\n",
      "\n",
      "See the caveats in the documentation: https://pandas.pydata.org/pandas-docs/stable/user_guide/indexing.html#returning-a-view-versus-a-copy\n",
      "  results_xd_fest['Trade'].iloc[i]=1\n",
      "C:\\Users\\fract\\AppData\\Local\\Temp\\ipykernel_39360\\2465336663.py:8: SettingWithCopyWarning: \n",
      "A value is trying to be set on a copy of a slice from a DataFrame\n",
      "\n",
      "See the caveats in the documentation: https://pandas.pydata.org/pandas-docs/stable/user_guide/indexing.html#returning-a-view-versus-a-copy\n",
      "  results_xd_fest['Trade'].iloc[i]=-1\n"
     ]
    }
   ],
   "source": [
    "results_xd_fest['Trade']=None\n",
    "for i in range(len(results_xd_fest['Predictions'])):\n",
    "    if results_xd_fest['Utilidad'].iloc[i]==0:\n",
    "        results_xd_fest['Trade'].iloc[i]=0\n",
    "    elif results_xd_fest['Utilidad'].iloc[i]>0:\n",
    "        results_xd_fest['Trade'].iloc[i]=1\n",
    "    else:\n",
    "        results_xd_fest['Trade'].iloc[i]=-1"
   ]
  },
  {
   "cell_type": "code",
   "execution_count": 31,
   "id": "b0e34b42",
   "metadata": {},
   "outputs": [
    {
     "data": {
      "text/plain": [
       " 0    11512\n",
       " 1      928\n",
       "-1      594\n",
       "Name: Trade, dtype: int64"
      ]
     },
     "execution_count": 31,
     "metadata": {},
     "output_type": "execute_result"
    }
   ],
   "source": [
    "results_xd_fest['Trade'].value_counts()"
   ]
  },
  {
   "cell_type": "code",
   "execution_count": 32,
   "id": "1d22c517",
   "metadata": {},
   "outputs": [],
   "source": [
    "trades_positivos=[results_xd_fest['Trade']==1]"
   ]
  },
  {
   "cell_type": "code",
   "execution_count": 33,
   "id": "826f0832",
   "metadata": {},
   "outputs": [
    {
     "data": {
      "image/png": "[encoded data removed]",
      "text/plain": [
       "<Figure size 700x400 with 1 Axes>"
      ]
     },
     "metadata": {},
     "output_type": "display_data"
    }
   ],
   "source": [
    "ax=sns.barplot(x=results_xd_fest['Trade'].value_counts().index[1:],y=results_xd_fest['Predictions'].value_counts().values[1:], alpha=0.8)\n",
    "ax.set(ylabel='Número de predicciones')\n",
    "ax.set_xticklabels(['Trades Negativos', 'Trades Positivos'])\n",
    "plt.show()"
   ]
  },
  {
   "cell_type": "code",
   "execution_count": 34,
   "id": "12897ebe",
   "metadata": {},
   "outputs": [],
   "source": [
    "positivos=results_xd_fest[results_xd_fest['Utilidad']>0]\n",
    "negativos=results_xd_fest[results_xd_fest['Utilidad']<0]"
   ]
  },
  {
   "cell_type": "markdown",
   "id": "6e798b9b",
   "metadata": {},
   "source": [
    "#### Trades positivos"
   ]
  },
  {
   "cell_type": "code",
   "execution_count": 35,
   "id": "43dcd4bc",
   "metadata": {},
   "outputs": [
    {
     "data": {
      "text/plain": [
       "401359479.8999816"
      ]
     },
     "execution_count": 35,
     "metadata": {},
     "output_type": "execute_result"
    }
   ],
   "source": [
    "#Utilidad de los trades positivos\n",
    "positivos['Utilidad'].sum()"
   ]
  },
  {
   "cell_type": "code",
   "execution_count": 36,
   "id": "193a8954",
   "metadata": {},
   "outputs": [
    {
     "data": {
      "text/plain": [
       "count       928.000\n",
       "mean     432499.440\n",
       "std      357328.990\n",
       "min         949.300\n",
       "25%      209190.125\n",
       "50%      372033.950\n",
       "75%      564563.125\n",
       "max     3208802.550\n",
       "Name: Utilidad, dtype: float64"
      ]
     },
     "execution_count": 36,
     "metadata": {},
     "output_type": "execute_result"
    }
   ],
   "source": [
    "#Descripción de los trades positivos\n",
    "positivos['Utilidad'].describe()"
   ]
  },
  {
   "cell_type": "markdown",
   "id": "ce5a9feb",
   "metadata": {},
   "source": [
    "#### Trades negativos"
   ]
  },
  {
   "cell_type": "code",
   "execution_count": 37,
   "id": "e22cf693",
   "metadata": {},
   "outputs": [
    {
     "data": {
      "text/plain": [
       "-226003993.1000123"
      ]
     },
     "execution_count": 37,
     "metadata": {},
     "output_type": "execute_result"
    }
   ],
   "source": [
    "#Pérdidas para los trades negativos\n",
    "negativos['Utilidad'].sum()"
   ]
  },
  {
   "cell_type": "code",
   "execution_count": 38,
   "id": "b43eb38b",
   "metadata": {},
   "outputs": [
    {
     "data": {
      "text/plain": [
       "count        594.000\n",
       "mean     -380478.103\n",
       "std       347504.755\n",
       "min     -2531065.000\n",
       "25%      -535450.000\n",
       "50%      -296820.000\n",
       "75%      -123130.750\n",
       "max         -343.750\n",
       "Name: Utilidad, dtype: float64"
      ]
     },
     "execution_count": 38,
     "metadata": {},
     "output_type": "execute_result"
    }
   ],
   "source": [
    "#Descripción para los trades que generan pérdidas\n",
    "negativos['Utilidad'].describe()"
   ]
  },
  {
   "cell_type": "code",
   "execution_count": 39,
   "id": "da4a00d4",
   "metadata": {},
   "outputs": [
    {
     "data": {
      "text/plain": [
       "<AxesSubplot: ylabel='Density'>"
      ]
     },
     "execution_count": 39,
     "metadata": {},
     "output_type": "execute_result"
    },
    {
     "data": {
      "image/png": "[encoded data removed]",
      "text/plain": [
       "<Figure size 700x400 with 1 Axes>"
      ]
     },
     "metadata": {},
     "output_type": "display_data"
    }
   ],
   "source": [
    "#Función de densidad para las distrubuciones de los trades positivos\n",
    "positivos['Utilidad'].plot.kde(bw_method=1.5)"
   ]
  },
  {
   "cell_type": "code",
   "execution_count": 40,
   "id": "7e944adb",
   "metadata": {},
   "outputs": [
    {
     "data": {
      "text/plain": [
       "<AxesSubplot: ylabel='Density'>"
      ]
     },
     "execution_count": 40,
     "metadata": {},
     "output_type": "execute_result"
    },
    {
     "data": {
      "image/png": "[encoded data removed]",
      "text/plain": [
       "<Figure size 700x400 with 1 Axes>"
      ]
     },
     "metadata": {},
     "output_type": "display_data"
    }
   ],
   "source": [
    "#Función de densidad para las distrubuciones de los trades negativos\n",
    "negativos['Utilidad'].plot.kde(bw_method=1.5)"
   ]
  },
  {
   "cell_type": "code",
   "execution_count": 41,
   "id": "13e932fd",
   "metadata": {},
   "outputs": [
    {
     "data": {
      "text/plain": [
       "<AxesSubplot: ylabel='Frequency'>"
      ]
     },
     "execution_count": 41,
     "metadata": {},
     "output_type": "execute_result"
    },
    {
     "data": {
      "image/png": "[encoded data removed]",
      "text/plain": [
       "<Figure size 700x400 with 1 Axes>"
      ]
     },
     "metadata": {},
     "output_type": "display_data"
    }
   ],
   "source": [
    "#Histograma de lad istribución de las utilidades\n",
    "positivos['Utilidad'].plot.hist(bins=30, alpha=0.9)"
   ]
  },
  {
   "cell_type": "code",
   "execution_count": 42,
   "id": "5d5a8ef7",
   "metadata": {},
   "outputs": [
    {
     "data": {
      "text/plain": [
       "<AxesSubplot: ylabel='Frequency'>"
      ]
     },
     "execution_count": 42,
     "metadata": {},
     "output_type": "execute_result"
    },
    {
     "data": {
      "image/png": "[encoded data removed]",
      "text/plain": [
       "<Figure size 700x400 with 1 Axes>"
      ]
     },
     "metadata": {},
     "output_type": "display_data"
    }
   ],
   "source": [
    "#Histograma de la distribución de las pérdidas\n",
    "negativos['Utilidad'].plot.hist(bins=30, alpha=0.9)"
   ]
  },
  {
   "cell_type": "markdown",
   "id": "614b1daa",
   "metadata": {},
   "source": [
    "### Pérdidas y ganancias incluyendo trading en días festivos"
   ]
  },
  {
   "cell_type": "markdown",
   "id": "dadec250",
   "metadata": {},
   "source": [
    "Teniendo en cuenta que en los días festivos, alguno de los mercados permanece cerrado, no es posible ejecutar operaciones. No obstante, en la definición de la función de arbitraje, asumimos que en condiciones de días festivos hay arbitraje cuando se observa spread entre el precio de cierre del último día hábil antes del festivo y el precio en el mercado dual que permanece abierto. En este caso, es posible realizar operaciones en el mercado dual que permanece abierto, pero la operación contraria sólo se puede ejecutar al día siguiente en la apertura del nuevo día hábil. Esta condición fue incluida en la función de evaluación financiera. De esta manera, es posible que, durante un día festivo, la predicción indique que se pueden realizar operaciones de arbitraje en todo momento, pero en la práctica esto no es posible de ejecutar.  \n",
    "Lo usual en la práctica del arbitrador es que, al observar un spread de precio entre los precios de cierre en el mercado cerrado y el precio que se actualiza constantemente en el mercado abierto, se ejecuta una sola operación en el mercado abierto (usualmente al cierre del mercado) y la operación contraria se ejecuta en la apertura del siguiente día hábil en el mercado cerrado por el festivo.  \n",
    "A continuación incluiremos esta condición operativa en el análisis de resultados y observaremos el efecto de incorporarla en la estrategia de trading, según las predicciones del modelo."
   ]
  },
  {
   "cell_type": "code",
   "execution_count": 43,
   "id": "5cbca56a",
   "metadata": {},
   "outputs": [
    {
     "data": {
      "text/plain": [
       "2022-04-15    175\n",
       "2022-01-10    173\n",
       "2022-01-17    168\n",
       "2022-03-21    162\n",
       "2022-04-14    154\n",
       "2022-02-21    151\n",
       "Name: Date, dtype: int64"
      ]
     },
     "execution_count": 43,
     "metadata": {},
     "output_type": "execute_result"
    }
   ],
   "source": [
    "#Contamos las observaciones en fechas festivo.\n",
    "festivos['Date'].value_counts()"
   ]
  },
  {
   "cell_type": "code",
   "execution_count": 44,
   "id": "039523f6",
   "metadata": {},
   "outputs": [
    {
     "name": "stderr",
     "output_type": "stream",
     "text": [
      "C:\\Users\\fract\\AppData\\Local\\Temp\\ipykernel_39360\\2059271179.py:2: UserWarning: Boolean Series key will be reindexed to match DataFrame index.\n",
      "  festivos_positivos=festivos[results_xd['Predictions']>0]\n"
     ]
    }
   ],
   "source": [
    "#Contamos los festivos con predicicones de arbitraje.\n",
    "festivos_positivos=festivos[results_xd['Predictions']>0]"
   ]
  },
  {
   "cell_type": "code",
   "execution_count": 45,
   "id": "775bfd02",
   "metadata": {},
   "outputs": [
    {
     "data": {
      "text/plain": [
       "2022-04-15    130\n",
       "2022-03-21    124\n",
       "2022-01-10    123\n",
       "2022-01-17    114\n",
       "2022-04-14    105\n",
       "2022-02-21     47\n",
       "Name: Date, dtype: int64"
      ]
     },
     "execution_count": 45,
     "metadata": {},
     "output_type": "execute_result"
    }
   ],
   "source": [
    "festivos_positivos['Date'].value_counts()"
   ]
  },
  {
   "cell_type": "markdown",
   "id": "e9aeebed",
   "metadata": {},
   "source": [
    "Para los festivos, tomaremos solo una de las observaciones, aleatoriamente, y observaremos el estado de pérdidas y ganancias."
   ]
  },
  {
   "cell_type": "code",
   "execution_count": 46,
   "id": "448af3fe",
   "metadata": {},
   "outputs": [
    {
     "name": "stderr",
     "output_type": "stream",
     "text": [
      "C:\\Users\\fract\\AppData\\Local\\Temp\\ipykernel_39360\\3153603631.py:7: FutureWarning: In a future version, object-dtype columns with all-bool values will not be included in reductions with bool_only=True. Explicitly cast to bool dtype instead.\n",
      "  PyG_festivos=pd.concat([PyG_festivos, trade],axis=0)\n",
      "C:\\Users\\fract\\AppData\\Local\\Temp\\ipykernel_39360\\3153603631.py:7: FutureWarning: In a future version, object-dtype columns with all-bool values will not be included in reductions with bool_only=True. Explicitly cast to bool dtype instead.\n",
      "  PyG_festivos=pd.concat([PyG_festivos, trade],axis=0)\n",
      "C:\\Users\\fract\\AppData\\Local\\Temp\\ipykernel_39360\\3153603631.py:7: FutureWarning: In a future version, object-dtype columns with all-bool values will not be included in reductions with bool_only=True. Explicitly cast to bool dtype instead.\n",
      "  PyG_festivos=pd.concat([PyG_festivos, trade],axis=0)\n",
      "C:\\Users\\fract\\AppData\\Local\\Temp\\ipykernel_39360\\3153603631.py:7: FutureWarning: In a future version, object-dtype columns with all-bool values will not be included in reductions with bool_only=True. Explicitly cast to bool dtype instead.\n",
      "  PyG_festivos=pd.concat([PyG_festivos, trade],axis=0)\n",
      "C:\\Users\\fract\\AppData\\Local\\Temp\\ipykernel_39360\\3153603631.py:7: FutureWarning: In a future version, object-dtype columns with all-bool values will not be included in reductions with bool_only=True. Explicitly cast to bool dtype instead.\n",
      "  PyG_festivos=pd.concat([PyG_festivos, trade],axis=0)\n"
     ]
    }
   ],
   "source": [
    "trades_festivos=[]\n",
    "PyG_festivos=pd.DataFrame(columns=results.columns)\n",
    "for fecha in festivos['Date'].value_counts().index:\n",
    "    obs=results_xd[results_xd['Date']==fecha]\n",
    "    trade=obs.sample()\n",
    "    trades_festivos.append(trade['Utilidad'])\n",
    "    PyG_festivos=pd.concat([PyG_festivos, trade],axis=0)\n",
    "    \n",
    "    "
   ]
  },
  {
   "cell_type": "code",
   "execution_count": 47,
   "id": "42d98873",
   "metadata": {},
   "outputs": [
    {
     "data": {
      "text/html": [
       "<div>\n",
       "<style scoped>\n",
       "    .dataframe tbody tr th:only-of-type {\n",
       "        vertical-align: middle;\n",
       "    }\n",
       "\n",
       "    .dataframe tbody tr th {\n",
       "        vertical-align: top;\n",
       "    }\n",
       "\n",
       "    .dataframe thead th {\n",
       "        text-align: right;\n",
       "    }\n",
       "</style>\n",
       "<table border=\"1\" class=\"dataframe\">\n",
       "  <thead>\n",
       "    <tr style=\"text-align: right;\">\n",
       "      <th></th>\n",
       "      <th>Unnamed: 0</th>\n",
       "      <th>Date</th>\n",
       "      <th>Hora_COL</th>\n",
       "      <th>Minuto</th>\n",
       "      <th>Hora_NY</th>\n",
       "      <th>Festivo_COL</th>\n",
       "      <th>Festivo_NYSE</th>\n",
       "      <th>Next_Day</th>\n",
       "      <th>Subasta</th>\n",
       "      <th>PFB_ABIERTO</th>\n",
       "      <th>CIB_ABIERTO</th>\n",
       "      <th>Real</th>\n",
       "      <th>Predictions</th>\n",
       "      <th>Spread</th>\n",
       "      <th>Utilidad</th>\n",
       "    </tr>\n",
       "  </thead>\n",
       "  <tbody>\n",
       "    <tr>\n",
       "      <th>8442</th>\n",
       "      <td>40104</td>\n",
       "      <td>2022-04-15</td>\n",
       "      <td>12</td>\n",
       "      <td>18</td>\n",
       "      <td>13</td>\n",
       "      <td>True</td>\n",
       "      <td>False</td>\n",
       "      <td>0</td>\n",
       "      <td>0</td>\n",
       "      <td>0</td>\n",
       "      <td>1</td>\n",
       "      <td>2.000</td>\n",
       "      <td>2</td>\n",
       "      <td>33.431</td>\n",
       "      <td>334315.000</td>\n",
       "    </tr>\n",
       "    <tr>\n",
       "      <th>14182</th>\n",
       "      <td>2827</td>\n",
       "      <td>2022-01-10</td>\n",
       "      <td>12</td>\n",
       "      <td>1</td>\n",
       "      <td>12</td>\n",
       "      <td>True</td>\n",
       "      <td>False</td>\n",
       "      <td>0</td>\n",
       "      <td>0</td>\n",
       "      <td>0</td>\n",
       "      <td>1</td>\n",
       "      <td>1.000</td>\n",
       "      <td>1</td>\n",
       "      <td>541.017</td>\n",
       "      <td>5410167.000</td>\n",
       "    </tr>\n",
       "    <tr>\n",
       "      <th>80</th>\n",
       "      <td>5508</td>\n",
       "      <td>2022-01-17</td>\n",
       "      <td>11</td>\n",
       "      <td>42</td>\n",
       "      <td>11</td>\n",
       "      <td>False</td>\n",
       "      <td>True</td>\n",
       "      <td>0</td>\n",
       "      <td>0</td>\n",
       "      <td>1</td>\n",
       "      <td>0</td>\n",
       "      <td>1.000</td>\n",
       "      <td>1</td>\n",
       "      <td>-408.437</td>\n",
       "      <td>-4084368.000</td>\n",
       "    </tr>\n",
       "    <tr>\n",
       "      <th>2273</th>\n",
       "      <td>29971</td>\n",
       "      <td>2022-03-21</td>\n",
       "      <td>14</td>\n",
       "      <td>25</td>\n",
       "      <td>15</td>\n",
       "      <td>True</td>\n",
       "      <td>False</td>\n",
       "      <td>1</td>\n",
       "      <td>0</td>\n",
       "      <td>0</td>\n",
       "      <td>1</td>\n",
       "      <td>2.000</td>\n",
       "      <td>2</td>\n",
       "      <td>2065.806</td>\n",
       "      <td>20658057.500</td>\n",
       "    </tr>\n",
       "    <tr>\n",
       "      <th>7449</th>\n",
       "      <td>39328</td>\n",
       "      <td>2022-04-14</td>\n",
       "      <td>8</td>\n",
       "      <td>22</td>\n",
       "      <td>9</td>\n",
       "      <td>True</td>\n",
       "      <td>False</td>\n",
       "      <td>0</td>\n",
       "      <td>0</td>\n",
       "      <td>0</td>\n",
       "      <td>0</td>\n",
       "      <td>0.000</td>\n",
       "      <td>0</td>\n",
       "      <td>0.000</td>\n",
       "      <td>0.000</td>\n",
       "    </tr>\n",
       "    <tr>\n",
       "      <th>820</th>\n",
       "      <td>18802</td>\n",
       "      <td>2022-02-21</td>\n",
       "      <td>8</td>\n",
       "      <td>16</td>\n",
       "      <td>8</td>\n",
       "      <td>False</td>\n",
       "      <td>True</td>\n",
       "      <td>0</td>\n",
       "      <td>0</td>\n",
       "      <td>0</td>\n",
       "      <td>0</td>\n",
       "      <td>0.000</td>\n",
       "      <td>0</td>\n",
       "      <td>0.000</td>\n",
       "      <td>0.000</td>\n",
       "    </tr>\n",
       "  </tbody>\n",
       "</table>\n",
       "</div>"
      ],
      "text/plain": [
       "      Unnamed: 0       Date Hora_COL Minuto Hora_NY Festivo_COL Festivo_NYSE  \\\n",
       "8442       40104 2022-04-15       12     18      13        True        False   \n",
       "14182       2827 2022-01-10       12      1      12        True        False   \n",
       "80          5508 2022-01-17       11     42      11       False         True   \n",
       "2273       29971 2022-03-21       14     25      15        True        False   \n",
       "7449       39328 2022-04-14        8     22       9        True        False   \n",
       "820        18802 2022-02-21        8     16       8       False         True   \n",
       "\n",
       "      Next_Day Subasta PFB_ABIERTO CIB_ABIERTO  Real Predictions   Spread  \\\n",
       "8442         0       0           0           1 2.000           2   33.431   \n",
       "14182        0       0           0           1 1.000           1  541.017   \n",
       "80           0       0           1           0 1.000           1 -408.437   \n",
       "2273         1       0           0           1 2.000           2 2065.806   \n",
       "7449         0       0           0           0 0.000           0    0.000   \n",
       "820          0       0           0           0 0.000           0    0.000   \n",
       "\n",
       "          Utilidad  \n",
       "8442    334315.000  \n",
       "14182  5410167.000  \n",
       "80    -4084368.000  \n",
       "2273  20658057.500  \n",
       "7449         0.000  \n",
       "820          0.000  "
      ]
     },
     "execution_count": 47,
     "metadata": {},
     "output_type": "execute_result"
    }
   ],
   "source": [
    "#Trades simulados en días festivo\n",
    "PyG_festivos"
   ]
  },
  {
   "cell_type": "code",
   "execution_count": 48,
   "id": "a6e1ed85",
   "metadata": {},
   "outputs": [
    {
     "data": {
      "text/plain": [
       "count          6.000\n",
       "mean     3719695.250\n",
       "std      8829521.829\n",
       "min     -4084368.000\n",
       "25%            0.000\n",
       "50%       167157.500\n",
       "75%      4141204.000\n",
       "max     20658057.500\n",
       "Name: Utilidad, dtype: float64"
      ]
     },
     "execution_count": 48,
     "metadata": {},
     "output_type": "execute_result"
    }
   ],
   "source": [
    "PyG_festivos['Utilidad'].describe()"
   ]
  },
  {
   "cell_type": "code",
   "execution_count": 49,
   "id": "4847a75a",
   "metadata": {},
   "outputs": [],
   "source": [
    "trades_festivos_positivos=PyG_festivos[PyG_festivos['Utilidad']>0]\n",
    "trades_festivos_negativos=PyG_festivos[PyG_festivos['Utilidad']<0]"
   ]
  },
  {
   "cell_type": "code",
   "execution_count": 50,
   "id": "832aa236",
   "metadata": {},
   "outputs": [
    {
     "data": {
      "text/plain": [
       "26402539.49999999"
      ]
     },
     "execution_count": 50,
     "metadata": {},
     "output_type": "execute_result"
    }
   ],
   "source": [
    "trades_festivos_positivos['Utilidad'].sum()"
   ]
  },
  {
   "cell_type": "code",
   "execution_count": 51,
   "id": "ef638c29",
   "metadata": {},
   "outputs": [
    {
     "data": {
      "text/plain": [
       "-4084368.000000031"
      ]
     },
     "execution_count": 51,
     "metadata": {},
     "output_type": "execute_result"
    }
   ],
   "source": [
    "trades_festivos_negativos['Utilidad'].sum()"
   ]
  },
  {
   "cell_type": "markdown",
   "id": "3f407ceb",
   "metadata": {},
   "source": [
    "### Pérdidas y Ganancias: Mercados abiertos y días festivos"
   ]
  },
  {
   "cell_type": "code",
   "execution_count": 52,
   "id": "c136967b",
   "metadata": {},
   "outputs": [],
   "source": [
    "#Sumamos los trade positivos en sesiones abiertas y los trades positivos para días festivos.\n",
    "#Sumamos los trades negativos en sesiones abiertas y los trades negativos para días festivos.\n",
    "total_positivos=positivos['Utilidad'].sum()+trades_festivos_positivos['Utilidad'].sum()\n",
    "total_negativos=negativos['Utilidad'].sum()+trades_festivos_negativos['Utilidad'].sum()"
   ]
  },
  {
   "cell_type": "code",
   "execution_count": 53,
   "id": "9e3f2505",
   "metadata": {},
   "outputs": [
    {
     "data": {
      "text/plain": [
       "427762019.3999816"
      ]
     },
     "execution_count": 53,
     "metadata": {},
     "output_type": "execute_result"
    }
   ],
   "source": [
    "#PyG trades positivos\n",
    "total_positivos"
   ]
  },
  {
   "cell_type": "code",
   "execution_count": 54,
   "id": "15e25db4",
   "metadata": {},
   "outputs": [
    {
     "data": {
      "text/plain": [
       "-230088361.10001233"
      ]
     },
     "execution_count": 54,
     "metadata": {},
     "output_type": "execute_result"
    }
   ],
   "source": [
    "#PyG trades negativos\n",
    "total_negativos"
   ]
  },
  {
   "cell_type": "code",
   "execution_count": 55,
   "id": "ad51653d",
   "metadata": {},
   "outputs": [
    {
     "data": {
      "text/plain": [
       "197673658.2999693"
      ]
     },
     "execution_count": 55,
     "metadata": {},
     "output_type": "execute_result"
    }
   ],
   "source": [
    "#PyG neto\n",
    "PyG_neto=total_positivos+total_negativos\n",
    "PyG_neto"
   ]
  },
  {
   "cell_type": "code",
   "execution_count": 56,
   "id": "c7b45f46",
   "metadata": {},
   "outputs": [
    {
     "data": {
      "text/plain": [
       "<AxesSubplot: xlabel='PyG Arbitraje'>"
      ]
     },
     "execution_count": 56,
     "metadata": {},
     "output_type": "execute_result"
    },
    {
     "data": {
      "image/png": "[encoded data removed]",
      "text/plain": [
       "<Figure size 800x500 with 1 Axes>"
      ]
     },
     "metadata": {},
     "output_type": "display_data"
    }
   ],
   "source": [
    "df=pd.DataFrame({\n",
    "    'PyG Arbitraje':['Mercados abiertos','Mercados abiertos y festivos'],\n",
    "    'Ganancias(en pesos)':[positivos['Utilidad'].sum(),positivos['Utilidad'].sum()+trades_festivos_positivos['Utilidad'].sum()],\n",
    "    'Pérdidas(en pesos)':[negativos['Utilidad'].sum(),negativos['Utilidad'].sum()+trades_festivos_negativos['Utilidad'].sum()]\n",
    "})\n",
    "df.plot(x='PyG Arbitraje', y=['Ganancias(en pesos)','Pérdidas(en pesos)'],kind='bar',figsize=(8,5), rot=0)\n"
   ]
  },
  {
   "cell_type": "code",
   "execution_count": null,
   "id": "3a9c1169",
   "metadata": {},
   "outputs": [],
   "source": []
  }
 ],
 "metadata": {
  "kernelspec": {
   "display_name": "Python 3 (ipykernel)",
   "language": "python",
   "name": "python3"
  },
  "language_info": {
   "codemirror_mode": {
    "name": "ipython",
    "version": 3
   },
   "file_extension": ".py",
   "mimetype": "text/x-python",
   "name": "python",
   "nbconvert_exporter": "python",
   "pygments_lexer": "ipython3",
   "version": "3.9.12"
  }
 },
 "nbformat": 4,
 "nbformat_minor": 5
}

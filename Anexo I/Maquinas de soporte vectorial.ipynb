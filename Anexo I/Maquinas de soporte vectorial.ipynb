{
 "cells": [
  {
   "cell_type": "markdown",
   "id": "4417a35e",
   "metadata": {},
   "source": [
    "# Exploración I: Maquinas de soporte vectorial"
   ]
  },
  {
   "cell_type": "markdown",
   "id": "9641135a",
   "metadata": {},
   "source": [
    "El objetivo general de la primera exploración consiste en tener unas primeras ideas sobre la cantidad de rezagos que el modelo debe conocer y el horizonte de predicción en minutos."
   ]
  },
  {
   "cell_type": "code",
   "execution_count": 1,
   "id": "02491185",
   "metadata": {},
   "outputs": [],
   "source": [
    "#Librerias necesarias para la ejecución\n",
    "import pandas as pd\n",
    "import datetime as dt\n",
    "import numpy as np\n",
    "from sklearn.svm import SVC\n",
    "from sklearn.preprocessing import scale\n",
    "from sklearn.model_selection import train_test_split\n",
    "from sklearn.metrics import confusion_matrix as cm\n",
    "from sklearn.metrics import precision_score, recall_score, accuracy_score, f1_score\n",
    "from sklearn.metrics import classification_report\n",
    "import matplotlib.pyplot as plt\n",
    "import seaborn as sns\n",
    "import warnings\n",
    "warnings.filterwarnings('ignore')"
   ]
  },
  {
   "cell_type": "code",
   "execution_count": 2,
   "id": "f6cad510",
   "metadata": {},
   "outputs": [
    {
     "name": "stdout",
     "output_type": "stream",
     "text": [
      "Tamaño de la base de datos: \n",
      "Filas: 50406 \n",
      "Columnas:25\n"
     ]
    },
    {
     "data": {
      "text/html": [
       "<div>\n",
       "<style scoped>\n",
       "    .dataframe tbody tr th:only-of-type {\n",
       "        vertical-align: middle;\n",
       "    }\n",
       "\n",
       "    .dataframe tbody tr th {\n",
       "        vertical-align: top;\n",
       "    }\n",
       "\n",
       "    .dataframe thead th {\n",
       "        text-align: right;\n",
       "    }\n",
       "</style>\n",
       "<table border=\"1\" class=\"dataframe\">\n",
       "  <thead>\n",
       "    <tr style=\"text-align: right;\">\n",
       "      <th></th>\n",
       "      <th>Date</th>\n",
       "      <th>Hora_COL</th>\n",
       "      <th>Minuto</th>\n",
       "      <th>Hora_NY</th>\n",
       "      <th>Festivo_COL</th>\n",
       "      <th>Festivo_NYSE</th>\n",
       "      <th>Next_Day</th>\n",
       "      <th>Subasta</th>\n",
       "      <th>PFB_ABIERTO</th>\n",
       "      <th>CIB_ABIERTO</th>\n",
       "      <th>...</th>\n",
       "      <th>USD_BID</th>\n",
       "      <th>USD_ASK</th>\n",
       "      <th>ASK_CIB</th>\n",
       "      <th>BID_CIB</th>\n",
       "      <th>ASK_PFB</th>\n",
       "      <th>BID_PFB</th>\n",
       "      <th>Spread_BE_SL</th>\n",
       "      <th>Spread_BL_SE</th>\n",
       "      <th>Arbitraje_BE_SL</th>\n",
       "      <th>Arbitraje_BL_SE</th>\n",
       "    </tr>\n",
       "  </thead>\n",
       "  <tbody>\n",
       "    <tr>\n",
       "      <th>0</th>\n",
       "      <td>2022-01-03</td>\n",
       "      <td>9</td>\n",
       "      <td>54</td>\n",
       "      <td>9</td>\n",
       "      <td>0</td>\n",
       "      <td>0</td>\n",
       "      <td>0</td>\n",
       "      <td>0</td>\n",
       "      <td>1</td>\n",
       "      <td>1</td>\n",
       "      <td>...</td>\n",
       "      <td>4073.00</td>\n",
       "      <td>4076.9</td>\n",
       "      <td>31.74</td>\n",
       "      <td>31.55</td>\n",
       "      <td>32300</td>\n",
       "      <td>32010</td>\n",
       "      <td>-352.32380</td>\n",
       "      <td>-186.30125</td>\n",
       "      <td>0</td>\n",
       "      <td>0</td>\n",
       "    </tr>\n",
       "    <tr>\n",
       "      <th>1</th>\n",
       "      <td>2022-01-03</td>\n",
       "      <td>9</td>\n",
       "      <td>55</td>\n",
       "      <td>9</td>\n",
       "      <td>0</td>\n",
       "      <td>0</td>\n",
       "      <td>0</td>\n",
       "      <td>0</td>\n",
       "      <td>1</td>\n",
       "      <td>1</td>\n",
       "      <td>...</td>\n",
       "      <td>4072.72</td>\n",
       "      <td>4076.0</td>\n",
       "      <td>31.75</td>\n",
       "      <td>31.58</td>\n",
       "      <td>32300</td>\n",
       "      <td>32290</td>\n",
       "      <td>-75.37175</td>\n",
       "      <td>-157.96754</td>\n",
       "      <td>0</td>\n",
       "      <td>0</td>\n",
       "    </tr>\n",
       "    <tr>\n",
       "      <th>2</th>\n",
       "      <td>2022-01-03</td>\n",
       "      <td>9</td>\n",
       "      <td>56</td>\n",
       "      <td>9</td>\n",
       "      <td>0</td>\n",
       "      <td>0</td>\n",
       "      <td>0</td>\n",
       "      <td>0</td>\n",
       "      <td>1</td>\n",
       "      <td>1</td>\n",
       "      <td>...</td>\n",
       "      <td>4072.72</td>\n",
       "      <td>4076.0</td>\n",
       "      <td>31.76</td>\n",
       "      <td>31.60</td>\n",
       "      <td>32300</td>\n",
       "      <td>32290</td>\n",
       "      <td>-85.56300</td>\n",
       "      <td>-137.60644</td>\n",
       "      <td>0</td>\n",
       "      <td>0</td>\n",
       "    </tr>\n",
       "    <tr>\n",
       "      <th>3</th>\n",
       "      <td>2022-01-03</td>\n",
       "      <td>9</td>\n",
       "      <td>57</td>\n",
       "      <td>9</td>\n",
       "      <td>0</td>\n",
       "      <td>0</td>\n",
       "      <td>0</td>\n",
       "      <td>0</td>\n",
       "      <td>1</td>\n",
       "      <td>1</td>\n",
       "      <td>...</td>\n",
       "      <td>4072.72</td>\n",
       "      <td>4075.0</td>\n",
       "      <td>31.76</td>\n",
       "      <td>31.60</td>\n",
       "      <td>32300</td>\n",
       "      <td>32290</td>\n",
       "      <td>-77.62100</td>\n",
       "      <td>-137.60644</td>\n",
       "      <td>0</td>\n",
       "      <td>0</td>\n",
       "    </tr>\n",
       "    <tr>\n",
       "      <th>4</th>\n",
       "      <td>2022-01-03</td>\n",
       "      <td>9</td>\n",
       "      <td>58</td>\n",
       "      <td>9</td>\n",
       "      <td>0</td>\n",
       "      <td>0</td>\n",
       "      <td>0</td>\n",
       "      <td>0</td>\n",
       "      <td>1</td>\n",
       "      <td>1</td>\n",
       "      <td>...</td>\n",
       "      <td>4072.00</td>\n",
       "      <td>4075.0</td>\n",
       "      <td>31.76</td>\n",
       "      <td>31.62</td>\n",
       "      <td>32300</td>\n",
       "      <td>32290</td>\n",
       "      <td>-77.62100</td>\n",
       "      <td>-122.93550</td>\n",
       "      <td>0</td>\n",
       "      <td>0</td>\n",
       "    </tr>\n",
       "  </tbody>\n",
       "</table>\n",
       "<p>5 rows × 25 columns</p>\n",
       "</div>"
      ],
      "text/plain": [
       "        Date  Hora_COL  Minuto  Hora_NY  Festivo_COL  Festivo_NYSE  Next_Day  \\\n",
       "0 2022-01-03         9      54        9            0             0         0   \n",
       "1 2022-01-03         9      55        9            0             0         0   \n",
       "2 2022-01-03         9      56        9            0             0         0   \n",
       "3 2022-01-03         9      57        9            0             0         0   \n",
       "4 2022-01-03         9      58        9            0             0         0   \n",
       "\n",
       "   Subasta  PFB_ABIERTO  CIB_ABIERTO  ...  USD_BID  USD_ASK  ASK_CIB  BID_CIB  \\\n",
       "0        0            1            1  ...  4073.00   4076.9    31.74    31.55   \n",
       "1        0            1            1  ...  4072.72   4076.0    31.75    31.58   \n",
       "2        0            1            1  ...  4072.72   4076.0    31.76    31.60   \n",
       "3        0            1            1  ...  4072.72   4075.0    31.76    31.60   \n",
       "4        0            1            1  ...  4072.00   4075.0    31.76    31.62   \n",
       "\n",
       "   ASK_PFB  BID_PFB  Spread_BE_SL  Spread_BL_SE  Arbitraje_BE_SL  \\\n",
       "0    32300    32010    -352.32380    -186.30125                0   \n",
       "1    32300    32290     -75.37175    -157.96754                0   \n",
       "2    32300    32290     -85.56300    -137.60644                0   \n",
       "3    32300    32290     -77.62100    -137.60644                0   \n",
       "4    32300    32290     -77.62100    -122.93550                0   \n",
       "\n",
       "   Arbitraje_BL_SE  \n",
       "0                0  \n",
       "1                0  \n",
       "2                0  \n",
       "3                0  \n",
       "4                0  \n",
       "\n",
       "[5 rows x 25 columns]"
      ]
     },
     "execution_count": 2,
     "metadata": {},
     "output_type": "execute_result"
    }
   ],
   "source": [
    "df=pd.read_excel(\"arb.xlsx\") #Cargue de la base de datos\n",
    "print(\"Tamaño de la base de datos: \\nFilas: {row} \\nColumnas:{col}\".format(row=df.shape[0], col=df.shape[1]))\n",
    "df.head()"
   ]
  },
  {
   "cell_type": "markdown",
   "id": "62b4746f",
   "metadata": {},
   "source": [
    "Se van a explorar modelos con horizontes de predicción de hasta 10 minutos con rezagos de información de hasta 10 observaciones de precios. La predicción se intentará realizar para cada tipo de arbitraje por separado, para predecir arbitraje independiente de su forma y predicción multiclase."
   ]
  },
  {
   "cell_type": "code",
   "execution_count": 3,
   "id": "c6455f20",
   "metadata": {},
   "outputs": [],
   "source": [
    "#Crea columna de arbitraje independiente de su forma\n",
    "df[\"Arbitraje_Ind\"]=df['Arbitraje_BE_SL']+df['Arbitraje_BL_SE']\n",
    "#Crea columna de arbitraje multiclase\n",
    "df.loc[df['Arbitraje_BE_SL']==1, \"Arbitraje_Mul\"]=1\n",
    "df.loc[df['Arbitraje_BL_SE']==1, \"Arbitraje_Mul\"]=2\n",
    "df[\"Arbitraje_Mul\"].fillna(0, inplace=True)"
   ]
  },
  {
   "cell_type": "markdown",
   "id": "5dd1a0ac",
   "metadata": {},
   "source": [
    "## 1. Predicción independiente de la forma de arbitraje"
   ]
  },
  {
   "cell_type": "code",
   "execution_count": 4,
   "id": "1e803a4e",
   "metadata": {},
   "outputs": [],
   "source": [
    "#Columnas con información de mercado\n",
    "model_cols=[\"Festivo_COL\", \"Festivo_NYSE\", \"Next_Day\", \"Subasta\", \"PFB_ABIERTO\",\n",
    "            \"CIB_ABIERTO\", \"CIB_close\", \"COP_close\",\"PFB_close\", \"Arbitraje_Ind\"]"
   ]
  },
  {
   "cell_type": "code",
   "execution_count": 5,
   "id": "9963dde7",
   "metadata": {},
   "outputs": [],
   "source": [
    "#Desplazamiento de la columna de arbitraje en n minutos (1 a 10 minutos) y rezagos de precios de hasta 10 observaciones\n",
    "df_ind=df.copy()\n",
    "for i in range(1,11):\n",
    "    col=\"Target_arb \"+str(i)\n",
    "    col2=\"COP_close - \"+str(i)\n",
    "    col3=\"CIB_close - \"+str(i)\n",
    "    col4=\"PFB_close - \"+str(i)\n",
    "    \n",
    "    df_ind[col]=df_ind[\"Arbitraje_Ind\"].shift(-i)\n",
    "    df_ind[col2]=df_ind[\"COP_close\"].shift(i)\n",
    "    df_ind[col3]=df_ind[\"CIB_close\"].shift(i)\n",
    "    df_ind[col4]=df_ind[\"PFB_close\"].shift(i)"
   ]
  },
  {
   "cell_type": "code",
   "execution_count": 6,
   "id": "eb6055a3",
   "metadata": {},
   "outputs": [],
   "source": [
    "resultados_globales=[]\n",
    "for state in range(1,6):\n",
    "    for i in range(1,6):\n",
    "        for p in [1, 3, 5 , 10]:\n",
    "\n",
    "            y_col=\"Target_arb \"+str(i)\n",
    "\n",
    "            cols_lags=[]\n",
    "            for k in range(1, p+1):\n",
    "\n",
    "                cols_lags= cols_lags + [x for x in list(df_ind.columns) if \"close - \"+str(k) in x]\n",
    "\n",
    "            if p!=10:\n",
    "                cols_lags=[x for x in cols_lags if \"close - 10\" not in x]\n",
    "\n",
    "            new_model_cols=model_cols.copy()\n",
    "            new_model_cols.append(y_col)\n",
    "\n",
    "            new_model_cols=new_model_cols+cols_lags\n",
    "\n",
    "            model_data=df_ind[new_model_cols]\n",
    "            model_data.dropna(inplace=True)\n",
    "            X=model_data.drop(y_col, axis=1)\n",
    "            Y=model_data[y_col]\n",
    "            x_train, x_test, y_train, y_test = train_test_split(X, \n",
    "                                                           Y,random_state=state,\n",
    "                                                           shuffle=True, stratify=Y)\n",
    "            \n",
    "            x_train_scaled=scale(x_train)\n",
    "            x_test_scaled=scale(x_test)\n",
    "            \n",
    "            svm=SVC(random_state=1)\n",
    "            svm.fit(x_train_scaled, y_train)\n",
    "            y_pred = svm.predict(x_test_scaled)\n",
    "            \n",
    "            presicion=precision_score(y_test, y_pred, average=\"macro\")\n",
    "            recall=recall_score(y_test, y_pred, average=\"macro\")\n",
    "            f1=f1_score(y_test, y_pred, average=\"macro\")\n",
    "\n",
    "            cols_str=str()\n",
    "            for w in new_model_cols:\n",
    "                cols_str=cols_str+w+\",\"\n",
    "\n",
    "            resultados_globales.append([str(i),str(p), presicion, recall, f1, cols_str,])"
   ]
  },
  {
   "cell_type": "code",
   "execution_count": 7,
   "id": "3b62ea74",
   "metadata": {},
   "outputs": [
    {
     "data": {
      "text/html": [
       "<div>\n",
       "<style scoped>\n",
       "    .dataframe tbody tr th:only-of-type {\n",
       "        vertical-align: middle;\n",
       "    }\n",
       "\n",
       "    .dataframe tbody tr th {\n",
       "        vertical-align: top;\n",
       "    }\n",
       "\n",
       "    .dataframe thead th {\n",
       "        text-align: right;\n",
       "    }\n",
       "</style>\n",
       "<table border=\"1\" class=\"dataframe\">\n",
       "  <thead>\n",
       "    <tr style=\"text-align: right;\">\n",
       "      <th></th>\n",
       "      <th>Horizonte Arb</th>\n",
       "      <th>Rezagos precios</th>\n",
       "      <th>precision</th>\n",
       "      <th>recall</th>\n",
       "      <th>f1</th>\n",
       "      <th>cols_str</th>\n",
       "    </tr>\n",
       "  </thead>\n",
       "  <tbody>\n",
       "    <tr>\n",
       "      <th>26</th>\n",
       "      <td>2</td>\n",
       "      <td>5</td>\n",
       "      <td>0.873809</td>\n",
       "      <td>0.843914</td>\n",
       "      <td>0.857712</td>\n",
       "      <td>Festivo_COL,Festivo_NYSE,Next_Day,Subasta,PFB_...</td>\n",
       "    </tr>\n",
       "    <tr>\n",
       "      <th>19</th>\n",
       "      <td>5</td>\n",
       "      <td>10</td>\n",
       "      <td>0.863454</td>\n",
       "      <td>0.806745</td>\n",
       "      <td>0.830783</td>\n",
       "      <td>Festivo_COL,Festivo_NYSE,Next_Day,Subasta,PFB_...</td>\n",
       "    </tr>\n",
       "    <tr>\n",
       "      <th>3</th>\n",
       "      <td>1</td>\n",
       "      <td>10</td>\n",
       "      <td>0.902859</td>\n",
       "      <td>0.901811</td>\n",
       "      <td>0.902334</td>\n",
       "      <td>Festivo_COL,Festivo_NYSE,Next_Day,Subasta,PFB_...</td>\n",
       "    </tr>\n",
       "    <tr>\n",
       "      <th>30</th>\n",
       "      <td>3</td>\n",
       "      <td>5</td>\n",
       "      <td>0.862459</td>\n",
       "      <td>0.814147</td>\n",
       "      <td>0.835166</td>\n",
       "      <td>Festivo_COL,Festivo_NYSE,Next_Day,Subasta,PFB_...</td>\n",
       "    </tr>\n",
       "    <tr>\n",
       "      <th>46</th>\n",
       "      <td>2</td>\n",
       "      <td>5</td>\n",
       "      <td>0.874761</td>\n",
       "      <td>0.850185</td>\n",
       "      <td>0.861699</td>\n",
       "      <td>Festivo_COL,Festivo_NYSE,Next_Day,Subasta,PFB_...</td>\n",
       "    </tr>\n",
       "    <tr>\n",
       "      <th>67</th>\n",
       "      <td>2</td>\n",
       "      <td>10</td>\n",
       "      <td>0.889365</td>\n",
       "      <td>0.864083</td>\n",
       "      <td>0.875944</td>\n",
       "      <td>Festivo_COL,Festivo_NYSE,Next_Day,Subasta,PFB_...</td>\n",
       "    </tr>\n",
       "    <tr>\n",
       "      <th>25</th>\n",
       "      <td>2</td>\n",
       "      <td>3</td>\n",
       "      <td>0.879559</td>\n",
       "      <td>0.844212</td>\n",
       "      <td>0.860308</td>\n",
       "      <td>Festivo_COL,Festivo_NYSE,Next_Day,Subasta,PFB_...</td>\n",
       "    </tr>\n",
       "    <tr>\n",
       "      <th>70</th>\n",
       "      <td>3</td>\n",
       "      <td>5</td>\n",
       "      <td>0.874999</td>\n",
       "      <td>0.825818</td>\n",
       "      <td>0.847295</td>\n",
       "      <td>Festivo_COL,Festivo_NYSE,Next_Day,Subasta,PFB_...</td>\n",
       "    </tr>\n",
       "    <tr>\n",
       "      <th>31</th>\n",
       "      <td>3</td>\n",
       "      <td>10</td>\n",
       "      <td>0.868932</td>\n",
       "      <td>0.817883</td>\n",
       "      <td>0.839982</td>\n",
       "      <td>Festivo_COL,Festivo_NYSE,Next_Day,Subasta,PFB_...</td>\n",
       "    </tr>\n",
       "    <tr>\n",
       "      <th>16</th>\n",
       "      <td>5</td>\n",
       "      <td>1</td>\n",
       "      <td>0.856150</td>\n",
       "      <td>0.802284</td>\n",
       "      <td>0.825222</td>\n",
       "      <td>Festivo_COL,Festivo_NYSE,Next_Day,Subasta,PFB_...</td>\n",
       "    </tr>\n",
       "  </tbody>\n",
       "</table>\n",
       "</div>"
      ],
      "text/plain": [
       "   Horizonte Arb Rezagos precios  precision    recall        f1  \\\n",
       "26             2               5   0.873809  0.843914  0.857712   \n",
       "19             5              10   0.863454  0.806745  0.830783   \n",
       "3              1              10   0.902859  0.901811  0.902334   \n",
       "30             3               5   0.862459  0.814147  0.835166   \n",
       "46             2               5   0.874761  0.850185  0.861699   \n",
       "67             2              10   0.889365  0.864083  0.875944   \n",
       "25             2               3   0.879559  0.844212  0.860308   \n",
       "70             3               5   0.874999  0.825818  0.847295   \n",
       "31             3              10   0.868932  0.817883  0.839982   \n",
       "16             5               1   0.856150  0.802284  0.825222   \n",
       "\n",
       "                                             cols_str  \n",
       "26  Festivo_COL,Festivo_NYSE,Next_Day,Subasta,PFB_...  \n",
       "19  Festivo_COL,Festivo_NYSE,Next_Day,Subasta,PFB_...  \n",
       "3   Festivo_COL,Festivo_NYSE,Next_Day,Subasta,PFB_...  \n",
       "30  Festivo_COL,Festivo_NYSE,Next_Day,Subasta,PFB_...  \n",
       "46  Festivo_COL,Festivo_NYSE,Next_Day,Subasta,PFB_...  \n",
       "67  Festivo_COL,Festivo_NYSE,Next_Day,Subasta,PFB_...  \n",
       "25  Festivo_COL,Festivo_NYSE,Next_Day,Subasta,PFB_...  \n",
       "70  Festivo_COL,Festivo_NYSE,Next_Day,Subasta,PFB_...  \n",
       "31  Festivo_COL,Festivo_NYSE,Next_Day,Subasta,PFB_...  \n",
       "16  Festivo_COL,Festivo_NYSE,Next_Day,Subasta,PFB_...  "
      ]
     },
     "execution_count": 7,
     "metadata": {},
     "output_type": "execute_result"
    }
   ],
   "source": [
    "resultados = pd.DataFrame(resultados_globales, columns = ['Horizonte Arb', 'Rezagos precios', \n",
    "                                                          'precision', 'recall', 'f1','cols_str'])\n",
    "resultados.sample(10)"
   ]
  },
  {
   "cell_type": "code",
   "execution_count": 8,
   "id": "4e8d5e14",
   "metadata": {},
   "outputs": [],
   "source": [
    "table_precision = pd.pivot_table(resultados, values='precision', index=['Horizonte Arb'],\n",
    "                    columns=['Rezagos precios'], aggfunc=np.mean)\n",
    "table_precision=table_precision[[\"1\",\"3\",\"5\",\"10\"]]         \n",
    "table_precision.index = table_precision.index.astype(\"int\")                \n",
    "table_precision.sort_index(ascending=True, inplace=True)\n",
    "\n",
    "table_precision2 = pd.pivot_table(resultados, values='precision', index=['Horizonte Arb'],\n",
    "                    columns=['Rezagos precios'], aggfunc=np.std)\n",
    "table_precision2=table_precision2[[\"1\",\"3\",\"5\",\"10\"]]       \n",
    "table_precision2.index = table_precision2.index.astype(\"int\")                \n",
    "table_precision2.sort_index(ascending=True, inplace=True)"
   ]
  },
  {
   "cell_type": "code",
   "execution_count": 9,
   "id": "a2ca4f3f",
   "metadata": {},
   "outputs": [
    {
     "data": {
      "image/png": "[encoded data removed]",
      "text/plain": [
       "<Figure size 432x288 with 2 Axes>"
      ]
     },
     "metadata": {
      "needs_background": "light"
     },
     "output_type": "display_data"
    }
   ],
   "source": [
    "sns.heatmap(table_precision*100, annot=True, linewidth=.5, cmap='Blues')\n",
    "plt.savefig('Resultados svm/Resultados 1/Precision.png')"
   ]
  },
  {
   "cell_type": "code",
   "execution_count": 10,
   "id": "6538062e",
   "metadata": {},
   "outputs": [
    {
     "data": {
      "image/png": "[encoded data removed]",
      "text/plain": [
       "<Figure size 432x288 with 2 Axes>"
      ]
     },
     "metadata": {
      "needs_background": "light"
     },
     "output_type": "display_data"
    }
   ],
   "source": [
    "sns.heatmap(table_precision2*100,  linewidth=.5, cmap='Reds')\n",
    "plt.savefig('Resultados svm/Resultados 1/Precision2.png')"
   ]
  },
  {
   "cell_type": "code",
   "execution_count": 11,
   "id": "baa9ac72",
   "metadata": {},
   "outputs": [],
   "source": [
    "table_recall = pd.pivot_table(resultados, values='recall', index=['Horizonte Arb'],\n",
    "                    columns=['Rezagos precios'], aggfunc=np.mean)\n",
    "table_recall=table_recall[[\"1\",\"3\",\"5\",\"10\"]]       \n",
    "table_recall.index = table_recall.index.astype(\"int\")                \n",
    "table_recall.sort_index(ascending=True, inplace=True)\n",
    "\n",
    "table_recall2 = pd.pivot_table(resultados, values='recall', index=['Horizonte Arb'],\n",
    "                    columns=['Rezagos precios'], aggfunc=np.std)\n",
    "table_recall2=table_recall2[[\"1\",\"3\",\"5\",\"10\"]]        \n",
    "table_recall2.index = table_recall2.index.astype(\"int\")                \n",
    "table_recall2.sort_index(ascending=True, inplace=True)"
   ]
  },
  {
   "cell_type": "code",
   "execution_count": 12,
   "id": "acb653d8",
   "metadata": {},
   "outputs": [
    {
     "data": {
      "image/png": "[encoded data removed]",
      "text/plain": [
       "<Figure size 432x288 with 2 Axes>"
      ]
     },
     "metadata": {
      "needs_background": "light"
     },
     "output_type": "display_data"
    }
   ],
   "source": [
    "sns.heatmap(table_recall*100, annot=True, linewidth=.5, cmap='Blues')\n",
    "plt.savefig('Resultados svm/Resultados 1/Recall.png')"
   ]
  },
  {
   "cell_type": "code",
   "execution_count": 13,
   "id": "e70075fc",
   "metadata": {},
   "outputs": [
    {
     "data": {
      "image/png": "[encoded data removed]",
      "text/plain": [
       "<Figure size 432x288 with 2 Axes>"
      ]
     },
     "metadata": {
      "needs_background": "light"
     },
     "output_type": "display_data"
    }
   ],
   "source": [
    "sns.heatmap(table_recall2*100,  linewidth=.5, cmap='Reds')\n",
    "plt.savefig('Resultados svm/Resultados 1/Recall2.png')"
   ]
  },
  {
   "cell_type": "code",
   "execution_count": 14,
   "id": "0b001238",
   "metadata": {},
   "outputs": [],
   "source": [
    "table_f1 = pd.pivot_table(resultados, values='f1', index=['Horizonte Arb'],\n",
    "                    columns=['Rezagos precios'], aggfunc=np.mean)\n",
    "table_f1=table_f1[[\"1\",\"3\",\"5\",\"10\"]]          \n",
    "table_f1.index = table_f1.index.astype(\"int\")                \n",
    "table_f1.sort_index(ascending=True, inplace=True)\n",
    "\n",
    "table_f12 = pd.pivot_table(resultados, values='f1', index=['Horizonte Arb'],\n",
    "                    columns=['Rezagos precios'], aggfunc=np.std)\n",
    "table_f12=table_f12[[\"1\",\"3\",\"5\",\"10\"]]         \n",
    "table_f12.index = table_f12.index.astype(\"int\")                \n",
    "table_f12.sort_index(ascending=True, inplace=True)"
   ]
  },
  {
   "cell_type": "code",
   "execution_count": 15,
   "id": "7844ae91",
   "metadata": {},
   "outputs": [
    {
     "data": {
      "image/png": "[encoded data removed]",
      "text/plain": [
       "<Figure size 432x288 with 2 Axes>"
      ]
     },
     "metadata": {
      "needs_background": "light"
     },
     "output_type": "display_data"
    }
   ],
   "source": [
    "sns.heatmap(table_f1*100, annot=True, linewidth=.5, cmap='Blues')\n",
    "plt.savefig('Resultados svm/Resultados 1/F1.png')"
   ]
  },
  {
   "cell_type": "code",
   "execution_count": 16,
   "id": "5e72af99",
   "metadata": {},
   "outputs": [
    {
     "data": {
      "image/png": "[encoded data removed]",
      "text/plain": [
       "<Figure size 432x288 with 2 Axes>"
      ]
     },
     "metadata": {
      "needs_background": "light"
     },
     "output_type": "display_data"
    }
   ],
   "source": [
    "sns.heatmap(table_f12*100,  linewidth=.5, cmap='Reds')\n",
    "plt.savefig('Resultados svm/Resultados 1/F12.png')"
   ]
  },
  {
   "cell_type": "code",
   "execution_count": 17,
   "id": "00ca5dbc",
   "metadata": {},
   "outputs": [],
   "source": [
    "with pd.ExcelWriter('Resultados svm/Resultados 1/Independiente de arbitrajes.xlsx') as writer:\n",
    "    resultados.to_excel(writer, sheet_name='Resultados generales', index=False)\n",
    "    \n",
    "    table_precision.to_excel(writer, sheet_name='Media precision', index=True)\n",
    "    table_precision2.to_excel(writer, sheet_name='STD precision', index=True)\n",
    "    \n",
    "    table_recall.to_excel(writer, sheet_name='Media recall', index=True)\n",
    "    table_recall2.to_excel(writer, sheet_name='STD recall', index=True)\n",
    "    \n",
    "    table_f1.to_excel(writer, sheet_name='Media f1', index=True)\n",
    "    table_f12.to_excel(writer, sheet_name='STD f1', index=True)"
   ]
  },
  {
   "cell_type": "markdown",
   "id": "8f202361",
   "metadata": {},
   "source": [
    "## 2. Predicción: Compra Extranjero - Venta local"
   ]
  },
  {
   "cell_type": "code",
   "execution_count": 18,
   "id": "fa8b5187",
   "metadata": {},
   "outputs": [],
   "source": [
    "#Columnas con información de mercado\n",
    "model_cols=[\"Festivo_COL\", \"Festivo_NYSE\", \"Next_Day\", \"Subasta\", \"PFB_ABIERTO\",\n",
    "            \"CIB_ABIERTO\", \"CIB_close\", \"COP_close\",\"PFB_close\", \"Arbitraje_BE_SL\"]"
   ]
  },
  {
   "cell_type": "code",
   "execution_count": 19,
   "id": "7b707454",
   "metadata": {},
   "outputs": [],
   "source": [
    "#Desplazamiento de la columna de arbitraje en n minutos (1 a 10 minutos) y rezagos de precios de hasta 10 observaciones\n",
    "df_BeSl=df.copy()\n",
    "for i in range(1,11):\n",
    "    col=\"Target_arb \"+str(i)\n",
    "    col2=\"COP_close - \"+str(i)\n",
    "    col3=\"CIB_close - \"+str(i)\n",
    "    col4=\"PFB_close - \"+str(i)\n",
    "    col5=\"Spread_BESL_close - \"+str(i)\n",
    "    \n",
    "    df_BeSl[col]=df_BeSl[\"Arbitraje_BE_SL\"].shift(-i)\n",
    "    df_BeSl[col2]=df_BeSl[\"COP_close\"].shift(i)\n",
    "    df_BeSl[col3]=df_BeSl[\"CIB_close\"].shift(i)\n",
    "    df_BeSl[col4]=df_BeSl[\"PFB_close\"].shift(i)\n",
    "    df_BeSl[col5]=df_BeSl[\"Spread_BE_SL\"].shift(i)"
   ]
  },
  {
   "cell_type": "code",
   "execution_count": 20,
   "id": "f053b48c",
   "metadata": {},
   "outputs": [],
   "source": [
    "resultados_globales=[]\n",
    "for state in range(1,6):\n",
    "    for i in range(1,6):\n",
    "        for p in [1, 3, 5 , 10]:\n",
    "\n",
    "            y_col=\"Target_arb \"+str(i)\n",
    "\n",
    "            cols_lags=[]\n",
    "            for k in range(1, p+1):\n",
    "\n",
    "                cols_lags= cols_lags + [x for x in list(df_BeSl.columns) if \"close - \"+str(k) in x]\n",
    "\n",
    "            if p!=10:\n",
    "                cols_lags=[x for x in cols_lags if \"close - 10\" not in x]\n",
    "\n",
    "            new_model_cols=model_cols.copy()\n",
    "            new_model_cols.append(y_col)\n",
    "\n",
    "            new_model_cols=new_model_cols+cols_lags\n",
    "\n",
    "            model_data=df_BeSl[new_model_cols]\n",
    "            model_data.dropna(inplace=True)\n",
    "            X=model_data.drop(y_col, axis=1)\n",
    "            Y=model_data[y_col]\n",
    "            x_train, x_test, y_train, y_test = train_test_split(X, \n",
    "                                                           Y,random_state=state,\n",
    "                                                           shuffle=True, stratify=Y)\n",
    "\n",
    "            x_train_scaled=scale(x_train)\n",
    "            x_test_scaled=scale(x_test)\n",
    "            \n",
    "            svm=SVC(random_state=1)\n",
    "            svm.fit(x_train_scaled, y_train)\n",
    "            y_pred = svm.predict(x_test_scaled)\n",
    "            \n",
    "            presicion=precision_score(y_test, y_pred, average=\"macro\")\n",
    "            recall=recall_score(y_test, y_pred, average=\"macro\")\n",
    "            f1=f1_score(y_test, y_pred, average=\"macro\")\n",
    "\n",
    "            cols_str=str()\n",
    "            for w in new_model_cols:\n",
    "                cols_str=cols_str+w+\",\"\n",
    "\n",
    "            resultados_globales.append([str(i),str(p), presicion, recall, f1, cols_str,])"
   ]
  },
  {
   "cell_type": "code",
   "execution_count": 21,
   "id": "041b1fdb",
   "metadata": {},
   "outputs": [
    {
     "data": {
      "text/html": [
       "<div>\n",
       "<style scoped>\n",
       "    .dataframe tbody tr th:only-of-type {\n",
       "        vertical-align: middle;\n",
       "    }\n",
       "\n",
       "    .dataframe tbody tr th {\n",
       "        vertical-align: top;\n",
       "    }\n",
       "\n",
       "    .dataframe thead th {\n",
       "        text-align: right;\n",
       "    }\n",
       "</style>\n",
       "<table border=\"1\" class=\"dataframe\">\n",
       "  <thead>\n",
       "    <tr style=\"text-align: right;\">\n",
       "      <th></th>\n",
       "      <th>Horizonte Arb</th>\n",
       "      <th>Rezagos precios</th>\n",
       "      <th>precision</th>\n",
       "      <th>recall</th>\n",
       "      <th>f1</th>\n",
       "      <th>cols_str</th>\n",
       "    </tr>\n",
       "  </thead>\n",
       "  <tbody>\n",
       "    <tr>\n",
       "      <th>55</th>\n",
       "      <td>4</td>\n",
       "      <td>10</td>\n",
       "      <td>0.871222</td>\n",
       "      <td>0.793862</td>\n",
       "      <td>0.827299</td>\n",
       "      <td>Festivo_COL,Festivo_NYSE,Next_Day,Subasta,PFB_...</td>\n",
       "    </tr>\n",
       "    <tr>\n",
       "      <th>93</th>\n",
       "      <td>4</td>\n",
       "      <td>3</td>\n",
       "      <td>0.855505</td>\n",
       "      <td>0.777938</td>\n",
       "      <td>0.811170</td>\n",
       "      <td>Festivo_COL,Festivo_NYSE,Next_Day,Subasta,PFB_...</td>\n",
       "    </tr>\n",
       "    <tr>\n",
       "      <th>53</th>\n",
       "      <td>4</td>\n",
       "      <td>3</td>\n",
       "      <td>0.865427</td>\n",
       "      <td>0.792846</td>\n",
       "      <td>0.824465</td>\n",
       "      <td>Festivo_COL,Festivo_NYSE,Next_Day,Subasta,PFB_...</td>\n",
       "    </tr>\n",
       "    <tr>\n",
       "      <th>76</th>\n",
       "      <td>5</td>\n",
       "      <td>1</td>\n",
       "      <td>0.871251</td>\n",
       "      <td>0.780224</td>\n",
       "      <td>0.818345</td>\n",
       "      <td>Festivo_COL,Festivo_NYSE,Next_Day,Subasta,PFB_...</td>\n",
       "    </tr>\n",
       "    <tr>\n",
       "      <th>92</th>\n",
       "      <td>4</td>\n",
       "      <td>1</td>\n",
       "      <td>0.869844</td>\n",
       "      <td>0.769593</td>\n",
       "      <td>0.810595</td>\n",
       "      <td>Festivo_COL,Festivo_NYSE,Next_Day,Subasta,PFB_...</td>\n",
       "    </tr>\n",
       "    <tr>\n",
       "      <th>62</th>\n",
       "      <td>1</td>\n",
       "      <td>5</td>\n",
       "      <td>0.921372</td>\n",
       "      <td>0.895768</td>\n",
       "      <td>0.908103</td>\n",
       "      <td>Festivo_COL,Festivo_NYSE,Next_Day,Subasta,PFB_...</td>\n",
       "    </tr>\n",
       "    <tr>\n",
       "      <th>39</th>\n",
       "      <td>5</td>\n",
       "      <td>10</td>\n",
       "      <td>0.858546</td>\n",
       "      <td>0.765780</td>\n",
       "      <td>0.804134</td>\n",
       "      <td>Festivo_COL,Festivo_NYSE,Next_Day,Subasta,PFB_...</td>\n",
       "    </tr>\n",
       "    <tr>\n",
       "      <th>14</th>\n",
       "      <td>4</td>\n",
       "      <td>5</td>\n",
       "      <td>0.870935</td>\n",
       "      <td>0.791364</td>\n",
       "      <td>0.825581</td>\n",
       "      <td>Festivo_COL,Festivo_NYSE,Next_Day,Subasta,PFB_...</td>\n",
       "    </tr>\n",
       "    <tr>\n",
       "      <th>94</th>\n",
       "      <td>4</td>\n",
       "      <td>5</td>\n",
       "      <td>0.872105</td>\n",
       "      <td>0.779038</td>\n",
       "      <td>0.817844</td>\n",
       "      <td>Festivo_COL,Festivo_NYSE,Next_Day,Subasta,PFB_...</td>\n",
       "    </tr>\n",
       "    <tr>\n",
       "      <th>69</th>\n",
       "      <td>3</td>\n",
       "      <td>3</td>\n",
       "      <td>0.880404</td>\n",
       "      <td>0.826137</td>\n",
       "      <td>0.850838</td>\n",
       "      <td>Festivo_COL,Festivo_NYSE,Next_Day,Subasta,PFB_...</td>\n",
       "    </tr>\n",
       "  </tbody>\n",
       "</table>\n",
       "</div>"
      ],
      "text/plain": [
       "   Horizonte Arb Rezagos precios  precision    recall        f1  \\\n",
       "55             4              10   0.871222  0.793862  0.827299   \n",
       "93             4               3   0.855505  0.777938  0.811170   \n",
       "53             4               3   0.865427  0.792846  0.824465   \n",
       "76             5               1   0.871251  0.780224  0.818345   \n",
       "92             4               1   0.869844  0.769593  0.810595   \n",
       "62             1               5   0.921372  0.895768  0.908103   \n",
       "39             5              10   0.858546  0.765780  0.804134   \n",
       "14             4               5   0.870935  0.791364  0.825581   \n",
       "94             4               5   0.872105  0.779038  0.817844   \n",
       "69             3               3   0.880404  0.826137  0.850838   \n",
       "\n",
       "                                             cols_str  \n",
       "55  Festivo_COL,Festivo_NYSE,Next_Day,Subasta,PFB_...  \n",
       "93  Festivo_COL,Festivo_NYSE,Next_Day,Subasta,PFB_...  \n",
       "53  Festivo_COL,Festivo_NYSE,Next_Day,Subasta,PFB_...  \n",
       "76  Festivo_COL,Festivo_NYSE,Next_Day,Subasta,PFB_...  \n",
       "92  Festivo_COL,Festivo_NYSE,Next_Day,Subasta,PFB_...  \n",
       "62  Festivo_COL,Festivo_NYSE,Next_Day,Subasta,PFB_...  \n",
       "39  Festivo_COL,Festivo_NYSE,Next_Day,Subasta,PFB_...  \n",
       "14  Festivo_COL,Festivo_NYSE,Next_Day,Subasta,PFB_...  \n",
       "94  Festivo_COL,Festivo_NYSE,Next_Day,Subasta,PFB_...  \n",
       "69  Festivo_COL,Festivo_NYSE,Next_Day,Subasta,PFB_...  "
      ]
     },
     "execution_count": 21,
     "metadata": {},
     "output_type": "execute_result"
    }
   ],
   "source": [
    "resultados = pd.DataFrame(resultados_globales, columns = ['Horizonte Arb', 'Rezagos precios',\n",
    "                                                          'precision', 'recall', 'f1','cols_str'])\n",
    "resultados.sample(10)"
   ]
  },
  {
   "cell_type": "code",
   "execution_count": 22,
   "id": "3c589afa",
   "metadata": {},
   "outputs": [],
   "source": [
    "table_precision = pd.pivot_table(resultados, values='precision', index=['Horizonte Arb'],\n",
    "                    columns=['Rezagos precios'], aggfunc=np.mean)\n",
    "table_precision=table_precision[[\"1\",\"3\",\"5\",\"10\"]]          \n",
    "table_precision.index = table_precision.index.astype(\"int\")                \n",
    "table_precision.sort_index(ascending=True, inplace=True)\n",
    "\n",
    "table_precision2 = pd.pivot_table(resultados, values='precision', index=['Horizonte Arb'],\n",
    "                    columns=['Rezagos precios'], aggfunc=np.std)\n",
    "table_precision2=table_precision2[[\"1\",\"3\",\"5\",\"10\"]]         \n",
    "table_precision2.index = table_precision2.index.astype(\"int\")                \n",
    "table_precision2.sort_index(ascending=True, inplace=True)"
   ]
  },
  {
   "cell_type": "code",
   "execution_count": 23,
   "id": "277adbd5",
   "metadata": {},
   "outputs": [
    {
     "data": {
      "image/png": "[encoded data removed]",
      "text/plain": [
       "<Figure size 432x288 with 2 Axes>"
      ]
     },
     "metadata": {
      "needs_background": "light"
     },
     "output_type": "display_data"
    }
   ],
   "source": [
    "sns.heatmap(table_precision*100, annot=True, linewidth=.5, cmap='Blues')\n",
    "plt.savefig('Resultados svm/Resultados 2/Precision.png')"
   ]
  },
  {
   "cell_type": "code",
   "execution_count": 24,
   "id": "25b23fbc",
   "metadata": {},
   "outputs": [
    {
     "data": {
      "image/png": "[encoded data removed]",
      "text/plain": [
       "<Figure size 432x288 with 2 Axes>"
      ]
     },
     "metadata": {
      "needs_background": "light"
     },
     "output_type": "display_data"
    }
   ],
   "source": [
    "sns.heatmap(table_precision2*100,  linewidth=.5, cmap='Reds')\n",
    "plt.savefig('Resultados svm/Resultados 2/Precision2.png')"
   ]
  },
  {
   "cell_type": "code",
   "execution_count": 25,
   "id": "09596356",
   "metadata": {},
   "outputs": [],
   "source": [
    "table_recall = pd.pivot_table(resultados, values='recall', index=['Horizonte Arb'],\n",
    "                    columns=['Rezagos precios'], aggfunc=np.mean)\n",
    "table_recall=table_recall[[\"1\",\"3\",\"5\",\"10\"]]         \n",
    "table_recall.index = table_recall.index.astype(\"int\")                \n",
    "table_recall.sort_index(ascending=True, inplace=True)\n",
    "\n",
    "table_recall2 = pd.pivot_table(resultados, values='recall', index=['Horizonte Arb'],\n",
    "                    columns=['Rezagos precios'], aggfunc=np.std)\n",
    "table_recall2=table_recall2[[\"1\",\"3\",\"5\",\"10\"]]        \n",
    "table_recall2.index = table_recall2.index.astype(\"int\")                \n",
    "table_recall2.sort_index(ascending=True, inplace=True)"
   ]
  },
  {
   "cell_type": "code",
   "execution_count": 26,
   "id": "e3aa417c",
   "metadata": {},
   "outputs": [
    {
     "data": {
      "image/png": "[encoded data removed]",
      "text/plain": [
       "<Figure size 432x288 with 2 Axes>"
      ]
     },
     "metadata": {
      "needs_background": "light"
     },
     "output_type": "display_data"
    }
   ],
   "source": [
    "sns.heatmap(table_recall*100, annot=True, linewidth=.5, cmap='Blues')\n",
    "plt.savefig('Resultados svm/Resultados 2/Recall.png')"
   ]
  },
  {
   "cell_type": "code",
   "execution_count": 27,
   "id": "06360f40",
   "metadata": {},
   "outputs": [
    {
     "data": {
      "image/png": "[encoded data removed]",
      "text/plain": [
       "<Figure size 432x288 with 2 Axes>"
      ]
     },
     "metadata": {
      "needs_background": "light"
     },
     "output_type": "display_data"
    }
   ],
   "source": [
    "sns.heatmap(table_recall2*100,  linewidth=.5, cmap='Reds')\n",
    "plt.savefig('Resultados svm/Resultados 2/Recall2.png')"
   ]
  },
  {
   "cell_type": "code",
   "execution_count": 28,
   "id": "5230ff89",
   "metadata": {},
   "outputs": [],
   "source": [
    "table_f1 = pd.pivot_table(resultados, values='f1', index=['Horizonte Arb'],\n",
    "                    columns=['Rezagos precios'], aggfunc=np.mean)\n",
    "table_f1=table_f1[[\"1\",\"3\",\"5\",\"10\"]]         \n",
    "table_f1.index = table_f1.index.astype(\"int\")                \n",
    "table_f1.sort_index(ascending=True, inplace=True)\n",
    "\n",
    "table_f12 = pd.pivot_table(resultados, values='f1', index=['Horizonte Arb'],\n",
    "                    columns=['Rezagos precios'], aggfunc=np.std)\n",
    "table_f12=table_f12[[\"1\",\"3\",\"5\",\"10\"]]        \n",
    "table_f12.index = table_f12.index.astype(\"int\")                \n",
    "table_f12.sort_index(ascending=True, inplace=True)"
   ]
  },
  {
   "cell_type": "code",
   "execution_count": 29,
   "id": "a1486e3b",
   "metadata": {},
   "outputs": [
    {
     "data": {
      "image/png": "[encoded data removed]",
      "text/plain": [
       "<Figure size 432x288 with 2 Axes>"
      ]
     },
     "metadata": {
      "needs_background": "light"
     },
     "output_type": "display_data"
    }
   ],
   "source": [
    "sns.heatmap(table_f1*100, annot=True, linewidth=.5, cmap='Blues')\n",
    "plt.savefig('Resultados svm/Resultados 2/F1.png')"
   ]
  },
  {
   "cell_type": "code",
   "execution_count": 30,
   "id": "30aaa9e2",
   "metadata": {},
   "outputs": [
    {
     "data": {
      "image/png": "[encoded data removed]",
      "text/plain": [
       "<Figure size 432x288 with 2 Axes>"
      ]
     },
     "metadata": {
      "needs_background": "light"
     },
     "output_type": "display_data"
    }
   ],
   "source": [
    "sns.heatmap(table_f12*100,  linewidth=.5, cmap='Reds')\n",
    "plt.savefig('Resultados svm/Resultados 2/F12.png')"
   ]
  },
  {
   "cell_type": "code",
   "execution_count": 31,
   "id": "6db92960",
   "metadata": {},
   "outputs": [],
   "source": [
    "with pd.ExcelWriter('Resultados svm/Resultados 2/Compra Ex - Venta Lo.xlsx') as writer:\n",
    "    resultados.to_excel(writer, sheet_name='Resultados generales', index=False)\n",
    "    \n",
    "    table_precision.to_excel(writer, sheet_name='Media precision', index=True)\n",
    "    table_precision2.to_excel(writer, sheet_name='STD precision', index=True)\n",
    "    \n",
    "    table_recall.to_excel(writer, sheet_name='Media recall', index=True)\n",
    "    table_recall2.to_excel(writer, sheet_name='STD recall', index=True)\n",
    "    \n",
    "    table_f1.to_excel(writer, sheet_name='Media f1', index=True)\n",
    "    table_f12.to_excel(writer, sheet_name='STD f1', index=True)"
   ]
  },
  {
   "cell_type": "markdown",
   "id": "b8483924",
   "metadata": {},
   "source": [
    "## 3. Predicción: Compra Local - Venta Extranjero"
   ]
  },
  {
   "cell_type": "code",
   "execution_count": 32,
   "id": "14f8a061",
   "metadata": {},
   "outputs": [],
   "source": [
    "#Columnas con información de mercado\n",
    "model_cols=[\"Festivo_COL\", \"Festivo_NYSE\", \"Next_Day\", \"Subasta\", \"PFB_ABIERTO\",\n",
    "            \"CIB_ABIERTO\", \"CIB_close\", \"COP_close\",\"PFB_close\", \"Arbitraje_BL_SE\"]"
   ]
  },
  {
   "cell_type": "code",
   "execution_count": 33,
   "id": "5ee29c6b",
   "metadata": {},
   "outputs": [],
   "source": [
    "#Desplazamiento de la columna de arbitraje en n minutos (1 a 10 minutos) y rezagos de precios de hasta 10 observaciones\n",
    "df_BlSe=df.copy()\n",
    "for i in range(1,11):\n",
    "    col=\"Target_arb \"+str(i)\n",
    "    col2=\"COP_close - \"+str(i)\n",
    "    col3=\"CIB_close - \"+str(i)\n",
    "    col4=\"PFB_close - \"+str(i)\n",
    "    col5=\"Spread_BLSE_close - \"+str(i)\n",
    "    \n",
    "    df_BlSe[col]=df_BeSl[\"Arbitraje_BE_SL\"].shift(-i)\n",
    "    df_BlSe[col2]=df_BeSl[\"COP_close\"].shift(i)\n",
    "    df_BlSe[col3]=df_BeSl[\"CIB_close\"].shift(i)\n",
    "    df_BlSe[col4]=df_BeSl[\"PFB_close\"].shift(i)\n",
    "    df_BlSe[col5]=df_BeSl[\"Spread_BL_SE\"].shift(i)"
   ]
  },
  {
   "cell_type": "code",
   "execution_count": 34,
   "id": "0f55ae37",
   "metadata": {},
   "outputs": [],
   "source": [
    "resultados_globales=[]\n",
    "for state in range(1,6):\n",
    "    for i in range(1,6):\n",
    "        for p in [1, 3, 5 , 10]:\n",
    "\n",
    "            y_col=\"Target_arb \"+str(i)\n",
    "\n",
    "            cols_lags=[]\n",
    "            for k in range(1, p+1):\n",
    "\n",
    "                cols_lags= cols_lags + [x for x in list(df_BlSe.columns) if \"close - \"+str(k) in x]\n",
    "\n",
    "            if p!=10:\n",
    "                cols_lags=[x for x in cols_lags if \"close - 10\" not in x]\n",
    "\n",
    "            new_model_cols=model_cols.copy()\n",
    "            new_model_cols.append(y_col)\n",
    "\n",
    "            new_model_cols=new_model_cols+cols_lags\n",
    "\n",
    "            model_data=df_BlSe[new_model_cols]\n",
    "            model_data.dropna(inplace=True)\n",
    "            X=model_data.drop(y_col, axis=1)\n",
    "            Y=model_data[y_col]\n",
    "            x_train, x_test, y_train, y_test = train_test_split(X, \n",
    "                                                           Y,random_state=state,\n",
    "                                                           shuffle=True, stratify=Y)\n",
    "\n",
    "            x_train_scaled=scale(x_train)\n",
    "            x_test_scaled=scale(x_test)\n",
    "            \n",
    "            svm=SVC(random_state=1)\n",
    "            svm.fit(x_train_scaled, y_train)\n",
    "            y_pred = svm.predict(x_test_scaled)\n",
    "            \n",
    "            presicion=precision_score(y_test, y_pred, average=\"macro\")\n",
    "            recall=recall_score(y_test, y_pred, average=\"macro\")\n",
    "            f1=f1_score(y_test, y_pred, average=\"macro\")\n",
    "\n",
    "            cols_str=str()\n",
    "            for w in new_model_cols:\n",
    "                cols_str=cols_str+w+\",\"\n",
    "\n",
    "            resultados_globales.append([str(i),str(p), presicion, recall, f1, cols_str,])"
   ]
  },
  {
   "cell_type": "code",
   "execution_count": 35,
   "id": "7adc66a5",
   "metadata": {},
   "outputs": [
    {
     "data": {
      "text/html": [
       "<div>\n",
       "<style scoped>\n",
       "    .dataframe tbody tr th:only-of-type {\n",
       "        vertical-align: middle;\n",
       "    }\n",
       "\n",
       "    .dataframe tbody tr th {\n",
       "        vertical-align: top;\n",
       "    }\n",
       "\n",
       "    .dataframe thead th {\n",
       "        text-align: right;\n",
       "    }\n",
       "</style>\n",
       "<table border=\"1\" class=\"dataframe\">\n",
       "  <thead>\n",
       "    <tr style=\"text-align: right;\">\n",
       "      <th></th>\n",
       "      <th>Horizonte Arb</th>\n",
       "      <th>Rezagos precios</th>\n",
       "      <th>precision</th>\n",
       "      <th>recall</th>\n",
       "      <th>f1</th>\n",
       "      <th>cols_str</th>\n",
       "    </tr>\n",
       "  </thead>\n",
       "  <tbody>\n",
       "    <tr>\n",
       "      <th>95</th>\n",
       "      <td>4</td>\n",
       "      <td>10</td>\n",
       "      <td>0.938198</td>\n",
       "      <td>0.629522</td>\n",
       "      <td>0.690789</td>\n",
       "      <td>Festivo_COL,Festivo_NYSE,Next_Day,Subasta,PFB_...</td>\n",
       "    </tr>\n",
       "    <tr>\n",
       "      <th>30</th>\n",
       "      <td>3</td>\n",
       "      <td>5</td>\n",
       "      <td>0.934969</td>\n",
       "      <td>0.637654</td>\n",
       "      <td>0.700501</td>\n",
       "      <td>Festivo_COL,Festivo_NYSE,Next_Day,Subasta,PFB_...</td>\n",
       "    </tr>\n",
       "    <tr>\n",
       "      <th>17</th>\n",
       "      <td>5</td>\n",
       "      <td>3</td>\n",
       "      <td>0.926153</td>\n",
       "      <td>0.634308</td>\n",
       "      <td>0.695640</td>\n",
       "      <td>Festivo_COL,Festivo_NYSE,Next_Day,Subasta,PFB_...</td>\n",
       "    </tr>\n",
       "    <tr>\n",
       "      <th>12</th>\n",
       "      <td>4</td>\n",
       "      <td>1</td>\n",
       "      <td>0.927394</td>\n",
       "      <td>0.637485</td>\n",
       "      <td>0.699590</td>\n",
       "      <td>Festivo_COL,Festivo_NYSE,Next_Day,Subasta,PFB_...</td>\n",
       "    </tr>\n",
       "    <tr>\n",
       "      <th>24</th>\n",
       "      <td>2</td>\n",
       "      <td>1</td>\n",
       "      <td>0.935185</td>\n",
       "      <td>0.638290</td>\n",
       "      <td>0.701289</td>\n",
       "      <td>Festivo_COL,Festivo_NYSE,Next_Day,Subasta,PFB_...</td>\n",
       "    </tr>\n",
       "    <tr>\n",
       "      <th>25</th>\n",
       "      <td>2</td>\n",
       "      <td>3</td>\n",
       "      <td>0.926768</td>\n",
       "      <td>0.640619</td>\n",
       "      <td>0.703273</td>\n",
       "      <td>Festivo_COL,Festivo_NYSE,Next_Day,Subasta,PFB_...</td>\n",
       "    </tr>\n",
       "    <tr>\n",
       "      <th>52</th>\n",
       "      <td>4</td>\n",
       "      <td>1</td>\n",
       "      <td>0.921296</td>\n",
       "      <td>0.627277</td>\n",
       "      <td>0.686601</td>\n",
       "      <td>Festivo_COL,Festivo_NYSE,Next_Day,Subasta,PFB_...</td>\n",
       "    </tr>\n",
       "    <tr>\n",
       "      <th>63</th>\n",
       "      <td>1</td>\n",
       "      <td>10</td>\n",
       "      <td>0.918570</td>\n",
       "      <td>0.646083</td>\n",
       "      <td>0.708819</td>\n",
       "      <td>Festivo_COL,Festivo_NYSE,Next_Day,Subasta,PFB_...</td>\n",
       "    </tr>\n",
       "    <tr>\n",
       "      <th>35</th>\n",
       "      <td>4</td>\n",
       "      <td>10</td>\n",
       "      <td>0.931145</td>\n",
       "      <td>0.637569</td>\n",
       "      <td>0.700042</td>\n",
       "      <td>Festivo_COL,Festivo_NYSE,Next_Day,Subasta,PFB_...</td>\n",
       "    </tr>\n",
       "    <tr>\n",
       "      <th>18</th>\n",
       "      <td>5</td>\n",
       "      <td>5</td>\n",
       "      <td>0.920528</td>\n",
       "      <td>0.634181</td>\n",
       "      <td>0.694968</td>\n",
       "      <td>Festivo_COL,Festivo_NYSE,Next_Day,Subasta,PFB_...</td>\n",
       "    </tr>\n",
       "  </tbody>\n",
       "</table>\n",
       "</div>"
      ],
      "text/plain": [
       "   Horizonte Arb Rezagos precios  precision    recall        f1  \\\n",
       "95             4              10   0.938198  0.629522  0.690789   \n",
       "30             3               5   0.934969  0.637654  0.700501   \n",
       "17             5               3   0.926153  0.634308  0.695640   \n",
       "12             4               1   0.927394  0.637485  0.699590   \n",
       "24             2               1   0.935185  0.638290  0.701289   \n",
       "25             2               3   0.926768  0.640619  0.703273   \n",
       "52             4               1   0.921296  0.627277  0.686601   \n",
       "63             1              10   0.918570  0.646083  0.708819   \n",
       "35             4              10   0.931145  0.637569  0.700042   \n",
       "18             5               5   0.920528  0.634181  0.694968   \n",
       "\n",
       "                                             cols_str  \n",
       "95  Festivo_COL,Festivo_NYSE,Next_Day,Subasta,PFB_...  \n",
       "30  Festivo_COL,Festivo_NYSE,Next_Day,Subasta,PFB_...  \n",
       "17  Festivo_COL,Festivo_NYSE,Next_Day,Subasta,PFB_...  \n",
       "12  Festivo_COL,Festivo_NYSE,Next_Day,Subasta,PFB_...  \n",
       "24  Festivo_COL,Festivo_NYSE,Next_Day,Subasta,PFB_...  \n",
       "25  Festivo_COL,Festivo_NYSE,Next_Day,Subasta,PFB_...  \n",
       "52  Festivo_COL,Festivo_NYSE,Next_Day,Subasta,PFB_...  \n",
       "63  Festivo_COL,Festivo_NYSE,Next_Day,Subasta,PFB_...  \n",
       "35  Festivo_COL,Festivo_NYSE,Next_Day,Subasta,PFB_...  \n",
       "18  Festivo_COL,Festivo_NYSE,Next_Day,Subasta,PFB_...  "
      ]
     },
     "execution_count": 35,
     "metadata": {},
     "output_type": "execute_result"
    }
   ],
   "source": [
    "resultados = pd.DataFrame(resultados_globales, columns = ['Horizonte Arb', 'Rezagos precios',\n",
    "                                                          'precision', 'recall', 'f1','cols_str'])\n",
    "resultados.sample(10)"
   ]
  },
  {
   "cell_type": "code",
   "execution_count": 36,
   "id": "7489746b",
   "metadata": {},
   "outputs": [],
   "source": [
    "table_precision = pd.pivot_table(resultados, values='precision', index=['Horizonte Arb'],\n",
    "                    columns=['Rezagos precios'], aggfunc=np.mean)\n",
    "table_precision=table_precision[[\"1\",\"3\",\"5\",\"10\"]]        \n",
    "table_precision.index = table_precision.index.astype(\"int\")                \n",
    "table_precision.sort_index(ascending=True, inplace=True)\n",
    "\n",
    "table_precision2 = pd.pivot_table(resultados, values='precision', index=['Horizonte Arb'],\n",
    "                    columns=['Rezagos precios'], aggfunc=np.std)\n",
    "table_precision2=table_precision2[[\"1\",\"3\",\"5\",\"10\"]]         \n",
    "table_precision2.index = table_precision2.index.astype(\"int\")                \n",
    "table_precision2.sort_index(ascending=True, inplace=True)"
   ]
  },
  {
   "cell_type": "code",
   "execution_count": 37,
   "id": "e853da72",
   "metadata": {},
   "outputs": [
    {
     "data": {
      "image/png": "[encoded data removed]",
      "text/plain": [
       "<Figure size 432x288 with 2 Axes>"
      ]
     },
     "metadata": {
      "needs_background": "light"
     },
     "output_type": "display_data"
    }
   ],
   "source": [
    "sns.heatmap(table_precision*100, annot=True, linewidth=.5, cmap='Blues')\n",
    "plt.savefig('Resultados svm/Resultados 3/Precision.png')"
   ]
  },
  {
   "cell_type": "code",
   "execution_count": 38,
   "id": "6ff9ab52",
   "metadata": {},
   "outputs": [
    {
     "data": {
      "image/png": "[encoded data removed]",
      "text/plain": [
       "<Figure size 432x288 with 2 Axes>"
      ]
     },
     "metadata": {
      "needs_background": "light"
     },
     "output_type": "display_data"
    }
   ],
   "source": [
    "sns.heatmap(table_precision2*100,  linewidth=.5, cmap='Reds')\n",
    "plt.savefig('Resultados svm/Resultados 3/Precision2.png')"
   ]
  },
  {
   "cell_type": "code",
   "execution_count": 39,
   "id": "39e3328a",
   "metadata": {},
   "outputs": [],
   "source": [
    "table_recall = pd.pivot_table(resultados, values='recall', index=['Horizonte Arb'],\n",
    "                    columns=['Rezagos precios'], aggfunc=np.mean)\n",
    "table_recall=table_recall[[\"1\",\"3\",\"5\",\"10\"]]         \n",
    "table_recall.index = table_recall.index.astype(\"int\")                \n",
    "table_recall.sort_index(ascending=True, inplace=True)\n",
    "\n",
    "table_recall2 = pd.pivot_table(resultados, values='recall', index=['Horizonte Arb'],\n",
    "                    columns=['Rezagos precios'], aggfunc=np.std)\n",
    "table_recall2=table_recall2[[\"1\",\"3\",\"5\",\"10\"]]         \n",
    "table_recall2.index = table_recall2.index.astype(\"int\")                \n",
    "table_recall2.sort_index(ascending=True, inplace=True)"
   ]
  },
  {
   "cell_type": "code",
   "execution_count": 40,
   "id": "2ef9aa43",
   "metadata": {},
   "outputs": [
    {
     "data": {
      "image/png": "[encoded data removed]",
      "text/plain": [
       "<Figure size 432x288 with 2 Axes>"
      ]
     },
     "metadata": {
      "needs_background": "light"
     },
     "output_type": "display_data"
    }
   ],
   "source": [
    "sns.heatmap(table_recall*100, annot=True, linewidth=.5, cmap='Blues')\n",
    "plt.savefig('Resultados svm/Resultados 3/Recall.png')"
   ]
  },
  {
   "cell_type": "code",
   "execution_count": 41,
   "id": "a276ea5a",
   "metadata": {},
   "outputs": [
    {
     "data": {
      "image/png": "[encoded data removed]",
      "text/plain": [
       "<Figure size 432x288 with 2 Axes>"
      ]
     },
     "metadata": {
      "needs_background": "light"
     },
     "output_type": "display_data"
    }
   ],
   "source": [
    "sns.heatmap(table_recall2*100,  linewidth=.5, cmap='Reds')\n",
    "plt.savefig('Resultados svm/Resultados 3/Recall2.png')"
   ]
  },
  {
   "cell_type": "code",
   "execution_count": 42,
   "id": "45978074",
   "metadata": {},
   "outputs": [],
   "source": [
    "table_f1 = pd.pivot_table(resultados, values='f1', index=['Horizonte Arb'],\n",
    "                    columns=['Rezagos precios'], aggfunc=np.mean)\n",
    "table_f1=table_f1[[\"1\",\"3\",\"5\",\"10\"]]          \n",
    "table_f1.index = table_f1.index.astype(\"int\")                \n",
    "table_f1.sort_index(ascending=True, inplace=True)\n",
    "\n",
    "table_f12 = pd.pivot_table(resultados, values='f1', index=['Horizonte Arb'],\n",
    "                    columns=['Rezagos precios'], aggfunc=np.std)\n",
    "table_f12=table_f12[[\"1\",\"3\",\"5\",\"10\"]]        \n",
    "table_f12.index = table_f12.index.astype(\"int\")                \n",
    "table_f12.sort_index(ascending=True, inplace=True)"
   ]
  },
  {
   "cell_type": "code",
   "execution_count": 43,
   "id": "372992f6",
   "metadata": {},
   "outputs": [
    {
     "data": {
      "image/png": "[encoded data removed]",
      "text/plain": [
       "<Figure size 432x288 with 2 Axes>"
      ]
     },
     "metadata": {
      "needs_background": "light"
     },
     "output_type": "display_data"
    }
   ],
   "source": [
    "sns.heatmap(table_f1*100, annot=True, linewidth=.5, cmap='Blues')\n",
    "plt.savefig('Resultados svm/Resultados 3/F1.png')"
   ]
  },
  {
   "cell_type": "code",
   "execution_count": 44,
   "id": "abc34afc",
   "metadata": {},
   "outputs": [
    {
     "data": {
      "image/png": "[encoded data removed]",
      "text/plain": [
       "<Figure size 432x288 with 2 Axes>"
      ]
     },
     "metadata": {
      "needs_background": "light"
     },
     "output_type": "display_data"
    }
   ],
   "source": [
    "sns.heatmap(table_f12*100,  linewidth=.5, cmap='Reds')\n",
    "plt.savefig('Resultados svm/Resultados 3/F12.png')"
   ]
  },
  {
   "cell_type": "code",
   "execution_count": 45,
   "id": "4ca358fe",
   "metadata": {},
   "outputs": [],
   "source": [
    "with pd.ExcelWriter('Resultados svm/Resultados 3/Compra Lo - Venta Ex.xlsx') as writer:\n",
    "    resultados.to_excel(writer, sheet_name='Resultados generales', index=False)\n",
    "    \n",
    "    table_precision.to_excel(writer, sheet_name='Media precision', index=True)\n",
    "    table_precision2.to_excel(writer, sheet_name='STD precision', index=True)\n",
    "    \n",
    "    table_recall.to_excel(writer, sheet_name='Media recall', index=True)\n",
    "    table_recall2.to_excel(writer, sheet_name='STD recall', index=True)\n",
    "    \n",
    "    table_f1.to_excel(writer, sheet_name='Media f1', index=True)\n",
    "    table_f12.to_excel(writer, sheet_name='STD f1', index=True)"
   ]
  },
  {
   "cell_type": "markdown",
   "id": "5248921c",
   "metadata": {},
   "source": [
    "## 4. Predicción: Multiclase"
   ]
  },
  {
   "cell_type": "code",
   "execution_count": 46,
   "id": "954c82bc",
   "metadata": {},
   "outputs": [],
   "source": [
    "#Columnas con información de mercado\n",
    "model_cols=[\"Festivo_COL\", \"Festivo_NYSE\", \"Next_Day\", \"Subasta\", \"PFB_ABIERTO\",\n",
    "            \"CIB_ABIERTO\", \"CIB_close\", \"COP_close\",\"PFB_close\", \"Spread_BE_SL\",\"Spread_BL_SE\", \"Arbitraje_Mul\"]"
   ]
  },
  {
   "cell_type": "code",
   "execution_count": 47,
   "id": "4b44e8ec",
   "metadata": {},
   "outputs": [],
   "source": [
    "#Desplazamiento de la columna de arbitraje en n minutos (1 a 10 minutos) y rezagos de precios de hasta 10 observaciones\n",
    "df_mul=df.copy()\n",
    "for i in range(1,11):\n",
    "    col=\"Target_arb \"+str(i)\n",
    "    col2=\"COP_close - \"+str(i)\n",
    "    col3=\"CIB_close - \"+str(i)\n",
    "    col4=\"PFB_close - \"+str(i)\n",
    "    col5=\"Spread_BLSE_close - \"+str(i)\n",
    "    col6=\"Spread_BESL_close - \"+str(i)\n",
    "    \n",
    "    df_mul[col]=df_mul[\"Arbitraje_Mul\"].shift(-i)\n",
    "    df_mul[col2]=df_mul[\"COP_close\"].shift(i)\n",
    "    df_mul[col3]=df_mul[\"CIB_close\"].shift(i)\n",
    "    df_mul[col4]=df_mul[\"PFB_close\"].shift(i)\n",
    "    df_mul[col5]=df_mul[\"Spread_BL_SE\"].shift(i)\n",
    "    df_mul[col6]=df_mul[\"Spread_BE_SL\"].shift(i)"
   ]
  },
  {
   "cell_type": "code",
   "execution_count": 48,
   "id": "f181de61",
   "metadata": {},
   "outputs": [],
   "source": [
    "resultados_globales=[]\n",
    "for state in range(1,6):\n",
    "    for i in range(1,6):\n",
    "        for p in [1, 3, 5, 10]:\n",
    "\n",
    "            y_col=\"Target_arb \"+str(i)\n",
    "\n",
    "            cols_lags=[]\n",
    "            for k in range(1, p+1):\n",
    "\n",
    "                cols_lags= cols_lags + [x for x in list(df_mul.columns) if \"close - \"+str(k) in x]\n",
    "\n",
    "            if p!=10:\n",
    "                cols_lags=[x for x in cols_lags if \"close - 10\" not in x]\n",
    "\n",
    "            new_model_cols=model_cols.copy()\n",
    "            new_model_cols.append(y_col)\n",
    "\n",
    "            new_model_cols=new_model_cols+cols_lags\n",
    "\n",
    "            model_data=df_mul[new_model_cols]\n",
    "            model_data.dropna(inplace=True)\n",
    "            X=model_data.drop(y_col, axis=1)\n",
    "            Y=model_data[y_col]\n",
    "            x_train, x_test, y_train, y_test = train_test_split(X, \n",
    "                                                           Y,random_state=state,\n",
    "                                                           shuffle=True, stratify=Y)\n",
    "\n",
    "            x_train_scaled=scale(x_train)\n",
    "            x_test_scaled=scale(x_test)\n",
    "            \n",
    "            svm=SVC(random_state=1)\n",
    "            svm.fit(x_train_scaled, y_train)\n",
    "            y_pred = svm.predict(x_test_scaled)\n",
    "            \n",
    "            presicion=precision_score(y_test, y_pred, average=\"macro\")\n",
    "            recall=recall_score(y_test, y_pred, average=\"macro\")\n",
    "            f1=f1_score(y_test, y_pred, average=\"macro\")\n",
    "\n",
    "            cols_str=str()\n",
    "            for w in new_model_cols:\n",
    "                cols_str=cols_str+w+\",\"\n",
    "\n",
    "            resultados_globales.append([str(i),str(p), presicion, recall, f1, cols_str,])"
   ]
  },
  {
   "cell_type": "code",
   "execution_count": 49,
   "id": "0c3f64db",
   "metadata": {},
   "outputs": [
    {
     "data": {
      "text/html": [
       "<div>\n",
       "<style scoped>\n",
       "    .dataframe tbody tr th:only-of-type {\n",
       "        vertical-align: middle;\n",
       "    }\n",
       "\n",
       "    .dataframe tbody tr th {\n",
       "        vertical-align: top;\n",
       "    }\n",
       "\n",
       "    .dataframe thead th {\n",
       "        text-align: right;\n",
       "    }\n",
       "</style>\n",
       "<table border=\"1\" class=\"dataframe\">\n",
       "  <thead>\n",
       "    <tr style=\"text-align: right;\">\n",
       "      <th></th>\n",
       "      <th>Horizonte Arb</th>\n",
       "      <th>Rezagos precios</th>\n",
       "      <th>precision</th>\n",
       "      <th>recall</th>\n",
       "      <th>f1</th>\n",
       "      <th>cols_str</th>\n",
       "    </tr>\n",
       "  </thead>\n",
       "  <tbody>\n",
       "    <tr>\n",
       "      <th>53</th>\n",
       "      <td>4</td>\n",
       "      <td>3</td>\n",
       "      <td>0.831496</td>\n",
       "      <td>0.751709</td>\n",
       "      <td>0.787022</td>\n",
       "      <td>Festivo_COL,Festivo_NYSE,Next_Day,Subasta,PFB_...</td>\n",
       "    </tr>\n",
       "    <tr>\n",
       "      <th>91</th>\n",
       "      <td>3</td>\n",
       "      <td>10</td>\n",
       "      <td>0.866315</td>\n",
       "      <td>0.725842</td>\n",
       "      <td>0.779161</td>\n",
       "      <td>Festivo_COL,Festivo_NYSE,Next_Day,Subasta,PFB_...</td>\n",
       "    </tr>\n",
       "    <tr>\n",
       "      <th>60</th>\n",
       "      <td>1</td>\n",
       "      <td>1</td>\n",
       "      <td>0.873851</td>\n",
       "      <td>0.881482</td>\n",
       "      <td>0.877630</td>\n",
       "      <td>Festivo_COL,Festivo_NYSE,Next_Day,Subasta,PFB_...</td>\n",
       "    </tr>\n",
       "    <tr>\n",
       "      <th>57</th>\n",
       "      <td>5</td>\n",
       "      <td>3</td>\n",
       "      <td>0.827636</td>\n",
       "      <td>0.741812</td>\n",
       "      <td>0.779315</td>\n",
       "      <td>Festivo_COL,Festivo_NYSE,Next_Day,Subasta,PFB_...</td>\n",
       "    </tr>\n",
       "    <tr>\n",
       "      <th>54</th>\n",
       "      <td>4</td>\n",
       "      <td>5</td>\n",
       "      <td>0.836357</td>\n",
       "      <td>0.731626</td>\n",
       "      <td>0.775544</td>\n",
       "      <td>Festivo_COL,Festivo_NYSE,Next_Day,Subasta,PFB_...</td>\n",
       "    </tr>\n",
       "    <tr>\n",
       "      <th>39</th>\n",
       "      <td>5</td>\n",
       "      <td>10</td>\n",
       "      <td>0.852393</td>\n",
       "      <td>0.692229</td>\n",
       "      <td>0.749180</td>\n",
       "      <td>Festivo_COL,Festivo_NYSE,Next_Day,Subasta,PFB_...</td>\n",
       "    </tr>\n",
       "    <tr>\n",
       "      <th>43</th>\n",
       "      <td>1</td>\n",
       "      <td>10</td>\n",
       "      <td>0.883657</td>\n",
       "      <td>0.856981</td>\n",
       "      <td>0.869726</td>\n",
       "      <td>Festivo_COL,Festivo_NYSE,Next_Day,Subasta,PFB_...</td>\n",
       "    </tr>\n",
       "    <tr>\n",
       "      <th>16</th>\n",
       "      <td>5</td>\n",
       "      <td>1</td>\n",
       "      <td>0.824348</td>\n",
       "      <td>0.732398</td>\n",
       "      <td>0.772049</td>\n",
       "      <td>Festivo_COL,Festivo_NYSE,Next_Day,Subasta,PFB_...</td>\n",
       "    </tr>\n",
       "    <tr>\n",
       "      <th>74</th>\n",
       "      <td>4</td>\n",
       "      <td>5</td>\n",
       "      <td>0.838668</td>\n",
       "      <td>0.702934</td>\n",
       "      <td>0.755363</td>\n",
       "      <td>Festivo_COL,Festivo_NYSE,Next_Day,Subasta,PFB_...</td>\n",
       "    </tr>\n",
       "    <tr>\n",
       "      <th>58</th>\n",
       "      <td>5</td>\n",
       "      <td>5</td>\n",
       "      <td>0.835916</td>\n",
       "      <td>0.723378</td>\n",
       "      <td>0.769665</td>\n",
       "      <td>Festivo_COL,Festivo_NYSE,Next_Day,Subasta,PFB_...</td>\n",
       "    </tr>\n",
       "  </tbody>\n",
       "</table>\n",
       "</div>"
      ],
      "text/plain": [
       "   Horizonte Arb Rezagos precios  precision    recall        f1  \\\n",
       "53             4               3   0.831496  0.751709  0.787022   \n",
       "91             3              10   0.866315  0.725842  0.779161   \n",
       "60             1               1   0.873851  0.881482  0.877630   \n",
       "57             5               3   0.827636  0.741812  0.779315   \n",
       "54             4               5   0.836357  0.731626  0.775544   \n",
       "39             5              10   0.852393  0.692229  0.749180   \n",
       "43             1              10   0.883657  0.856981  0.869726   \n",
       "16             5               1   0.824348  0.732398  0.772049   \n",
       "74             4               5   0.838668  0.702934  0.755363   \n",
       "58             5               5   0.835916  0.723378  0.769665   \n",
       "\n",
       "                                             cols_str  \n",
       "53  Festivo_COL,Festivo_NYSE,Next_Day,Subasta,PFB_...  \n",
       "91  Festivo_COL,Festivo_NYSE,Next_Day,Subasta,PFB_...  \n",
       "60  Festivo_COL,Festivo_NYSE,Next_Day,Subasta,PFB_...  \n",
       "57  Festivo_COL,Festivo_NYSE,Next_Day,Subasta,PFB_...  \n",
       "54  Festivo_COL,Festivo_NYSE,Next_Day,Subasta,PFB_...  \n",
       "39  Festivo_COL,Festivo_NYSE,Next_Day,Subasta,PFB_...  \n",
       "43  Festivo_COL,Festivo_NYSE,Next_Day,Subasta,PFB_...  \n",
       "16  Festivo_COL,Festivo_NYSE,Next_Day,Subasta,PFB_...  \n",
       "74  Festivo_COL,Festivo_NYSE,Next_Day,Subasta,PFB_...  \n",
       "58  Festivo_COL,Festivo_NYSE,Next_Day,Subasta,PFB_...  "
      ]
     },
     "execution_count": 49,
     "metadata": {},
     "output_type": "execute_result"
    }
   ],
   "source": [
    "resultados = pd.DataFrame(resultados_globales, columns = ['Horizonte Arb', 'Rezagos precios',\n",
    "                                                          'precision', 'recall', 'f1','cols_str'])\n",
    "resultados.sample(10)"
   ]
  },
  {
   "cell_type": "code",
   "execution_count": 50,
   "id": "a16bda6d",
   "metadata": {},
   "outputs": [],
   "source": [
    "table_precision = pd.pivot_table(resultados, values='precision', index=['Horizonte Arb'],\n",
    "                    columns=['Rezagos precios'], aggfunc=np.mean)\n",
    "table_precision=table_precision[[\"1\",\"3\",\"5\",\"10\"]]         \n",
    "table_precision.index = table_precision.index.astype(\"int\")                \n",
    "table_precision.sort_index(ascending=True, inplace=True)\n",
    "\n",
    "table_precision2 = pd.pivot_table(resultados, values='precision', index=['Horizonte Arb'],\n",
    "                    columns=['Rezagos precios'], aggfunc=np.std)\n",
    "table_precision2=table_precision2[[\"1\",\"3\",\"5\",\"10\"]]         \n",
    "table_precision2.index = table_precision2.index.astype(\"int\")                \n",
    "table_precision2.sort_index(ascending=True, inplace=True)"
   ]
  },
  {
   "cell_type": "code",
   "execution_count": 51,
   "id": "f5122d1d",
   "metadata": {},
   "outputs": [
    {
     "data": {
      "image/png": "[encoded data removed]",
      "text/plain": [
       "<Figure size 432x288 with 2 Axes>"
      ]
     },
     "metadata": {
      "needs_background": "light"
     },
     "output_type": "display_data"
    }
   ],
   "source": [
    "sns.heatmap(table_precision*100, annot=True, linewidth=.5, cmap='Blues')\n",
    "plt.savefig('Resultados svm/Resultados 4/Precision.png')"
   ]
  },
  {
   "cell_type": "code",
   "execution_count": 52,
   "id": "68b46985",
   "metadata": {},
   "outputs": [
    {
     "data": {
      "image/png": "[encoded data removed]",
      "text/plain": [
       "<Figure size 432x288 with 2 Axes>"
      ]
     },
     "metadata": {
      "needs_background": "light"
     },
     "output_type": "display_data"
    }
   ],
   "source": [
    "sns.heatmap(table_precision2*100,  linewidth=.5, cmap='Reds')\n",
    "plt.savefig('Resultados svm/Resultados 4/Precision2.png')"
   ]
  },
  {
   "cell_type": "code",
   "execution_count": 53,
   "id": "01dce8c2",
   "metadata": {},
   "outputs": [],
   "source": [
    "table_recall = pd.pivot_table(resultados, values='recall', index=['Horizonte Arb'],\n",
    "                    columns=['Rezagos precios'], aggfunc=np.mean)\n",
    "table_recall=table_recall[[\"1\",\"3\",\"5\",\"10\"]]       \n",
    "table_recall.index = table_recall.index.astype(\"int\")                \n",
    "table_recall.sort_index(ascending=True, inplace=True)\n",
    "\n",
    "table_recall2 = pd.pivot_table(resultados, values='recall', index=['Horizonte Arb'],\n",
    "                    columns=['Rezagos precios'], aggfunc=np.std)\n",
    "table_recall2=table_recall2[[\"1\",\"3\",\"5\",\"10\"]]         \n",
    "table_recall2.index = table_recall2.index.astype(\"int\")                \n",
    "table_recall2.sort_index(ascending=True, inplace=True)"
   ]
  },
  {
   "cell_type": "code",
   "execution_count": 54,
   "id": "75f844e3",
   "metadata": {},
   "outputs": [
    {
     "data": {
      "image/png": "[encoded data removed]",
      "text/plain": [
       "<Figure size 432x288 with 2 Axes>"
      ]
     },
     "metadata": {
      "needs_background": "light"
     },
     "output_type": "display_data"
    }
   ],
   "source": [
    "sns.heatmap(table_recall*100, annot=True, linewidth=.5, cmap='Blues')\n",
    "plt.savefig('Resultados svm/Resultados 4/Recall.png')"
   ]
  },
  {
   "cell_type": "code",
   "execution_count": 55,
   "id": "b18212df",
   "metadata": {},
   "outputs": [
    {
     "data": {
      "image/png": "[encoded data removed]",
      "text/plain": [
       "<Figure size 432x288 with 2 Axes>"
      ]
     },
     "metadata": {
      "needs_background": "light"
     },
     "output_type": "display_data"
    }
   ],
   "source": [
    "sns.heatmap(table_recall2*100,  linewidth=.5, cmap='Reds')\n",
    "plt.savefig('Resultados svm/Resultados 4/Recall2.png')"
   ]
  },
  {
   "cell_type": "code",
   "execution_count": 56,
   "id": "514eac3e",
   "metadata": {},
   "outputs": [],
   "source": [
    "table_f1 = pd.pivot_table(resultados, values='f1', index=['Horizonte Arb'],\n",
    "                    columns=['Rezagos precios'], aggfunc=np.mean)\n",
    "table_f1=table_f1[[\"1\",\"3\",\"5\",\"10\"]]        \n",
    "table_f1.index = table_f1.index.astype(\"int\")                \n",
    "table_f1.sort_index(ascending=True, inplace=True)\n",
    "\n",
    "table_f12 = pd.pivot_table(resultados, values='f1', index=['Horizonte Arb'],\n",
    "                    columns=['Rezagos precios'], aggfunc=np.std)\n",
    "table_f12=table_f12[[\"1\",\"3\",\"5\",\"10\"]]        \n",
    "table_f12.index = table_f12.index.astype(\"int\")                \n",
    "table_f12.sort_index(ascending=True, inplace=True)"
   ]
  },
  {
   "cell_type": "code",
   "execution_count": 57,
   "id": "06d0e9a0",
   "metadata": {},
   "outputs": [
    {
     "data": {
      "image/png": "[encoded data removed]",
      "text/plain": [
       "<Figure size 432x288 with 2 Axes>"
      ]
     },
     "metadata": {
      "needs_background": "light"
     },
     "output_type": "display_data"
    }
   ],
   "source": [
    "sns.heatmap(table_f1*100, annot=True, linewidth=.5, cmap='Blues')\n",
    "plt.savefig('Resultados svm/Resultados 4/F1.png')"
   ]
  },
  {
   "cell_type": "code",
   "execution_count": 58,
   "id": "953ef4f8",
   "metadata": {},
   "outputs": [
    {
     "data": {
      "image/png": "[encoded data removed]",
      "text/plain": [
       "<Figure size 432x288 with 2 Axes>"
      ]
     },
     "metadata": {
      "needs_background": "light"
     },
     "output_type": "display_data"
    }
   ],
   "source": [
    "sns.heatmap(table_f12*100,  linewidth=.5, cmap='Reds')\n",
    "plt.savefig('Resultados svm/Resultados 4/F12.png')"
   ]
  },
  {
   "cell_type": "code",
   "execution_count": 59,
   "id": "f9a89289",
   "metadata": {},
   "outputs": [],
   "source": [
    "with pd.ExcelWriter('Resultados svm/Resultados 4/Multiclase.xlsx') as writer:\n",
    "    resultados.to_excel(writer, sheet_name='Resultados generales', index=False)\n",
    "    \n",
    "    table_precision.to_excel(writer, sheet_name='Media precision', index=True)\n",
    "    table_precision2.to_excel(writer, sheet_name='STD precision', index=True)\n",
    "    \n",
    "    table_recall.to_excel(writer, sheet_name='Media recall', index=True)\n",
    "    table_recall2.to_excel(writer, sheet_name='STD recall', index=True)\n",
    "    \n",
    "    table_f1.to_excel(writer, sheet_name='Media f1', index=True)\n",
    "    table_f12.to_excel(writer, sheet_name='STD f1', index=True)"
   ]
  }
 ],
 "metadata": {
  "kernelspec": {
   "display_name": "Python 3 (ipykernel)",
   "language": "python",
   "name": "python3"
  },
  "language_info": {
   "codemirror_mode": {
    "name": "ipython",
    "version": 3
   },
   "file_extension": ".py",
   "mimetype": "text/x-python",
   "name": "python",
   "nbconvert_exporter": "python",
   "pygments_lexer": "ipython3",
   "version": "3.9.12"
  }
 },
 "nbformat": 4,
 "nbformat_minor": 5
}
